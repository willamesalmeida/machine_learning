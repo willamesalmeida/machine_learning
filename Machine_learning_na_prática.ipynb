{
  "nbformat": 4,
  "nbformat_minor": 0,
  "metadata": {
    "colab": {
      "name": "Machine learning na prática.ipynb",
      "provenance": [],
      "collapsed_sections": [],
      "toc_visible": true,
      "authorship_tag": "ABX9TyNkMHY2SVfIaWtSyw9XXy95",
      "include_colab_link": true
    },
    "kernelspec": {
      "name": "python3",
      "display_name": "Python 3"
    }
  },
  "cells": [
    {
      "cell_type": "markdown",
      "metadata": {
        "id": "view-in-github",
        "colab_type": "text"
      },
      "source": [
        "<a href=\"https://colab.research.google.com/github/willamesalmeida/machine_learning/blob/master/Machine_learning_na_pr%C3%A1tica.ipynb\" target=\"_parent\"><img src=\"https://colab.research.google.com/assets/colab-badge.svg\" alt=\"Open In Colab\"/></a>"
      ]
    },
    {
      "cell_type": "markdown",
      "metadata": {
        "id": "ssxvOVtia25M",
        "colab_type": "text"
      },
      "source": [
        "**O DATASET analisado é sobre qualidade de vinho e pode ser encontrado no seguinte sitio:**\n",
        "\n",
        "https://www.kaggle.com/uciml/red-wine-quality-cortez-et-al-2009 "
      ]
    },
    {
      "cell_type": "code",
      "metadata": {
        "id": "36PY1BcMiw0R",
        "colab_type": "code",
        "colab": {
          "base_uri": "https://localhost:8080/",
          "height": 34
        },
        "outputId": "4d9a5284-9808-4aa9-8a38-ba877199d46a"
      },
      "source": [
        "from google.colab import drive\n",
        "drive.mount('/content/drive/')"
      ],
      "execution_count": 1194,
      "outputs": [
        {
          "output_type": "stream",
          "text": [
            "Drive already mounted at /content/drive/; to attempt to forcibly remount, call drive.mount(\"/content/drive/\", force_remount=True).\n"
          ],
          "name": "stdout"
        }
      ]
    },
    {
      "cell_type": "markdown",
      "metadata": {
        "id": "lPHk39mkke3o",
        "colab_type": "text"
      },
      "source": [
        "#1 Fazendo os importes da biblioteca"
      ]
    },
    {
      "cell_type": "code",
      "metadata": {
        "id": "b8ynFsVywdM3",
        "colab_type": "code",
        "colab": {}
      },
      "source": [
        "  import numpy as np\n",
        "  import pandas as pd\n",
        "  import matplotlib.pyplot as plt\n",
        "  import seaborn as sns\n",
        "  from sklearn.model_selection import train_test_split\n",
        "  from sklearn.tree import DecisionTreeClassifier\n",
        "  from sklearn.tree import plot_tree\n",
        "  from sklearn.metrics import accuracy_score\n",
        "  from sklearn.metrics import precision_score\n",
        "  from sklearn.metrics import recall_score\n",
        "  from sklearn.metrics import f1_score\n",
        "  from sklearn.metrics  import roc_auc_score\n",
        "  from sklearn.model_selection import KFold\n",
        "  from sklearn.model_selection import cross_val_score\n",
        "  from sklearn.ensemble import RandomForestClassifier"
      ],
      "execution_count": 1251,
      "outputs": []
    },
    {
      "cell_type": "markdown",
      "metadata": {
        "id": "Hs0M8SkkkFM1",
        "colab_type": "text"
      },
      "source": [
        "# 2 fazendo a leitura e o carregamento dos dados na memória\n",
        "\n"
      ]
    },
    {
      "cell_type": "code",
      "metadata": {
        "id": "065m-8i4Hn0m",
        "colab_type": "code",
        "colab": {}
      },
      "source": [
        "#lendo o dataset video_games_sales \n",
        "dados = pd.read_csv('/content/drive//My Drive/Colab Notebooks/Dataset/winequality-red.csv')"
      ],
      "execution_count": 1196,
      "outputs": []
    },
    {
      "cell_type": "code",
      "metadata": {
        "id": "6d7VbvfbNfrR",
        "colab_type": "code",
        "colab": {
          "base_uri": "https://localhost:8080/",
          "height": 85
        },
        "outputId": "eae11ca0-263b-42e7-cd64-282c91d71699"
      },
      "source": [
        "#verificando as colunas do arquivo\n",
        "dados.columns"
      ],
      "execution_count": 1197,
      "outputs": [
        {
          "output_type": "execute_result",
          "data": {
            "text/plain": [
              "Index(['fixed acidity', 'volatile acidity', 'citric acid', 'residual sugar',\n",
              "       'chlorides', 'free sulfur dioxide', 'total sulfur dioxide', 'density',\n",
              "       'pH', 'sulphates', 'alcohol', 'quality'],\n",
              "      dtype='object')"
            ]
          },
          "metadata": {
            "tags": []
          },
          "execution_count": 1197
        }
      ]
    },
    {
      "cell_type": "code",
      "metadata": {
        "id": "PMjYm8NqKCCP",
        "colab_type": "code",
        "colab": {
          "base_uri": "https://localhost:8080/",
          "height": 204
        },
        "outputId": "5fdc55ee-eec5-48ab-da6d-e867ae0f8d95"
      },
      "source": [
        "#visualizando algumas linhas \n",
        "dados.head()"
      ],
      "execution_count": 1198,
      "outputs": [
        {
          "output_type": "execute_result",
          "data": {
            "text/html": [
              "<div>\n",
              "<style scoped>\n",
              "    .dataframe tbody tr th:only-of-type {\n",
              "        vertical-align: middle;\n",
              "    }\n",
              "\n",
              "    .dataframe tbody tr th {\n",
              "        vertical-align: top;\n",
              "    }\n",
              "\n",
              "    .dataframe thead th {\n",
              "        text-align: right;\n",
              "    }\n",
              "</style>\n",
              "<table border=\"1\" class=\"dataframe\">\n",
              "  <thead>\n",
              "    <tr style=\"text-align: right;\">\n",
              "      <th></th>\n",
              "      <th>fixed acidity</th>\n",
              "      <th>volatile acidity</th>\n",
              "      <th>citric acid</th>\n",
              "      <th>residual sugar</th>\n",
              "      <th>chlorides</th>\n",
              "      <th>free sulfur dioxide</th>\n",
              "      <th>total sulfur dioxide</th>\n",
              "      <th>density</th>\n",
              "      <th>pH</th>\n",
              "      <th>sulphates</th>\n",
              "      <th>alcohol</th>\n",
              "      <th>quality</th>\n",
              "    </tr>\n",
              "  </thead>\n",
              "  <tbody>\n",
              "    <tr>\n",
              "      <th>0</th>\n",
              "      <td>7.4</td>\n",
              "      <td>0.70</td>\n",
              "      <td>0.00</td>\n",
              "      <td>1.9</td>\n",
              "      <td>0.076</td>\n",
              "      <td>11.0</td>\n",
              "      <td>34.0</td>\n",
              "      <td>0.9978</td>\n",
              "      <td>3.51</td>\n",
              "      <td>0.56</td>\n",
              "      <td>9.4</td>\n",
              "      <td>5</td>\n",
              "    </tr>\n",
              "    <tr>\n",
              "      <th>1</th>\n",
              "      <td>7.8</td>\n",
              "      <td>0.88</td>\n",
              "      <td>0.00</td>\n",
              "      <td>2.6</td>\n",
              "      <td>0.098</td>\n",
              "      <td>25.0</td>\n",
              "      <td>67.0</td>\n",
              "      <td>0.9968</td>\n",
              "      <td>3.20</td>\n",
              "      <td>0.68</td>\n",
              "      <td>9.8</td>\n",
              "      <td>5</td>\n",
              "    </tr>\n",
              "    <tr>\n",
              "      <th>2</th>\n",
              "      <td>7.8</td>\n",
              "      <td>0.76</td>\n",
              "      <td>0.04</td>\n",
              "      <td>2.3</td>\n",
              "      <td>0.092</td>\n",
              "      <td>15.0</td>\n",
              "      <td>54.0</td>\n",
              "      <td>0.9970</td>\n",
              "      <td>3.26</td>\n",
              "      <td>0.65</td>\n",
              "      <td>9.8</td>\n",
              "      <td>5</td>\n",
              "    </tr>\n",
              "    <tr>\n",
              "      <th>3</th>\n",
              "      <td>11.2</td>\n",
              "      <td>0.28</td>\n",
              "      <td>0.56</td>\n",
              "      <td>1.9</td>\n",
              "      <td>0.075</td>\n",
              "      <td>17.0</td>\n",
              "      <td>60.0</td>\n",
              "      <td>0.9980</td>\n",
              "      <td>3.16</td>\n",
              "      <td>0.58</td>\n",
              "      <td>9.8</td>\n",
              "      <td>6</td>\n",
              "    </tr>\n",
              "    <tr>\n",
              "      <th>4</th>\n",
              "      <td>7.4</td>\n",
              "      <td>0.70</td>\n",
              "      <td>0.00</td>\n",
              "      <td>1.9</td>\n",
              "      <td>0.076</td>\n",
              "      <td>11.0</td>\n",
              "      <td>34.0</td>\n",
              "      <td>0.9978</td>\n",
              "      <td>3.51</td>\n",
              "      <td>0.56</td>\n",
              "      <td>9.4</td>\n",
              "      <td>5</td>\n",
              "    </tr>\n",
              "  </tbody>\n",
              "</table>\n",
              "</div>"
            ],
            "text/plain": [
              "   fixed acidity  volatile acidity  citric acid  ...  sulphates  alcohol  quality\n",
              "0            7.4              0.70         0.00  ...       0.56      9.4        5\n",
              "1            7.8              0.88         0.00  ...       0.68      9.8        5\n",
              "2            7.8              0.76         0.04  ...       0.65      9.8        5\n",
              "3           11.2              0.28         0.56  ...       0.58      9.8        6\n",
              "4            7.4              0.70         0.00  ...       0.56      9.4        5\n",
              "\n",
              "[5 rows x 12 columns]"
            ]
          },
          "metadata": {
            "tags": []
          },
          "execution_count": 1198
        }
      ]
    },
    {
      "cell_type": "markdown",
      "metadata": {
        "id": "D2CEaRv_j989",
        "colab_type": "text"
      },
      "source": [
        ""
      ]
    },
    {
      "cell_type": "markdown",
      "metadata": {
        "id": "vQp7s2-Pk2g9",
        "colab_type": "text"
      },
      "source": [
        "# 3 Tratando os dados e fazendo limpeza"
      ]
    },
    {
      "cell_type": "code",
      "metadata": {
        "id": "dU8mPFqzWiuF",
        "colab_type": "code",
        "colab": {
          "base_uri": "https://localhost:8080/",
          "height": 34
        },
        "outputId": "1c80571a-2108-4fa1-f831-f51804caece1"
      },
      "source": [
        "#verificando a quantidade de linhas e colunas\n",
        "dados.shape"
      ],
      "execution_count": 1199,
      "outputs": [
        {
          "output_type": "execute_result",
          "data": {
            "text/plain": [
              "(1599, 12)"
            ]
          },
          "metadata": {
            "tags": []
          },
          "execution_count": 1199
        }
      ]
    },
    {
      "cell_type": "code",
      "metadata": {
        "id": "wNELfsX-NAxi",
        "colab_type": "code",
        "colab": {
          "base_uri": "https://localhost:8080/",
          "height": 34
        },
        "outputId": "42066706-fd5f-4b40-a864-3e13dc78e65a"
      },
      "source": [
        "#removendo valores duplicados e visualizando se teve muita diferença utilizando shape (possuia alguns valores duplicados) \n",
        "dados = dados.drop_duplicates()\n",
        "dados.shape"
      ],
      "execution_count": 1200,
      "outputs": [
        {
          "output_type": "execute_result",
          "data": {
            "text/plain": [
              "(1359, 12)"
            ]
          },
          "metadata": {
            "tags": []
          },
          "execution_count": 1200
        }
      ]
    },
    {
      "cell_type": "code",
      "metadata": {
        "id": "stMSaTDwRjbH",
        "colab_type": "code",
        "colab": {
          "base_uri": "https://localhost:8080/",
          "height": 34
        },
        "outputId": "a80edffb-3933-4385-f032-f98017c0b621"
      },
      "source": [
        "#Removendo os valores NAN (não possuia NAN)\n",
        "dados = dados.dropna()\n",
        "dados.shape"
      ],
      "execution_count": 1201,
      "outputs": [
        {
          "output_type": "execute_result",
          "data": {
            "text/plain": [
              "(1359, 12)"
            ]
          },
          "metadata": {
            "tags": []
          },
          "execution_count": 1201
        }
      ]
    },
    {
      "cell_type": "code",
      "metadata": {
        "id": "FbG4YNIQSA31",
        "colab_type": "code",
        "colab": {
          "base_uri": "https://localhost:8080/",
          "height": 238
        },
        "outputId": "946d63d2-13d9-4d54-a6f0-edd1e541f761"
      },
      "source": [
        "#verificando a quantidade de valores nulos dentro do dataframe\n",
        "dados.isnull().sum()"
      ],
      "execution_count": 1202,
      "outputs": [
        {
          "output_type": "execute_result",
          "data": {
            "text/plain": [
              "fixed acidity           0\n",
              "volatile acidity        0\n",
              "citric acid             0\n",
              "residual sugar          0\n",
              "chlorides               0\n",
              "free sulfur dioxide     0\n",
              "total sulfur dioxide    0\n",
              "density                 0\n",
              "pH                      0\n",
              "sulphates               0\n",
              "alcohol                 0\n",
              "quality                 0\n",
              "dtype: int64"
            ]
          },
          "metadata": {
            "tags": []
          },
          "execution_count": 1202
        }
      ]
    },
    {
      "cell_type": "code",
      "metadata": {
        "id": "3KwEU1taSR1A",
        "colab_type": "code",
        "colab": {
          "base_uri": "https://localhost:8080/",
          "height": 1000
        },
        "outputId": "5b8d9655-a6ee-4b2f-f2e4-c49236ee084b"
      },
      "source": [
        "#renomeando as colunas para failcitar a analise posteriormente\n",
        "dados = dados.rename(columns={'fixed acidity':'fixed_acidity', 'volatile acidity': 'volatile_acidity', 'residual sugar': 'residual_sugar', 'free sulfur dioxide':'free_sulfur_dioxide', 'total sulfur dioxide':'total_sulfur_dioxide','citric acid':'citric_acid' })\n",
        "#Visualizando a tabela com a nova nomeclatura\n",
        "dados.head(35)"
      ],
      "execution_count": 1203,
      "outputs": [
        {
          "output_type": "execute_result",
          "data": {
            "text/html": [
              "<div>\n",
              "<style scoped>\n",
              "    .dataframe tbody tr th:only-of-type {\n",
              "        vertical-align: middle;\n",
              "    }\n",
              "\n",
              "    .dataframe tbody tr th {\n",
              "        vertical-align: top;\n",
              "    }\n",
              "\n",
              "    .dataframe thead th {\n",
              "        text-align: right;\n",
              "    }\n",
              "</style>\n",
              "<table border=\"1\" class=\"dataframe\">\n",
              "  <thead>\n",
              "    <tr style=\"text-align: right;\">\n",
              "      <th></th>\n",
              "      <th>fixed_acidity</th>\n",
              "      <th>volatile_acidity</th>\n",
              "      <th>citric_acid</th>\n",
              "      <th>residual_sugar</th>\n",
              "      <th>chlorides</th>\n",
              "      <th>free_sulfur_dioxide</th>\n",
              "      <th>total_sulfur_dioxide</th>\n",
              "      <th>density</th>\n",
              "      <th>pH</th>\n",
              "      <th>sulphates</th>\n",
              "      <th>alcohol</th>\n",
              "      <th>quality</th>\n",
              "    </tr>\n",
              "  </thead>\n",
              "  <tbody>\n",
              "    <tr>\n",
              "      <th>0</th>\n",
              "      <td>7.4</td>\n",
              "      <td>0.700</td>\n",
              "      <td>0.00</td>\n",
              "      <td>1.9</td>\n",
              "      <td>0.076</td>\n",
              "      <td>11.0</td>\n",
              "      <td>34.0</td>\n",
              "      <td>0.9978</td>\n",
              "      <td>3.51</td>\n",
              "      <td>0.56</td>\n",
              "      <td>9.4</td>\n",
              "      <td>5</td>\n",
              "    </tr>\n",
              "    <tr>\n",
              "      <th>1</th>\n",
              "      <td>7.8</td>\n",
              "      <td>0.880</td>\n",
              "      <td>0.00</td>\n",
              "      <td>2.6</td>\n",
              "      <td>0.098</td>\n",
              "      <td>25.0</td>\n",
              "      <td>67.0</td>\n",
              "      <td>0.9968</td>\n",
              "      <td>3.20</td>\n",
              "      <td>0.68</td>\n",
              "      <td>9.8</td>\n",
              "      <td>5</td>\n",
              "    </tr>\n",
              "    <tr>\n",
              "      <th>2</th>\n",
              "      <td>7.8</td>\n",
              "      <td>0.760</td>\n",
              "      <td>0.04</td>\n",
              "      <td>2.3</td>\n",
              "      <td>0.092</td>\n",
              "      <td>15.0</td>\n",
              "      <td>54.0</td>\n",
              "      <td>0.9970</td>\n",
              "      <td>3.26</td>\n",
              "      <td>0.65</td>\n",
              "      <td>9.8</td>\n",
              "      <td>5</td>\n",
              "    </tr>\n",
              "    <tr>\n",
              "      <th>3</th>\n",
              "      <td>11.2</td>\n",
              "      <td>0.280</td>\n",
              "      <td>0.56</td>\n",
              "      <td>1.9</td>\n",
              "      <td>0.075</td>\n",
              "      <td>17.0</td>\n",
              "      <td>60.0</td>\n",
              "      <td>0.9980</td>\n",
              "      <td>3.16</td>\n",
              "      <td>0.58</td>\n",
              "      <td>9.8</td>\n",
              "      <td>6</td>\n",
              "    </tr>\n",
              "    <tr>\n",
              "      <th>5</th>\n",
              "      <td>7.4</td>\n",
              "      <td>0.660</td>\n",
              "      <td>0.00</td>\n",
              "      <td>1.8</td>\n",
              "      <td>0.075</td>\n",
              "      <td>13.0</td>\n",
              "      <td>40.0</td>\n",
              "      <td>0.9978</td>\n",
              "      <td>3.51</td>\n",
              "      <td>0.56</td>\n",
              "      <td>9.4</td>\n",
              "      <td>5</td>\n",
              "    </tr>\n",
              "    <tr>\n",
              "      <th>6</th>\n",
              "      <td>7.9</td>\n",
              "      <td>0.600</td>\n",
              "      <td>0.06</td>\n",
              "      <td>1.6</td>\n",
              "      <td>0.069</td>\n",
              "      <td>15.0</td>\n",
              "      <td>59.0</td>\n",
              "      <td>0.9964</td>\n",
              "      <td>3.30</td>\n",
              "      <td>0.46</td>\n",
              "      <td>9.4</td>\n",
              "      <td>5</td>\n",
              "    </tr>\n",
              "    <tr>\n",
              "      <th>7</th>\n",
              "      <td>7.3</td>\n",
              "      <td>0.650</td>\n",
              "      <td>0.00</td>\n",
              "      <td>1.2</td>\n",
              "      <td>0.065</td>\n",
              "      <td>15.0</td>\n",
              "      <td>21.0</td>\n",
              "      <td>0.9946</td>\n",
              "      <td>3.39</td>\n",
              "      <td>0.47</td>\n",
              "      <td>10.0</td>\n",
              "      <td>7</td>\n",
              "    </tr>\n",
              "    <tr>\n",
              "      <th>8</th>\n",
              "      <td>7.8</td>\n",
              "      <td>0.580</td>\n",
              "      <td>0.02</td>\n",
              "      <td>2.0</td>\n",
              "      <td>0.073</td>\n",
              "      <td>9.0</td>\n",
              "      <td>18.0</td>\n",
              "      <td>0.9968</td>\n",
              "      <td>3.36</td>\n",
              "      <td>0.57</td>\n",
              "      <td>9.5</td>\n",
              "      <td>7</td>\n",
              "    </tr>\n",
              "    <tr>\n",
              "      <th>9</th>\n",
              "      <td>7.5</td>\n",
              "      <td>0.500</td>\n",
              "      <td>0.36</td>\n",
              "      <td>6.1</td>\n",
              "      <td>0.071</td>\n",
              "      <td>17.0</td>\n",
              "      <td>102.0</td>\n",
              "      <td>0.9978</td>\n",
              "      <td>3.35</td>\n",
              "      <td>0.80</td>\n",
              "      <td>10.5</td>\n",
              "      <td>5</td>\n",
              "    </tr>\n",
              "    <tr>\n",
              "      <th>10</th>\n",
              "      <td>6.7</td>\n",
              "      <td>0.580</td>\n",
              "      <td>0.08</td>\n",
              "      <td>1.8</td>\n",
              "      <td>0.097</td>\n",
              "      <td>15.0</td>\n",
              "      <td>65.0</td>\n",
              "      <td>0.9959</td>\n",
              "      <td>3.28</td>\n",
              "      <td>0.54</td>\n",
              "      <td>9.2</td>\n",
              "      <td>5</td>\n",
              "    </tr>\n",
              "    <tr>\n",
              "      <th>12</th>\n",
              "      <td>5.6</td>\n",
              "      <td>0.615</td>\n",
              "      <td>0.00</td>\n",
              "      <td>1.6</td>\n",
              "      <td>0.089</td>\n",
              "      <td>16.0</td>\n",
              "      <td>59.0</td>\n",
              "      <td>0.9943</td>\n",
              "      <td>3.58</td>\n",
              "      <td>0.52</td>\n",
              "      <td>9.9</td>\n",
              "      <td>5</td>\n",
              "    </tr>\n",
              "    <tr>\n",
              "      <th>13</th>\n",
              "      <td>7.8</td>\n",
              "      <td>0.610</td>\n",
              "      <td>0.29</td>\n",
              "      <td>1.6</td>\n",
              "      <td>0.114</td>\n",
              "      <td>9.0</td>\n",
              "      <td>29.0</td>\n",
              "      <td>0.9974</td>\n",
              "      <td>3.26</td>\n",
              "      <td>1.56</td>\n",
              "      <td>9.1</td>\n",
              "      <td>5</td>\n",
              "    </tr>\n",
              "    <tr>\n",
              "      <th>14</th>\n",
              "      <td>8.9</td>\n",
              "      <td>0.620</td>\n",
              "      <td>0.18</td>\n",
              "      <td>3.8</td>\n",
              "      <td>0.176</td>\n",
              "      <td>52.0</td>\n",
              "      <td>145.0</td>\n",
              "      <td>0.9986</td>\n",
              "      <td>3.16</td>\n",
              "      <td>0.88</td>\n",
              "      <td>9.2</td>\n",
              "      <td>5</td>\n",
              "    </tr>\n",
              "    <tr>\n",
              "      <th>15</th>\n",
              "      <td>8.9</td>\n",
              "      <td>0.620</td>\n",
              "      <td>0.19</td>\n",
              "      <td>3.9</td>\n",
              "      <td>0.170</td>\n",
              "      <td>51.0</td>\n",
              "      <td>148.0</td>\n",
              "      <td>0.9986</td>\n",
              "      <td>3.17</td>\n",
              "      <td>0.93</td>\n",
              "      <td>9.2</td>\n",
              "      <td>5</td>\n",
              "    </tr>\n",
              "    <tr>\n",
              "      <th>16</th>\n",
              "      <td>8.5</td>\n",
              "      <td>0.280</td>\n",
              "      <td>0.56</td>\n",
              "      <td>1.8</td>\n",
              "      <td>0.092</td>\n",
              "      <td>35.0</td>\n",
              "      <td>103.0</td>\n",
              "      <td>0.9969</td>\n",
              "      <td>3.30</td>\n",
              "      <td>0.75</td>\n",
              "      <td>10.5</td>\n",
              "      <td>7</td>\n",
              "    </tr>\n",
              "    <tr>\n",
              "      <th>17</th>\n",
              "      <td>8.1</td>\n",
              "      <td>0.560</td>\n",
              "      <td>0.28</td>\n",
              "      <td>1.7</td>\n",
              "      <td>0.368</td>\n",
              "      <td>16.0</td>\n",
              "      <td>56.0</td>\n",
              "      <td>0.9968</td>\n",
              "      <td>3.11</td>\n",
              "      <td>1.28</td>\n",
              "      <td>9.3</td>\n",
              "      <td>5</td>\n",
              "    </tr>\n",
              "    <tr>\n",
              "      <th>18</th>\n",
              "      <td>7.4</td>\n",
              "      <td>0.590</td>\n",
              "      <td>0.08</td>\n",
              "      <td>4.4</td>\n",
              "      <td>0.086</td>\n",
              "      <td>6.0</td>\n",
              "      <td>29.0</td>\n",
              "      <td>0.9974</td>\n",
              "      <td>3.38</td>\n",
              "      <td>0.50</td>\n",
              "      <td>9.0</td>\n",
              "      <td>4</td>\n",
              "    </tr>\n",
              "    <tr>\n",
              "      <th>19</th>\n",
              "      <td>7.9</td>\n",
              "      <td>0.320</td>\n",
              "      <td>0.51</td>\n",
              "      <td>1.8</td>\n",
              "      <td>0.341</td>\n",
              "      <td>17.0</td>\n",
              "      <td>56.0</td>\n",
              "      <td>0.9969</td>\n",
              "      <td>3.04</td>\n",
              "      <td>1.08</td>\n",
              "      <td>9.2</td>\n",
              "      <td>6</td>\n",
              "    </tr>\n",
              "    <tr>\n",
              "      <th>20</th>\n",
              "      <td>8.9</td>\n",
              "      <td>0.220</td>\n",
              "      <td>0.48</td>\n",
              "      <td>1.8</td>\n",
              "      <td>0.077</td>\n",
              "      <td>29.0</td>\n",
              "      <td>60.0</td>\n",
              "      <td>0.9968</td>\n",
              "      <td>3.39</td>\n",
              "      <td>0.53</td>\n",
              "      <td>9.4</td>\n",
              "      <td>6</td>\n",
              "    </tr>\n",
              "    <tr>\n",
              "      <th>21</th>\n",
              "      <td>7.6</td>\n",
              "      <td>0.390</td>\n",
              "      <td>0.31</td>\n",
              "      <td>2.3</td>\n",
              "      <td>0.082</td>\n",
              "      <td>23.0</td>\n",
              "      <td>71.0</td>\n",
              "      <td>0.9982</td>\n",
              "      <td>3.52</td>\n",
              "      <td>0.65</td>\n",
              "      <td>9.7</td>\n",
              "      <td>5</td>\n",
              "    </tr>\n",
              "    <tr>\n",
              "      <th>22</th>\n",
              "      <td>7.9</td>\n",
              "      <td>0.430</td>\n",
              "      <td>0.21</td>\n",
              "      <td>1.6</td>\n",
              "      <td>0.106</td>\n",
              "      <td>10.0</td>\n",
              "      <td>37.0</td>\n",
              "      <td>0.9966</td>\n",
              "      <td>3.17</td>\n",
              "      <td>0.91</td>\n",
              "      <td>9.5</td>\n",
              "      <td>5</td>\n",
              "    </tr>\n",
              "    <tr>\n",
              "      <th>23</th>\n",
              "      <td>8.5</td>\n",
              "      <td>0.490</td>\n",
              "      <td>0.11</td>\n",
              "      <td>2.3</td>\n",
              "      <td>0.084</td>\n",
              "      <td>9.0</td>\n",
              "      <td>67.0</td>\n",
              "      <td>0.9968</td>\n",
              "      <td>3.17</td>\n",
              "      <td>0.53</td>\n",
              "      <td>9.4</td>\n",
              "      <td>5</td>\n",
              "    </tr>\n",
              "    <tr>\n",
              "      <th>24</th>\n",
              "      <td>6.9</td>\n",
              "      <td>0.400</td>\n",
              "      <td>0.14</td>\n",
              "      <td>2.4</td>\n",
              "      <td>0.085</td>\n",
              "      <td>21.0</td>\n",
              "      <td>40.0</td>\n",
              "      <td>0.9968</td>\n",
              "      <td>3.43</td>\n",
              "      <td>0.63</td>\n",
              "      <td>9.7</td>\n",
              "      <td>6</td>\n",
              "    </tr>\n",
              "    <tr>\n",
              "      <th>25</th>\n",
              "      <td>6.3</td>\n",
              "      <td>0.390</td>\n",
              "      <td>0.16</td>\n",
              "      <td>1.4</td>\n",
              "      <td>0.080</td>\n",
              "      <td>11.0</td>\n",
              "      <td>23.0</td>\n",
              "      <td>0.9955</td>\n",
              "      <td>3.34</td>\n",
              "      <td>0.56</td>\n",
              "      <td>9.3</td>\n",
              "      <td>5</td>\n",
              "    </tr>\n",
              "    <tr>\n",
              "      <th>26</th>\n",
              "      <td>7.6</td>\n",
              "      <td>0.410</td>\n",
              "      <td>0.24</td>\n",
              "      <td>1.8</td>\n",
              "      <td>0.080</td>\n",
              "      <td>4.0</td>\n",
              "      <td>11.0</td>\n",
              "      <td>0.9962</td>\n",
              "      <td>3.28</td>\n",
              "      <td>0.59</td>\n",
              "      <td>9.5</td>\n",
              "      <td>5</td>\n",
              "    </tr>\n",
              "    <tr>\n",
              "      <th>28</th>\n",
              "      <td>7.1</td>\n",
              "      <td>0.710</td>\n",
              "      <td>0.00</td>\n",
              "      <td>1.9</td>\n",
              "      <td>0.080</td>\n",
              "      <td>14.0</td>\n",
              "      <td>35.0</td>\n",
              "      <td>0.9972</td>\n",
              "      <td>3.47</td>\n",
              "      <td>0.55</td>\n",
              "      <td>9.4</td>\n",
              "      <td>5</td>\n",
              "    </tr>\n",
              "    <tr>\n",
              "      <th>29</th>\n",
              "      <td>7.8</td>\n",
              "      <td>0.645</td>\n",
              "      <td>0.00</td>\n",
              "      <td>2.0</td>\n",
              "      <td>0.082</td>\n",
              "      <td>8.0</td>\n",
              "      <td>16.0</td>\n",
              "      <td>0.9964</td>\n",
              "      <td>3.38</td>\n",
              "      <td>0.59</td>\n",
              "      <td>9.8</td>\n",
              "      <td>6</td>\n",
              "    </tr>\n",
              "    <tr>\n",
              "      <th>30</th>\n",
              "      <td>6.7</td>\n",
              "      <td>0.675</td>\n",
              "      <td>0.07</td>\n",
              "      <td>2.4</td>\n",
              "      <td>0.089</td>\n",
              "      <td>17.0</td>\n",
              "      <td>82.0</td>\n",
              "      <td>0.9958</td>\n",
              "      <td>3.35</td>\n",
              "      <td>0.54</td>\n",
              "      <td>10.1</td>\n",
              "      <td>5</td>\n",
              "    </tr>\n",
              "    <tr>\n",
              "      <th>31</th>\n",
              "      <td>6.9</td>\n",
              "      <td>0.685</td>\n",
              "      <td>0.00</td>\n",
              "      <td>2.5</td>\n",
              "      <td>0.105</td>\n",
              "      <td>22.0</td>\n",
              "      <td>37.0</td>\n",
              "      <td>0.9966</td>\n",
              "      <td>3.46</td>\n",
              "      <td>0.57</td>\n",
              "      <td>10.6</td>\n",
              "      <td>6</td>\n",
              "    </tr>\n",
              "    <tr>\n",
              "      <th>32</th>\n",
              "      <td>8.3</td>\n",
              "      <td>0.655</td>\n",
              "      <td>0.12</td>\n",
              "      <td>2.3</td>\n",
              "      <td>0.083</td>\n",
              "      <td>15.0</td>\n",
              "      <td>113.0</td>\n",
              "      <td>0.9966</td>\n",
              "      <td>3.17</td>\n",
              "      <td>0.66</td>\n",
              "      <td>9.8</td>\n",
              "      <td>5</td>\n",
              "    </tr>\n",
              "    <tr>\n",
              "      <th>33</th>\n",
              "      <td>6.9</td>\n",
              "      <td>0.605</td>\n",
              "      <td>0.12</td>\n",
              "      <td>10.7</td>\n",
              "      <td>0.073</td>\n",
              "      <td>40.0</td>\n",
              "      <td>83.0</td>\n",
              "      <td>0.9993</td>\n",
              "      <td>3.45</td>\n",
              "      <td>0.52</td>\n",
              "      <td>9.4</td>\n",
              "      <td>6</td>\n",
              "    </tr>\n",
              "    <tr>\n",
              "      <th>34</th>\n",
              "      <td>5.2</td>\n",
              "      <td>0.320</td>\n",
              "      <td>0.25</td>\n",
              "      <td>1.8</td>\n",
              "      <td>0.103</td>\n",
              "      <td>13.0</td>\n",
              "      <td>50.0</td>\n",
              "      <td>0.9957</td>\n",
              "      <td>3.38</td>\n",
              "      <td>0.55</td>\n",
              "      <td>9.2</td>\n",
              "      <td>5</td>\n",
              "    </tr>\n",
              "    <tr>\n",
              "      <th>35</th>\n",
              "      <td>7.8</td>\n",
              "      <td>0.645</td>\n",
              "      <td>0.00</td>\n",
              "      <td>5.5</td>\n",
              "      <td>0.086</td>\n",
              "      <td>5.0</td>\n",
              "      <td>18.0</td>\n",
              "      <td>0.9986</td>\n",
              "      <td>3.40</td>\n",
              "      <td>0.55</td>\n",
              "      <td>9.6</td>\n",
              "      <td>6</td>\n",
              "    </tr>\n",
              "    <tr>\n",
              "      <th>36</th>\n",
              "      <td>7.8</td>\n",
              "      <td>0.600</td>\n",
              "      <td>0.14</td>\n",
              "      <td>2.4</td>\n",
              "      <td>0.086</td>\n",
              "      <td>3.0</td>\n",
              "      <td>15.0</td>\n",
              "      <td>0.9975</td>\n",
              "      <td>3.42</td>\n",
              "      <td>0.60</td>\n",
              "      <td>10.8</td>\n",
              "      <td>6</td>\n",
              "    </tr>\n",
              "    <tr>\n",
              "      <th>37</th>\n",
              "      <td>8.1</td>\n",
              "      <td>0.380</td>\n",
              "      <td>0.28</td>\n",
              "      <td>2.1</td>\n",
              "      <td>0.066</td>\n",
              "      <td>13.0</td>\n",
              "      <td>30.0</td>\n",
              "      <td>0.9968</td>\n",
              "      <td>3.23</td>\n",
              "      <td>0.73</td>\n",
              "      <td>9.7</td>\n",
              "      <td>7</td>\n",
              "    </tr>\n",
              "  </tbody>\n",
              "</table>\n",
              "</div>"
            ],
            "text/plain": [
              "    fixed_acidity  volatile_acidity  citric_acid  ...  sulphates  alcohol  quality\n",
              "0             7.4             0.700         0.00  ...       0.56      9.4        5\n",
              "1             7.8             0.880         0.00  ...       0.68      9.8        5\n",
              "2             7.8             0.760         0.04  ...       0.65      9.8        5\n",
              "3            11.2             0.280         0.56  ...       0.58      9.8        6\n",
              "5             7.4             0.660         0.00  ...       0.56      9.4        5\n",
              "6             7.9             0.600         0.06  ...       0.46      9.4        5\n",
              "7             7.3             0.650         0.00  ...       0.47     10.0        7\n",
              "8             7.8             0.580         0.02  ...       0.57      9.5        7\n",
              "9             7.5             0.500         0.36  ...       0.80     10.5        5\n",
              "10            6.7             0.580         0.08  ...       0.54      9.2        5\n",
              "12            5.6             0.615         0.00  ...       0.52      9.9        5\n",
              "13            7.8             0.610         0.29  ...       1.56      9.1        5\n",
              "14            8.9             0.620         0.18  ...       0.88      9.2        5\n",
              "15            8.9             0.620         0.19  ...       0.93      9.2        5\n",
              "16            8.5             0.280         0.56  ...       0.75     10.5        7\n",
              "17            8.1             0.560         0.28  ...       1.28      9.3        5\n",
              "18            7.4             0.590         0.08  ...       0.50      9.0        4\n",
              "19            7.9             0.320         0.51  ...       1.08      9.2        6\n",
              "20            8.9             0.220         0.48  ...       0.53      9.4        6\n",
              "21            7.6             0.390         0.31  ...       0.65      9.7        5\n",
              "22            7.9             0.430         0.21  ...       0.91      9.5        5\n",
              "23            8.5             0.490         0.11  ...       0.53      9.4        5\n",
              "24            6.9             0.400         0.14  ...       0.63      9.7        6\n",
              "25            6.3             0.390         0.16  ...       0.56      9.3        5\n",
              "26            7.6             0.410         0.24  ...       0.59      9.5        5\n",
              "28            7.1             0.710         0.00  ...       0.55      9.4        5\n",
              "29            7.8             0.645         0.00  ...       0.59      9.8        6\n",
              "30            6.7             0.675         0.07  ...       0.54     10.1        5\n",
              "31            6.9             0.685         0.00  ...       0.57     10.6        6\n",
              "32            8.3             0.655         0.12  ...       0.66      9.8        5\n",
              "33            6.9             0.605         0.12  ...       0.52      9.4        6\n",
              "34            5.2             0.320         0.25  ...       0.55      9.2        5\n",
              "35            7.8             0.645         0.00  ...       0.55      9.6        6\n",
              "36            7.8             0.600         0.14  ...       0.60     10.8        6\n",
              "37            8.1             0.380         0.28  ...       0.73      9.7        7\n",
              "\n",
              "[35 rows x 12 columns]"
            ]
          },
          "metadata": {
            "tags": []
          },
          "execution_count": 1203
        }
      ]
    },
    {
      "cell_type": "markdown",
      "metadata": {
        "id": "LilUo0eklKBC",
        "colab_type": "text"
      },
      "source": [
        "#4 Análise preliminar dos dados"
      ]
    },
    {
      "cell_type": "code",
      "metadata": {
        "id": "DMuvGfxiKzgm",
        "colab_type": "code",
        "colab": {
          "base_uri": "https://localhost:8080/",
          "height": 404
        },
        "outputId": "11a01847-5f98-4a61-e1d9-53f014b190c2"
      },
      "source": [
        "#verificando as pontuações da qualidade \n",
        "plt.hist(dados['quality'])\n",
        "plt.xlabel('Classes')\n",
        "plt.ylabel('Quantidade')\n",
        "plt.title('Ocorrências das Classes')\n",
        "plt.grid(True)\n",
        "plt.show()"
      ],
      "execution_count": 1204,
      "outputs": [
        {
          "output_type": "display_data",
          "data": {
            "image/png": "[encoded data removed]",
            "text/plain": [
              "<Figure size 576x432 with 1 Axes>"
            ]
          },
          "metadata": {
            "tags": [],
            "needs_background": "light"
          }
        }
      ]
    },
    {
      "cell_type": "code",
      "metadata": {
        "id": "bAoyhEPKWhUQ",
        "colab_type": "code",
        "colab": {
          "base_uri": "https://localhost:8080/",
          "height": 187
        },
        "outputId": "3914a157-f2ca-4263-fee0-ed3040e61ba4"
      },
      "source": [
        "#Visualizando a quantidade de vinhos pelas pontuações de qualidade\n",
        "print('Qualidade 1: ', dados[dados['quality']==1].shape[0])\n",
        "print('Qualidade 2: ', dados[dados['quality']==2].shape[0])\n",
        "print('Qualidade 3: ', dados[dados['quality']==3].shape[0])\n",
        "print('Qualidade 4: ', dados[dados['quality']==4].shape[0])\n",
        "print('Qualidade 5: ', dados[dados['quality']==5].shape[0])\n",
        "print('Qualidade 6: ', dados[dados['quality']==6].shape[0])\n",
        "print('Qualidade 7: ', dados[dados['quality']==7].shape[0])\n",
        "print('Qualidade 8: ', dados[dados['quality']==8].shape[0])\n",
        "print('Qualidade 9: ', dados[dados['quality']==9].shape[0])\n",
        "print('Qualidade 10: ', dados[dados['quality']==10].shape[0])"
      ],
      "execution_count": 1205,
      "outputs": [
        {
          "output_type": "stream",
          "text": [
            "Qualidade 1:  0\n",
            "Qualidade 2:  0\n",
            "Qualidade 3:  10\n",
            "Qualidade 4:  53\n",
            "Qualidade 5:  577\n",
            "Qualidade 6:  535\n",
            "Qualidade 7:  167\n",
            "Qualidade 8:  17\n",
            "Qualidade 9:  0\n",
            "Qualidade 10:  0\n"
          ],
          "name": "stdout"
        }
      ]
    },
    {
      "cell_type": "markdown",
      "metadata": {
        "id": "IrCArsLCmEVx",
        "colab_type": "text"
      },
      "source": [
        "Verificando a distribuição de alguns atributos que podem ser importantes para a classificação do vinho"
      ]
    },
    {
      "cell_type": "code",
      "metadata": {
        "id": "dbPvGeGceyM6",
        "colab_type": "code",
        "colab": {
          "base_uri": "https://localhost:8080/",
          "height": 390
        },
        "outputId": "77996716-438e-4fdc-ad70-e1561d3caac4"
      },
      "source": [
        "#verificando a distribuição do atibuto pH \n",
        "plt.hist(dados['pH'],10)\n",
        "plt.ylabel('Quantidade')\n",
        "plt.title('distribuição do  pH')\n",
        "plt.grid(True)\n",
        "plt.show()"
      ],
      "execution_count": 1206,
      "outputs": [
        {
          "output_type": "display_data",
          "data": {
            "image/png": "[encoded data removed]",
            "text/plain": [
              "<Figure size 576x432 with 1 Axes>"
            ]
          },
          "metadata": {
            "tags": [],
            "needs_background": "light"
          }
        }
      ]
    },
    {
      "cell_type": "markdown",
      "metadata": {
        "id": "6xxp3F8vipFP",
        "colab_type": "text"
      },
      "source": [
        "O PH dos vinhos não passam de 4.0 e a maior ocorrência é de vinhos com PH entre 3.2 e 3.4"
      ]
    },
    {
      "cell_type": "code",
      "metadata": {
        "id": "0cJoIoNLi4g8",
        "colab_type": "code",
        "colab": {
          "base_uri": "https://localhost:8080/",
          "height": 390
        },
        "outputId": "6ecb26e6-f0ba-438c-d9c5-2303a7a36814"
      },
      "source": [
        "#verificando a distribuição do atibuto álcool\n",
        "plt.hist(dados['alcohol'], 10)\n",
        "plt.ylabel('Quantidade')\n",
        "plt.title('Ocorrências do Atributo álcool')\n",
        "plt.grid(True)\n",
        "plt.show()"
      ],
      "execution_count": 1207,
      "outputs": [
        {
          "output_type": "display_data",
          "data": {
            "image/png": "[encoded data removed]",
            "text/plain": [
              "<Figure size 576x432 with 1 Axes>"
            ]
          },
          "metadata": {
            "tags": [],
            "needs_background": "light"
          }
        }
      ]
    },
    {
      "cell_type": "markdown",
      "metadata": {
        "id": "aA_misNZrhtu",
        "colab_type": "text"
      },
      "source": [
        "O Teor alcoólico dos vinhos não passam de 15 sendo que a maior ocorrencia de teor alcoólico está entre 9 e 10"
      ]
    },
    {
      "cell_type": "code",
      "metadata": {
        "id": "0o4wp2kWsPAB",
        "colab_type": "code",
        "colab": {
          "base_uri": "https://localhost:8080/",
          "height": 405
        },
        "outputId": "1bd05519-a3f1-4611-cea4-57f5415253f0"
      },
      "source": [
        "#Verificando a influencia de alguns atributos para a qualidade do vinho \n",
        "fig = plt.figure(figsize = (10,6))\n",
        "sns.barplot( x = 'quality', y = 'fixed_acidity', data = dados)"
      ],
      "execution_count": 1208,
      "outputs": [
        {
          "output_type": "execute_result",
          "data": {
            "text/plain": [
              "<matplotlib.axes._subplots.AxesSubplot at 0x7fb0c39de160>"
            ]
          },
          "metadata": {
            "tags": []
          },
          "execution_count": 1208
        },
        {
          "output_type": "display_data",
          "data": {
            "image/png": "[encoded data removed]",
            "text/plain": [
              "<Figure size 720x432 with 1 Axes>"
            ]
          },
          "metadata": {
            "tags": [],
            "needs_background": "light"
          }
        }
      ]
    },
    {
      "cell_type": "markdown",
      "metadata": {
        "id": "9Sz0ORyuKaE6",
        "colab_type": "text"
      },
      "source": [
        "Nesse caso vemos que a ácidez fixa não influência muito na qualidade do vinho porque entre as pontuações de qualidade "
      ]
    },
    {
      "cell_type": "code",
      "metadata": {
        "id": "J6vijY-oKLkG",
        "colab_type": "code",
        "colab": {
          "base_uri": "https://localhost:8080/",
          "height": 405
        },
        "outputId": "047193ec-6ada-4f9b-f144-920fb6917e52"
      },
      "source": [
        "#Verificando a influencia da acidez volatil na qualidade do vinho\n",
        "fig = plt.figure(figsize = (10,6))\n",
        "sns.barplot( x = 'quality', y = 'volatile_acidity', data = dados)"
      ],
      "execution_count": 1209,
      "outputs": [
        {
          "output_type": "execute_result",
          "data": {
            "text/plain": [
              "<matplotlib.axes._subplots.AxesSubplot at 0x7fb0c509bf98>"
            ]
          },
          "metadata": {
            "tags": []
          },
          "execution_count": 1209
        },
        {
          "output_type": "display_data",
          "data": {
            "image/png": "[encoded data removed]",
            "text/plain": [
              "<Figure size 720x432 with 1 Axes>"
            ]
          },
          "metadata": {
            "tags": [],
            "needs_background": "light"
          }
        }
      ]
    },
    {
      "cell_type": "markdown",
      "metadata": {
        "id": "wOIDrpe8M9rV",
        "colab_type": "text"
      },
      "source": [
        "Vemos que com o aumento da qualidade acontece uma diminuição da acidez volátil"
      ]
    },
    {
      "cell_type": "code",
      "metadata": {
        "id": "w6jJL5WjvSR4",
        "colab_type": "code",
        "colab": {
          "base_uri": "https://localhost:8080/",
          "height": 405
        },
        "outputId": "093b16c9-c2e7-4abc-8ae7-e861ac1714a9"
      },
      "source": [
        "#Verificando a influencia do acido citrico na qualidade do vinho\n",
        "fig = plt.figure(figsize = (10,6))\n",
        "sns.barplot( x = 'quality', y = 'citric_acid', data = dados)"
      ],
      "execution_count": 1210,
      "outputs": [
        {
          "output_type": "execute_result",
          "data": {
            "text/plain": [
              "<matplotlib.axes._subplots.AxesSubplot at 0x7fb0c509b320>"
            ]
          },
          "metadata": {
            "tags": []
          },
          "execution_count": 1210
        },
        {
          "output_type": "display_data",
          "data": {
            "image/png": "[encoded data removed]",
            "text/plain": [
              "<Figure size 720x432 with 1 Axes>"
            ]
          },
          "metadata": {
            "tags": [],
            "needs_background": "light"
          }
        }
      ]
    },
    {
      "cell_type": "code",
      "metadata": {
        "id": "bO0lMksbxPZP",
        "colab_type": "code",
        "colab": {
          "base_uri": "https://localhost:8080/",
          "height": 405
        },
        "outputId": "d0607b08-28ad-4fab-bbdb-b4c124646c29"
      },
      "source": [
        "#Verificando a influencia do açuxar residual na qualidade do vinho\n",
        "fig = plt.figure(figsize = (10,6))\n",
        "sns.barplot( x = 'quality', y = 'residual_sugar', data = dados)"
      ],
      "execution_count": 1211,
      "outputs": [
        {
          "output_type": "execute_result",
          "data": {
            "text/plain": [
              "<matplotlib.axes._subplots.AxesSubplot at 0x7fb0c220bd30>"
            ]
          },
          "metadata": {
            "tags": []
          },
          "execution_count": 1211
        },
        {
          "output_type": "display_data",
          "data": {
            "image/png": "[encoded data removed]",
            "text/plain": [
              "<Figure size 720x432 with 1 Axes>"
            ]
          },
          "metadata": {
            "tags": [],
            "needs_background": "light"
          }
        }
      ]
    },
    {
      "cell_type": "code",
      "metadata": {
        "id": "W0fuJkokyQ-w",
        "colab_type": "code",
        "colab": {
          "base_uri": "https://localhost:8080/",
          "height": 405
        },
        "outputId": "8e41f33f-b6a9-4ac1-90ad-9f40ade13396"
      },
      "source": [
        "#Verificando a influencia do cloreto na qualidade do vinho\n",
        "fig = plt.figure(figsize = (10,6))\n",
        "sns.barplot( x = 'quality', y = 'chlorides', data = dados)"
      ],
      "execution_count": 1212,
      "outputs": [
        {
          "output_type": "execute_result",
          "data": {
            "text/plain": [
              "<matplotlib.axes._subplots.AxesSubplot at 0x7fb0c3ca9828>"
            ]
          },
          "metadata": {
            "tags": []
          },
          "execution_count": 1212
        },
        {
          "output_type": "display_data",
          "data": {
            "image/png": "[encoded data removed]",
            "text/plain": [
              "<Figure size 720x432 with 1 Axes>"
            ]
          },
          "metadata": {
            "tags": [],
            "needs_background": "light"
          }
        }
      ]
    },
    {
      "cell_type": "code",
      "metadata": {
        "id": "XsKxJeh_R5hN",
        "colab_type": "code",
        "colab": {
          "base_uri": "https://localhost:8080/",
          "height": 405
        },
        "outputId": "4e3d22e3-1ee0-4cf3-983e-7e2fd5c855ff"
      },
      "source": [
        "#Verificando a influencia do dioxido de enxofre na qualidade do vinho\n",
        "fig = plt.figure(figsize = (10,6))\n",
        "sns.barplot( x = 'quality', y = 'free_sulfur_dioxide', data = dados)"
      ],
      "execution_count": 1213,
      "outputs": [
        {
          "output_type": "execute_result",
          "data": {
            "text/plain": [
              "<matplotlib.axes._subplots.AxesSubplot at 0x7fb0c509b5f8>"
            ]
          },
          "metadata": {
            "tags": []
          },
          "execution_count": 1213
        },
        {
          "output_type": "display_data",
          "data": {
            "image/png": "[encoded data removed]",
            "text/plain": [
              "<Figure size 720x432 with 1 Axes>"
            ]
          },
          "metadata": {
            "tags": [],
            "needs_background": "light"
          }
        }
      ]
    },
    {
      "cell_type": "code",
      "metadata": {
        "id": "ACPvkFIXUxFr",
        "colab_type": "code",
        "colab": {
          "base_uri": "https://localhost:8080/",
          "height": 405
        },
        "outputId": "f59f88fb-0967-4e47-9999-5dd2564fb326"
      },
      "source": [
        "#Verificando a influencia do total de dioxido de enxofre na qualidade do vinho\n",
        "fig = plt.figure(figsize = (10,6))\n",
        "sns.barplot( x = 'quality', y = 'total_sulfur_dioxide', data = dados)"
      ],
      "execution_count": 1214,
      "outputs": [
        {
          "output_type": "execute_result",
          "data": {
            "text/plain": [
              "<matplotlib.axes._subplots.AxesSubplot at 0x7fb0c0d3a588>"
            ]
          },
          "metadata": {
            "tags": []
          },
          "execution_count": 1214
        },
        {
          "output_type": "display_data",
          "data": {
            "image/png": "[encoded data removed]",
            "text/plain": [
              "<Figure size 720x432 with 1 Axes>"
            ]
          },
          "metadata": {
            "tags": [],
            "needs_background": "light"
          }
        }
      ]
    },
    {
      "cell_type": "code",
      "metadata": {
        "id": "zDtVwyIsUyn8",
        "colab_type": "code",
        "colab": {
          "base_uri": "https://localhost:8080/",
          "height": 405
        },
        "outputId": "f4819be4-8991-4b35-ec42-cbb0f0b7cc86"
      },
      "source": [
        "#Verificando a influencia do density na qualidade do vinho\n",
        "fig = plt.figure(figsize = (10,6))\n",
        "sns.barplot( x = 'quality', y = 'density', data = dados)"
      ],
      "execution_count": 1215,
      "outputs": [
        {
          "output_type": "execute_result",
          "data": {
            "text/plain": [
              "<matplotlib.axes._subplots.AxesSubplot at 0x7fb0bfc12e80>"
            ]
          },
          "metadata": {
            "tags": []
          },
          "execution_count": 1215
        },
        {
          "output_type": "display_data",
          "data": {
            "image/png": "[encoded data removed]",
            "text/plain": [
              "<Figure size 720x432 with 1 Axes>"
            ]
          },
          "metadata": {
            "tags": [],
            "needs_background": "light"
          }
        }
      ]
    },
    {
      "cell_type": "code",
      "metadata": {
        "id": "d_3I_i9SV_lI",
        "colab_type": "code",
        "colab": {
          "base_uri": "https://localhost:8080/",
          "height": 405
        },
        "outputId": "d4226da7-3397-4ee0-92fa-553a245e4d1f"
      },
      "source": [
        "#Verificando a influencia do pH na qualidade do vinho\n",
        "fig = plt.figure(figsize = (10,6))\n",
        "sns.barplot( x = 'quality', y = 'pH', data = dados)"
      ],
      "execution_count": 1216,
      "outputs": [
        {
          "output_type": "execute_result",
          "data": {
            "text/plain": [
              "<matplotlib.axes._subplots.AxesSubplot at 0x7fb0bf706c50>"
            ]
          },
          "metadata": {
            "tags": []
          },
          "execution_count": 1216
        },
        {
          "output_type": "display_data",
          "data": {
            "image/png": "[encoded data removed]",
            "text/plain": [
              "<Figure size 720x432 with 1 Axes>"
            ]
          },
          "metadata": {
            "tags": [],
            "needs_background": "light"
          }
        }
      ]
    },
    {
      "cell_type": "code",
      "metadata": {
        "id": "2tWMJn5Ta87m",
        "colab_type": "code",
        "colab": {
          "base_uri": "https://localhost:8080/",
          "height": 405
        },
        "outputId": "bcaa2a47-5042-4940-d102-048d39754c81"
      },
      "source": [
        "#Verificando a influencia do álcool na qualidade do vinho\n",
        "fig = plt.figure(figsize = (10,6))\n",
        "sns.barplot( x = 'quality', y = 'alcohol', data = dados)"
      ],
      "execution_count": 1217,
      "outputs": [
        {
          "output_type": "execute_result",
          "data": {
            "text/plain": [
              "<matplotlib.axes._subplots.AxesSubplot at 0x7fb0c1842240>"
            ]
          },
          "metadata": {
            "tags": []
          },
          "execution_count": 1217
        },
        {
          "output_type": "display_data",
          "data": {
            "image/png": "[encoded data removed]",
            "text/plain": [
              "<Figure size 720x432 with 1 Axes>"
            ]
          },
          "metadata": {
            "tags": [],
            "needs_background": "light"
          }
        }
      ]
    },
    {
      "cell_type": "markdown",
      "metadata": {
        "id": "kIMQWtvIU5Q3",
        "colab_type": "text"
      },
      "source": [
        "**Boxpot**\n",
        "\n",
        "verificando os pontos fora da curva\n",
        "\n",
        "mediana quartis"
      ]
    },
    {
      "cell_type": "code",
      "metadata": {
        "id": "Q3uxCHEwU4DB",
        "colab_type": "code",
        "colab": {
          "base_uri": "https://localhost:8080/",
          "height": 404
        },
        "outputId": "32ab67b4-9034-438b-c7ee-bb1fbdbaddf0"
      },
      "source": [
        "#plotando um dos atributos que tiveram maior influencia com a qualidade do vinho\n",
        "plt.boxplot(dados.citric_acid)\n",
        "plt.title('Boxplot da Acidez citrica')\n",
        "plt.xlabel('Acidez')\n",
        "plt.grid()\n",
        "plt.show()"
      ],
      "execution_count": 1218,
      "outputs": [
        {
          "output_type": "display_data",
          "data": {
            "image/png": "[encoded data removed]",
            "text/plain": [
              "<Figure size 576x432 with 1 Axes>"
            ]
          },
          "metadata": {
            "tags": [],
            "needs_background": "light"
          }
        }
      ]
    },
    {
      "cell_type": "code",
      "metadata": {
        "id": "F9ZgaWi4Wc_E",
        "colab_type": "code",
        "colab": {
          "base_uri": "https://localhost:8080/",
          "height": 405
        },
        "outputId": "34c9af99-a015-43c1-befd-910c61fe7e33"
      },
      "source": [
        "\n",
        "sns.distplot(dados.citric_acid, hist=False, rug=False,label='qualidade')\n",
        "plt.ylabel('Probabilidades')\n",
        "plt.title('Ocorrências do Atributo Acidez Citrica')\n",
        "plt.show()"
      ],
      "execution_count": 1219,
      "outputs": [
        {
          "output_type": "display_data",
          "data": {
            "image/png": "[encoded data removed]",
            "text/plain": [
              "<Figure size 576x432 with 1 Axes>"
            ]
          },
          "metadata": {
            "tags": [],
            "needs_background": "light"
          }
        }
      ]
    },
    {
      "cell_type": "code",
      "metadata": {
        "id": "See2dg3WT_CL",
        "colab_type": "code",
        "colab": {
          "base_uri": "https://localhost:8080/",
          "height": 421
        },
        "outputId": "edf3d3a1-7361-4583-a49d-ddb2dc5417d9"
      },
      "source": [
        "#verificando a correlação dos dados\n",
        "corr = dados.corr()\n",
        "corr"
      ],
      "execution_count": 1220,
      "outputs": [
        {
          "output_type": "execute_result",
          "data": {
            "text/html": [
              "<div>\n",
              "<style scoped>\n",
              "    .dataframe tbody tr th:only-of-type {\n",
              "        vertical-align: middle;\n",
              "    }\n",
              "\n",
              "    .dataframe tbody tr th {\n",
              "        vertical-align: top;\n",
              "    }\n",
              "\n",
              "    .dataframe thead th {\n",
              "        text-align: right;\n",
              "    }\n",
              "</style>\n",
              "<table border=\"1\" class=\"dataframe\">\n",
              "  <thead>\n",
              "    <tr style=\"text-align: right;\">\n",
              "      <th></th>\n",
              "      <th>fixed_acidity</th>\n",
              "      <th>volatile_acidity</th>\n",
              "      <th>citric_acid</th>\n",
              "      <th>residual_sugar</th>\n",
              "      <th>chlorides</th>\n",
              "      <th>free_sulfur_dioxide</th>\n",
              "      <th>total_sulfur_dioxide</th>\n",
              "      <th>density</th>\n",
              "      <th>pH</th>\n",
              "      <th>sulphates</th>\n",
              "      <th>alcohol</th>\n",
              "      <th>quality</th>\n",
              "    </tr>\n",
              "  </thead>\n",
              "  <tbody>\n",
              "    <tr>\n",
              "      <th>fixed_acidity</th>\n",
              "      <td>1.000000</td>\n",
              "      <td>-0.255124</td>\n",
              "      <td>0.667437</td>\n",
              "      <td>0.111025</td>\n",
              "      <td>0.085886</td>\n",
              "      <td>-0.140580</td>\n",
              "      <td>-0.103777</td>\n",
              "      <td>0.670195</td>\n",
              "      <td>-0.686685</td>\n",
              "      <td>0.190269</td>\n",
              "      <td>-0.061596</td>\n",
              "      <td>0.119024</td>\n",
              "    </tr>\n",
              "    <tr>\n",
              "      <th>volatile_acidity</th>\n",
              "      <td>-0.255124</td>\n",
              "      <td>1.000000</td>\n",
              "      <td>-0.551248</td>\n",
              "      <td>-0.002449</td>\n",
              "      <td>0.055154</td>\n",
              "      <td>-0.020945</td>\n",
              "      <td>0.071701</td>\n",
              "      <td>0.023943</td>\n",
              "      <td>0.247111</td>\n",
              "      <td>-0.256948</td>\n",
              "      <td>-0.197812</td>\n",
              "      <td>-0.395214</td>\n",
              "    </tr>\n",
              "    <tr>\n",
              "      <th>citric_acid</th>\n",
              "      <td>0.667437</td>\n",
              "      <td>-0.551248</td>\n",
              "      <td>1.000000</td>\n",
              "      <td>0.143892</td>\n",
              "      <td>0.210195</td>\n",
              "      <td>-0.048004</td>\n",
              "      <td>0.047358</td>\n",
              "      <td>0.357962</td>\n",
              "      <td>-0.550310</td>\n",
              "      <td>0.326062</td>\n",
              "      <td>0.105108</td>\n",
              "      <td>0.228057</td>\n",
              "    </tr>\n",
              "    <tr>\n",
              "      <th>residual_sugar</th>\n",
              "      <td>0.111025</td>\n",
              "      <td>-0.002449</td>\n",
              "      <td>0.143892</td>\n",
              "      <td>1.000000</td>\n",
              "      <td>0.026656</td>\n",
              "      <td>0.160527</td>\n",
              "      <td>0.201038</td>\n",
              "      <td>0.324522</td>\n",
              "      <td>-0.083143</td>\n",
              "      <td>-0.011837</td>\n",
              "      <td>0.063281</td>\n",
              "      <td>0.013640</td>\n",
              "    </tr>\n",
              "    <tr>\n",
              "      <th>chlorides</th>\n",
              "      <td>0.085886</td>\n",
              "      <td>0.055154</td>\n",
              "      <td>0.210195</td>\n",
              "      <td>0.026656</td>\n",
              "      <td>1.000000</td>\n",
              "      <td>0.000749</td>\n",
              "      <td>0.045773</td>\n",
              "      <td>0.193592</td>\n",
              "      <td>-0.270893</td>\n",
              "      <td>0.394557</td>\n",
              "      <td>-0.223824</td>\n",
              "      <td>-0.130988</td>\n",
              "    </tr>\n",
              "    <tr>\n",
              "      <th>free_sulfur_dioxide</th>\n",
              "      <td>-0.140580</td>\n",
              "      <td>-0.020945</td>\n",
              "      <td>-0.048004</td>\n",
              "      <td>0.160527</td>\n",
              "      <td>0.000749</td>\n",
              "      <td>1.000000</td>\n",
              "      <td>0.667246</td>\n",
              "      <td>-0.018071</td>\n",
              "      <td>0.056631</td>\n",
              "      <td>0.054126</td>\n",
              "      <td>-0.080125</td>\n",
              "      <td>-0.050463</td>\n",
              "    </tr>\n",
              "    <tr>\n",
              "      <th>total_sulfur_dioxide</th>\n",
              "      <td>-0.103777</td>\n",
              "      <td>0.071701</td>\n",
              "      <td>0.047358</td>\n",
              "      <td>0.201038</td>\n",
              "      <td>0.045773</td>\n",
              "      <td>0.667246</td>\n",
              "      <td>1.000000</td>\n",
              "      <td>0.078141</td>\n",
              "      <td>-0.079257</td>\n",
              "      <td>0.035291</td>\n",
              "      <td>-0.217829</td>\n",
              "      <td>-0.177855</td>\n",
              "    </tr>\n",
              "    <tr>\n",
              "      <th>density</th>\n",
              "      <td>0.670195</td>\n",
              "      <td>0.023943</td>\n",
              "      <td>0.357962</td>\n",
              "      <td>0.324522</td>\n",
              "      <td>0.193592</td>\n",
              "      <td>-0.018071</td>\n",
              "      <td>0.078141</td>\n",
              "      <td>1.000000</td>\n",
              "      <td>-0.355617</td>\n",
              "      <td>0.146036</td>\n",
              "      <td>-0.504995</td>\n",
              "      <td>-0.184252</td>\n",
              "    </tr>\n",
              "    <tr>\n",
              "      <th>pH</th>\n",
              "      <td>-0.686685</td>\n",
              "      <td>0.247111</td>\n",
              "      <td>-0.550310</td>\n",
              "      <td>-0.083143</td>\n",
              "      <td>-0.270893</td>\n",
              "      <td>0.056631</td>\n",
              "      <td>-0.079257</td>\n",
              "      <td>-0.355617</td>\n",
              "      <td>1.000000</td>\n",
              "      <td>-0.214134</td>\n",
              "      <td>0.213418</td>\n",
              "      <td>-0.055245</td>\n",
              "    </tr>\n",
              "    <tr>\n",
              "      <th>sulphates</th>\n",
              "      <td>0.190269</td>\n",
              "      <td>-0.256948</td>\n",
              "      <td>0.326062</td>\n",
              "      <td>-0.011837</td>\n",
              "      <td>0.394557</td>\n",
              "      <td>0.054126</td>\n",
              "      <td>0.035291</td>\n",
              "      <td>0.146036</td>\n",
              "      <td>-0.214134</td>\n",
              "      <td>1.000000</td>\n",
              "      <td>0.091621</td>\n",
              "      <td>0.248835</td>\n",
              "    </tr>\n",
              "    <tr>\n",
              "      <th>alcohol</th>\n",
              "      <td>-0.061596</td>\n",
              "      <td>-0.197812</td>\n",
              "      <td>0.105108</td>\n",
              "      <td>0.063281</td>\n",
              "      <td>-0.223824</td>\n",
              "      <td>-0.080125</td>\n",
              "      <td>-0.217829</td>\n",
              "      <td>-0.504995</td>\n",
              "      <td>0.213418</td>\n",
              "      <td>0.091621</td>\n",
              "      <td>1.000000</td>\n",
              "      <td>0.480343</td>\n",
              "    </tr>\n",
              "    <tr>\n",
              "      <th>quality</th>\n",
              "      <td>0.119024</td>\n",
              "      <td>-0.395214</td>\n",
              "      <td>0.228057</td>\n",
              "      <td>0.013640</td>\n",
              "      <td>-0.130988</td>\n",
              "      <td>-0.050463</td>\n",
              "      <td>-0.177855</td>\n",
              "      <td>-0.184252</td>\n",
              "      <td>-0.055245</td>\n",
              "      <td>0.248835</td>\n",
              "      <td>0.480343</td>\n",
              "      <td>1.000000</td>\n",
              "    </tr>\n",
              "  </tbody>\n",
              "</table>\n",
              "</div>"
            ],
            "text/plain": [
              "                      fixed_acidity  volatile_acidity  ...   alcohol   quality\n",
              "fixed_acidity              1.000000         -0.255124  ... -0.061596  0.119024\n",
              "volatile_acidity          -0.255124          1.000000  ... -0.197812 -0.395214\n",
              "citric_acid                0.667437         -0.551248  ...  0.105108  0.228057\n",
              "residual_sugar             0.111025         -0.002449  ...  0.063281  0.013640\n",
              "chlorides                  0.085886          0.055154  ... -0.223824 -0.130988\n",
              "free_sulfur_dioxide       -0.140580         -0.020945  ... -0.080125 -0.050463\n",
              "total_sulfur_dioxide      -0.103777          0.071701  ... -0.217829 -0.177855\n",
              "density                    0.670195          0.023943  ... -0.504995 -0.184252\n",
              "pH                        -0.686685          0.247111  ...  0.213418 -0.055245\n",
              "sulphates                  0.190269         -0.256948  ...  0.091621  0.248835\n",
              "alcohol                   -0.061596         -0.197812  ...  1.000000  0.480343\n",
              "quality                    0.119024         -0.395214  ...  0.480343  1.000000\n",
              "\n",
              "[12 rows x 12 columns]"
            ]
          },
          "metadata": {
            "tags": []
          },
          "execution_count": 1220
        }
      ]
    },
    {
      "cell_type": "code",
      "metadata": {
        "id": "bFVQWOlzW-eY",
        "colab_type": "code",
        "colab": {
          "base_uri": "https://localhost:8080/",
          "height": 483
        },
        "outputId": "0010d89c-8209-44cc-e187-be1d08d2997d"
      },
      "source": [
        "#Não possui muita correlação \n",
        "plt.figure(figsize=(8,6))\n",
        "sns.heatmap(corr,vmin=-1, vmax=1, center=0, annot=True, fmt='.2f', cmap=plt.cm.plasma)\n",
        "#sns.diverging_palette(20, 220, n=200)\n"
      ],
      "execution_count": 1221,
      "outputs": [
        {
          "output_type": "execute_result",
          "data": {
            "text/plain": [
              "<matplotlib.axes._subplots.AxesSubplot at 0x7fb0c3ca97b8>"
            ]
          },
          "metadata": {
            "tags": []
          },
          "execution_count": 1221
        },
        {
          "output_type": "display_data",
          "data": {
            "image/png": "[encoded data removed]",
            "text/plain": [
              "<Figure size 576x432 with 2 Axes>"
            ]
          },
          "metadata": {
            "tags": [],
            "needs_background": "light"
          }
        }
      ]
    },
    {
      "cell_type": "code",
      "metadata": {
        "id": "MpPYF1BcGGvJ",
        "colab_type": "code",
        "colab": {
          "base_uri": "https://localhost:8080/",
          "height": 351
        },
        "outputId": "0f1dca90-a317-4bad-97be-acee9a35a404"
      },
      "source": [
        "plt.figure(figsize=(15,5))\n",
        "plt.subplot(1,3,1)\n",
        "plt.scatter(x=dados.pH[dados.quality>=7],y=dados.alcohol[dados.quality>=7],c='red')\n",
        "plt.scatter(x=dados.pH[dados.quality<7],y=dados.alcohol[dados.quality<7],c='green')\n",
        "plt.xlabel('PH')\n",
        "plt.ylabel('alcohol')\n",
        "plt.legend(['qualidade>=7','qualidade<7'])"
      ],
      "execution_count": 1222,
      "outputs": [
        {
          "output_type": "execute_result",
          "data": {
            "text/plain": [
              "<matplotlib.legend.Legend at 0x7fb0c0b18f60>"
            ]
          },
          "metadata": {
            "tags": []
          },
          "execution_count": 1222
        },
        {
          "output_type": "display_data",
          "data": {
            "image/png": "[encoded data removed]",
            "text/plain": [
              "<Figure size 1080x360 with 1 Axes>"
            ]
          },
          "metadata": {
            "tags": [],
            "needs_background": "light"
          }
        }
      ]
    },
    {
      "cell_type": "code",
      "metadata": {
        "id": "PLkKdzS0fqHc",
        "colab_type": "code",
        "colab": {}
      },
      "source": [
        "#Fazendo classificação binária para a variável de resposta.\n",
        "#Dividindo o vinho em bom e ruim, dando o limite para a qualidade\n",
        "#bins = (2, 6.5, 8)\n",
        "#group_names = ['bad', 'good']\n",
        "#dados['quality'] = pd.cut(dados['quality'], bins = bins, labels = group_names)"
      ],
      "execution_count": 1223,
      "outputs": []
    },
    {
      "cell_type": "code",
      "metadata": {
        "id": "iTuvtwBaf55s",
        "colab_type": "code",
        "colab": {}
      },
      "source": [
        "#Agora vamos atribuir rótulos à nossa variável de qualidade\n",
        "#label_quality = LabelEncoder()\n",
        "#dados['quality'] = label_quality.fit_transform(dados['quality'])\n",
        "#dados['quality'].value_counts()\n",
        "#sns.countplot(dados['quality'])"
      ],
      "execution_count": 1224,
      "outputs": []
    },
    {
      "cell_type": "code",
      "metadata": {
        "id": "QvNDuDkZgSSq",
        "colab_type": "code",
        "colab": {}
      },
      "source": [
        "#Now seperate the dataset as response variable and feature variabes\n",
        "#X = dados.drop('quality', axis = 1)\n",
        "#y = dados['quality']\n",
        "#Treinar e testar a divisão de dados\n",
        "#X_train, X_test, y_train, y_test = train_test_split(X, y, test_size = 0.2)\n",
        "#Aplicando escala padrão para obter resultados otimizados\n",
        "#sc = StandardScaler()\n",
        "#X_train = sc.fit_transform(X_train)\n",
        "#X_test = sc.fit_transform(X_test)\n"
      ],
      "execution_count": 1225,
      "outputs": []
    },
    {
      "cell_type": "markdown",
      "metadata": {
        "id": "UfI-LwsbAi4C",
        "colab_type": "text"
      },
      "source": [
        "**Classificação**\n",
        "\n",
        "*   Testando com Arvores(s) de decisão\n",
        "\n"
      ]
    },
    {
      "cell_type": "markdown",
      "metadata": {
        "id": "3C8Eo2VqA5p0",
        "colab_type": "text"
      },
      "source": [
        "#5 Classificação\n",
        "\n"
      ]
    },
    {
      "cell_type": "code",
      "metadata": {
        "id": "wTPtqlGPBAn7",
        "colab_type": "code",
        "colab": {
          "base_uri": "https://localhost:8080/",
          "height": 204
        },
        "outputId": "7af99fdf-de46-4e8f-bca3-89f9b4b49e2e"
      },
      "source": [
        "#Dividindo meus dados em atibutos descritores e atributos de classe \n",
        "X = dados.iloc[:,:-1]\n",
        "X.head()"
      ],
      "execution_count": 1226,
      "outputs": [
        {
          "output_type": "execute_result",
          "data": {
            "text/html": [
              "<div>\n",
              "<style scoped>\n",
              "    .dataframe tbody tr th:only-of-type {\n",
              "        vertical-align: middle;\n",
              "    }\n",
              "\n",
              "    .dataframe tbody tr th {\n",
              "        vertical-align: top;\n",
              "    }\n",
              "\n",
              "    .dataframe thead th {\n",
              "        text-align: right;\n",
              "    }\n",
              "</style>\n",
              "<table border=\"1\" class=\"dataframe\">\n",
              "  <thead>\n",
              "    <tr style=\"text-align: right;\">\n",
              "      <th></th>\n",
              "      <th>fixed_acidity</th>\n",
              "      <th>volatile_acidity</th>\n",
              "      <th>citric_acid</th>\n",
              "      <th>residual_sugar</th>\n",
              "      <th>chlorides</th>\n",
              "      <th>free_sulfur_dioxide</th>\n",
              "      <th>total_sulfur_dioxide</th>\n",
              "      <th>density</th>\n",
              "      <th>pH</th>\n",
              "      <th>sulphates</th>\n",
              "      <th>alcohol</th>\n",
              "    </tr>\n",
              "  </thead>\n",
              "  <tbody>\n",
              "    <tr>\n",
              "      <th>0</th>\n",
              "      <td>7.4</td>\n",
              "      <td>0.70</td>\n",
              "      <td>0.00</td>\n",
              "      <td>1.9</td>\n",
              "      <td>0.076</td>\n",
              "      <td>11.0</td>\n",
              "      <td>34.0</td>\n",
              "      <td>0.9978</td>\n",
              "      <td>3.51</td>\n",
              "      <td>0.56</td>\n",
              "      <td>9.4</td>\n",
              "    </tr>\n",
              "    <tr>\n",
              "      <th>1</th>\n",
              "      <td>7.8</td>\n",
              "      <td>0.88</td>\n",
              "      <td>0.00</td>\n",
              "      <td>2.6</td>\n",
              "      <td>0.098</td>\n",
              "      <td>25.0</td>\n",
              "      <td>67.0</td>\n",
              "      <td>0.9968</td>\n",
              "      <td>3.20</td>\n",
              "      <td>0.68</td>\n",
              "      <td>9.8</td>\n",
              "    </tr>\n",
              "    <tr>\n",
              "      <th>2</th>\n",
              "      <td>7.8</td>\n",
              "      <td>0.76</td>\n",
              "      <td>0.04</td>\n",
              "      <td>2.3</td>\n",
              "      <td>0.092</td>\n",
              "      <td>15.0</td>\n",
              "      <td>54.0</td>\n",
              "      <td>0.9970</td>\n",
              "      <td>3.26</td>\n",
              "      <td>0.65</td>\n",
              "      <td>9.8</td>\n",
              "    </tr>\n",
              "    <tr>\n",
              "      <th>3</th>\n",
              "      <td>11.2</td>\n",
              "      <td>0.28</td>\n",
              "      <td>0.56</td>\n",
              "      <td>1.9</td>\n",
              "      <td>0.075</td>\n",
              "      <td>17.0</td>\n",
              "      <td>60.0</td>\n",
              "      <td>0.9980</td>\n",
              "      <td>3.16</td>\n",
              "      <td>0.58</td>\n",
              "      <td>9.8</td>\n",
              "    </tr>\n",
              "    <tr>\n",
              "      <th>5</th>\n",
              "      <td>7.4</td>\n",
              "      <td>0.66</td>\n",
              "      <td>0.00</td>\n",
              "      <td>1.8</td>\n",
              "      <td>0.075</td>\n",
              "      <td>13.0</td>\n",
              "      <td>40.0</td>\n",
              "      <td>0.9978</td>\n",
              "      <td>3.51</td>\n",
              "      <td>0.56</td>\n",
              "      <td>9.4</td>\n",
              "    </tr>\n",
              "  </tbody>\n",
              "</table>\n",
              "</div>"
            ],
            "text/plain": [
              "   fixed_acidity  volatile_acidity  citric_acid  ...    pH  sulphates  alcohol\n",
              "0            7.4              0.70         0.00  ...  3.51       0.56      9.4\n",
              "1            7.8              0.88         0.00  ...  3.20       0.68      9.8\n",
              "2            7.8              0.76         0.04  ...  3.26       0.65      9.8\n",
              "3           11.2              0.28         0.56  ...  3.16       0.58      9.8\n",
              "5            7.4              0.66         0.00  ...  3.51       0.56      9.4\n",
              "\n",
              "[5 rows x 11 columns]"
            ]
          },
          "metadata": {
            "tags": []
          },
          "execution_count": 1226
        }
      ]
    },
    {
      "cell_type": "markdown",
      "metadata": {
        "id": "e38ZowKCeCs2",
        "colab_type": "text"
      },
      "source": [
        "**Re-escala dos dados com maximo e mínimo**"
      ]
    },
    {
      "cell_type": "code",
      "metadata": {
        "id": "MhEBK0mNeSMk",
        "colab_type": "code",
        "colab": {}
      },
      "source": [
        "X = (X - X.min())/(X.max() - X.min())"
      ],
      "execution_count": 1227,
      "outputs": []
    },
    {
      "cell_type": "markdown",
      "metadata": {
        "id": "5TC8h9q_nOWj",
        "colab_type": "text"
      },
      "source": [
        "**Peguei todas as colunas, exceto a quality, porque essa seria a coluna de classificação dos vinho, com as respectivas pontuações dos vinhos**"
      ]
    },
    {
      "cell_type": "code",
      "metadata": {
        "id": "i6c-htxUhP3Z",
        "colab_type": "code",
        "colab": {
          "base_uri": "https://localhost:8080/",
          "height": 119
        },
        "outputId": "1d955d7f-799d-437c-fd81-19876120a998"
      },
      "source": [
        "y = dados.quality\n",
        "y.head()"
      ],
      "execution_count": 1228,
      "outputs": [
        {
          "output_type": "execute_result",
          "data": {
            "text/plain": [
              "0    5\n",
              "1    5\n",
              "2    5\n",
              "3    6\n",
              "5    5\n",
              "Name: quality, dtype: int64"
            ]
          },
          "metadata": {
            "tags": []
          },
          "execution_count": 1228
        }
      ]
    },
    {
      "cell_type": "markdown",
      "metadata": {
        "id": "1ZSAng_ypX_H",
        "colab_type": "text"
      },
      "source": [
        "**Divdindo em dados de teste e dados de treino**"
      ]
    },
    {
      "cell_type": "code",
      "metadata": {
        "id": "RL6U8qJVpWzj",
        "colab_type": "code",
        "colab": {}
      },
      "source": [
        "X_train, X_test, y_train, y_test = train_test_split(X,y, test_size=0.2) "
      ],
      "execution_count": 1229,
      "outputs": []
    },
    {
      "cell_type": "markdown",
      "metadata": {
        "id": "0nWB-75NUkv6",
        "colab_type": "text"
      },
      "source": [
        "#6 definindo o algoritmo de aprendizado\n",
        "\n"
      ]
    },
    {
      "cell_type": "markdown",
      "metadata": {
        "id": "YM0AsWWHVbmR",
        "colab_type": "text"
      },
      "source": [
        "**Os importes das bibliotecas estão sendo feitas todas em um unico lugar no top desse notebook (gosto das coisas organizadas)**"
      ]
    },
    {
      "cell_type": "markdown",
      "metadata": {
        "id": "1_rY_r7RYCa1",
        "colab_type": "text"
      },
      "source": [
        "Utilizando a Árvore de decisão"
      ]
    },
    {
      "cell_type": "code",
      "metadata": {
        "id": "M5WI9-lnUtM0",
        "colab_type": "code",
        "colab": {}
      },
      "source": [
        "#definindo modelo \n",
        "classificador = DecisionTreeClassifier()"
      ],
      "execution_count": 1230,
      "outputs": []
    },
    {
      "cell_type": "code",
      "metadata": {
        "id": "fFGm2xGgVxTC",
        "colab_type": "code",
        "colab": {
          "base_uri": "https://localhost:8080/",
          "height": 119
        },
        "outputId": "aee9bdc1-b398-4988-aa67-ddb631b6418e"
      },
      "source": [
        " #treiando o modelo\n",
        " classificador.fit(X_train, y_train)"
      ],
      "execution_count": 1231,
      "outputs": [
        {
          "output_type": "execute_result",
          "data": {
            "text/plain": [
              "DecisionTreeClassifier(ccp_alpha=0.0, class_weight=None, criterion='gini',\n",
              "                       max_depth=None, max_features=None, max_leaf_nodes=None,\n",
              "                       min_impurity_decrease=0.0, min_impurity_split=None,\n",
              "                       min_samples_leaf=1, min_samples_split=2,\n",
              "                       min_weight_fraction_leaf=0.0, presort='deprecated',\n",
              "                       random_state=None, splitter='best')"
            ]
          },
          "metadata": {
            "tags": []
          },
          "execution_count": 1231
        }
      ]
    },
    {
      "cell_type": "markdown",
      "metadata": {
        "id": "tM2FLfBToZuz",
        "colab_type": "text"
      },
      "source": [
        "Plotando a arvore que foi criada"
      ]
    },
    {
      "cell_type": "code",
      "metadata": {
        "id": "YqDmaZ1ooefQ",
        "colab_type": "code",
        "colab": {}
      },
      "source": [
        "plt.rcParams[\"figure.figsize\"] = (30, 15)"
      ],
      "execution_count": 1232,
      "outputs": []
    },
    {
      "cell_type": "code",
      "metadata": {
        "id": "IaOngM_MpODQ",
        "colab_type": "code",
        "colab": {
          "base_uri": "https://localhost:8080/",
          "height": 85
        },
        "outputId": "ac93b891-dec7-4d21-eae9-8de281073046"
      },
      "source": [
        "#verificando se esta fazendo um slice das colunas corretas \n",
        "print(dados.columns[:-1])"
      ],
      "execution_count": 1233,
      "outputs": [
        {
          "output_type": "stream",
          "text": [
            "Index(['fixed_acidity', 'volatile_acidity', 'citric_acid', 'residual_sugar',\n",
            "       'chlorides', 'free_sulfur_dioxide', 'total_sulfur_dioxide', 'density',\n",
            "       'pH', 'sulphates', 'alcohol'],\n",
            "      dtype='object')\n"
          ],
          "name": "stdout"
        }
      ]
    },
    {
      "cell_type": "code",
      "metadata": {
        "id": "O8v77BL5opoG",
        "colab_type": "code",
        "colab": {
          "base_uri": "https://localhost:8080/",
          "height": 751
        },
        "outputId": "258d95e1-a2c7-423f-9aea-50f6d1708d04"
      },
      "source": [
        "plot_tree(classificador, feature_names=dados.columns[:-1])\n",
        "plt.show()"
      ],
      "execution_count": 1234,
      "outputs": [
        {
          "output_type": "display_data",
          "data": {
            "image/png": "[encoded data removed]",
            "text/plain": [
              "<Figure size 2160x1080 with 1 Axes>"
            ]
          },
          "metadata": {
            "tags": [],
            "needs_background": "light"
          }
        }
      ]
    },
    {
      "cell_type": "code",
      "metadata": {
        "id": "n9spNR_kCRIx",
        "colab_type": "code",
        "colab": {}
      },
      "source": [
        "#Retornando o tamnaho da figura \n",
        "plt.rcParams[\"figure.figsize\"] = (8, 6)"
      ],
      "execution_count": 1235,
      "outputs": []
    },
    {
      "cell_type": "code",
      "metadata": {
        "id": "OKnrFTQ-EFN_",
        "colab_type": "code",
        "colab": {
          "base_uri": "https://localhost:8080/",
          "height": 238
        },
        "outputId": "1bdfb893-7ffb-4c4f-9638-248de210d6c9"
      },
      "source": [
        "#Realizando a classificação \n",
        "classificacao = classificador.predict(X_test)\n",
        "classificacao"
      ],
      "execution_count": 1236,
      "outputs": [
        {
          "output_type": "execute_result",
          "data": {
            "text/plain": [
              "array([5, 6, 7, 5, 5, 6, 6, 5, 5, 5, 5, 5, 4, 5, 6, 5, 6, 6, 6, 6, 6, 7,\n",
              "       6, 7, 6, 5, 5, 5, 5, 6, 5, 6, 7, 5, 7, 4, 5, 5, 5, 6, 6, 4, 5, 5,\n",
              "       6, 5, 5, 7, 5, 5, 5, 6, 5, 6, 5, 7, 6, 6, 6, 6, 5, 7, 5, 5, 5, 5,\n",
              "       6, 4, 6, 7, 5, 6, 6, 4, 6, 6, 4, 5, 5, 6, 5, 7, 5, 7, 6, 5, 4, 5,\n",
              "       6, 6, 6, 6, 6, 6, 5, 6, 6, 5, 5, 5, 5, 6, 5, 6, 5, 8, 5, 5, 5, 6,\n",
              "       4, 5, 7, 6, 7, 6, 6, 5, 5, 7, 6, 6, 4, 5, 6, 5, 7, 6, 6, 5, 5, 6,\n",
              "       5, 5, 6, 5, 6, 6, 5, 5, 4, 6, 5, 5, 5, 5, 4, 5, 5, 5, 5, 5, 4, 6,\n",
              "       5, 7, 5, 5, 5, 5, 6, 6, 6, 6, 6, 5, 5, 6, 5, 5, 7, 7, 6, 5, 6, 6,\n",
              "       5, 6, 5, 7, 6, 6, 6, 6, 6, 5, 6, 7, 5, 5, 7, 7, 5, 5, 5, 6, 6, 4,\n",
              "       6, 6, 4, 5, 6, 6, 7, 5, 6, 6, 6, 7, 6, 7, 7, 6, 6, 4, 6, 5, 4, 6,\n",
              "       7, 3, 6, 5, 6, 5, 5, 4, 7, 5, 7, 6, 4, 6, 5, 6, 5, 6, 5, 6, 4, 5,\n",
              "       6, 5, 5, 5, 6, 5, 7, 6, 5, 5, 8, 6, 5, 5, 5, 4, 4, 7, 5, 5, 5, 5,\n",
              "       6, 6, 5, 6, 5, 4, 6, 6])"
            ]
          },
          "metadata": {
            "tags": []
          },
          "execution_count": 1236
        }
      ]
    },
    {
      "cell_type": "code",
      "metadata": {
        "id": "X3_U4M0jE2Jq",
        "colab_type": "code",
        "colab": {
          "base_uri": "https://localhost:8080/",
          "height": 1000
        },
        "outputId": "58a1f666-4ba3-4d94-e957-41e26fd4befe"
      },
      "source": [
        "for i in range(len(y_test)):\n",
        "  print(y_test.iloc[i],'\\t', classificacao[i])"
      ],
      "execution_count": 1237,
      "outputs": [
        {
          "output_type": "stream",
          "text": [
            "5 \t 5\n",
            "5 \t 6\n",
            "5 \t 7\n",
            "7 \t 5\n",
            "5 \t 5\n",
            "7 \t 6\n",
            "7 \t 6\n",
            "5 \t 5\n",
            "5 \t 5\n",
            "5 \t 5\n",
            "5 \t 5\n",
            "5 \t 5\n",
            "6 \t 4\n",
            "6 \t 5\n",
            "6 \t 6\n",
            "6 \t 5\n",
            "6 \t 6\n",
            "5 \t 6\n",
            "6 \t 6\n",
            "6 \t 6\n",
            "5 \t 6\n",
            "7 \t 7\n",
            "5 \t 6\n",
            "6 \t 7\n",
            "5 \t 6\n",
            "5 \t 5\n",
            "5 \t 5\n",
            "4 \t 5\n",
            "5 \t 5\n",
            "6 \t 6\n",
            "5 \t 5\n",
            "7 \t 6\n",
            "7 \t 7\n",
            "3 \t 5\n",
            "5 \t 7\n",
            "5 \t 4\n",
            "5 \t 5\n",
            "5 \t 5\n",
            "5 \t 5\n",
            "6 \t 6\n",
            "6 \t 6\n",
            "5 \t 4\n",
            "5 \t 5\n",
            "5 \t 5\n",
            "6 \t 6\n",
            "5 \t 5\n",
            "5 \t 5\n",
            "7 \t 7\n",
            "5 \t 5\n",
            "5 \t 5\n",
            "6 \t 5\n",
            "6 \t 6\n",
            "5 \t 5\n",
            "6 \t 6\n",
            "5 \t 5\n",
            "7 \t 7\n",
            "5 \t 6\n",
            "6 \t 6\n",
            "4 \t 6\n",
            "6 \t 6\n",
            "6 \t 5\n",
            "6 \t 7\n",
            "7 \t 5\n",
            "6 \t 5\n",
            "5 \t 5\n",
            "6 \t 5\n",
            "6 \t 6\n",
            "5 \t 4\n",
            "6 \t 6\n",
            "6 \t 7\n",
            "5 \t 5\n",
            "5 \t 6\n",
            "4 \t 6\n",
            "5 \t 4\n",
            "6 \t 6\n",
            "4 \t 6\n",
            "7 \t 4\n",
            "5 \t 5\n",
            "6 \t 5\n",
            "5 \t 6\n",
            "6 \t 5\n",
            "7 \t 7\n",
            "5 \t 5\n",
            "5 \t 7\n",
            "6 \t 6\n",
            "5 \t 5\n",
            "5 \t 4\n",
            "6 \t 5\n",
            "7 \t 6\n",
            "6 \t 6\n",
            "7 \t 6\n",
            "6 \t 6\n",
            "6 \t 6\n",
            "6 \t 6\n",
            "5 \t 5\n",
            "6 \t 6\n",
            "6 \t 6\n",
            "6 \t 5\n",
            "6 \t 5\n",
            "6 \t 5\n",
            "6 \t 5\n",
            "5 \t 6\n",
            "4 \t 5\n",
            "5 \t 6\n",
            "6 \t 5\n",
            "6 \t 8\n",
            "5 \t 5\n",
            "6 \t 5\n",
            "6 \t 5\n",
            "5 \t 6\n",
            "6 \t 4\n",
            "6 \t 5\n",
            "6 \t 7\n",
            "7 \t 6\n",
            "8 \t 7\n",
            "5 \t 6\n",
            "6 \t 6\n",
            "5 \t 5\n",
            "6 \t 5\n",
            "6 \t 7\n",
            "5 \t 6\n",
            "6 \t 6\n",
            "5 \t 4\n",
            "4 \t 5\n",
            "6 \t 6\n",
            "5 \t 5\n",
            "8 \t 7\n",
            "6 \t 6\n",
            "7 \t 6\n",
            "4 \t 5\n",
            "6 \t 5\n",
            "5 \t 6\n",
            "5 \t 5\n",
            "6 \t 5\n",
            "6 \t 6\n",
            "5 \t 5\n",
            "4 \t 6\n",
            "7 \t 6\n",
            "5 \t 5\n",
            "5 \t 5\n",
            "5 \t 4\n",
            "6 \t 6\n",
            "5 \t 5\n",
            "6 \t 5\n",
            "4 \t 5\n",
            "5 \t 5\n",
            "6 \t 4\n",
            "5 \t 5\n",
            "5 \t 5\n",
            "5 \t 5\n",
            "5 \t 5\n",
            "6 \t 5\n",
            "6 \t 4\n",
            "5 \t 6\n",
            "6 \t 5\n",
            "7 \t 7\n",
            "5 \t 5\n",
            "6 \t 5\n",
            "6 \t 5\n",
            "6 \t 5\n",
            "5 \t 6\n",
            "7 \t 6\n",
            "8 \t 6\n",
            "7 \t 6\n",
            "5 \t 6\n",
            "5 \t 5\n",
            "5 \t 5\n",
            "5 \t 6\n",
            "5 \t 5\n",
            "5 \t 5\n",
            "7 \t 7\n",
            "5 \t 7\n",
            "5 \t 6\n",
            "6 \t 5\n",
            "5 \t 6\n",
            "6 \t 6\n",
            "6 \t 5\n",
            "7 \t 6\n",
            "5 \t 5\n",
            "7 \t 7\n",
            "7 \t 6\n",
            "5 \t 6\n",
            "6 \t 6\n",
            "5 \t 6\n",
            "6 \t 6\n",
            "5 \t 5\n",
            "5 \t 6\n",
            "5 \t 7\n",
            "5 \t 5\n",
            "5 \t 5\n",
            "5 \t 7\n",
            "5 \t 7\n",
            "5 \t 5\n",
            "5 \t 5\n",
            "6 \t 5\n",
            "6 \t 6\n",
            "6 \t 6\n",
            "5 \t 4\n",
            "6 \t 6\n",
            "5 \t 6\n",
            "5 \t 4\n",
            "5 \t 5\n",
            "6 \t 6\n",
            "6 \t 6\n",
            "6 \t 7\n",
            "6 \t 5\n",
            "7 \t 6\n",
            "6 \t 6\n",
            "6 \t 6\n",
            "6 \t 7\n",
            "6 \t 6\n",
            "7 \t 7\n",
            "6 \t 7\n",
            "7 \t 6\n",
            "7 \t 6\n",
            "5 \t 4\n",
            "6 \t 6\n",
            "5 \t 5\n",
            "3 \t 4\n",
            "6 \t 6\n",
            "7 \t 7\n",
            "4 \t 3\n",
            "6 \t 6\n",
            "6 \t 5\n",
            "5 \t 6\n",
            "5 \t 5\n",
            "5 \t 5\n",
            "6 \t 4\n",
            "6 \t 7\n",
            "5 \t 5\n",
            "5 \t 7\n",
            "5 \t 6\n",
            "5 \t 4\n",
            "5 \t 6\n",
            "7 \t 5\n",
            "7 \t 6\n",
            "6 \t 5\n",
            "6 \t 6\n",
            "5 \t 5\n",
            "5 \t 6\n",
            "5 \t 4\n",
            "6 \t 5\n",
            "7 \t 6\n",
            "5 \t 5\n",
            "5 \t 5\n",
            "5 \t 5\n",
            "5 \t 6\n",
            "5 \t 5\n",
            "5 \t 7\n",
            "6 \t 6\n",
            "5 \t 5\n",
            "5 \t 5\n",
            "7 \t 8\n",
            "6 \t 6\n",
            "5 \t 5\n",
            "6 \t 5\n",
            "5 \t 5\n",
            "5 \t 4\n",
            "6 \t 4\n",
            "6 \t 7\n",
            "5 \t 5\n",
            "5 \t 5\n",
            "6 \t 5\n",
            "5 \t 5\n",
            "6 \t 6\n",
            "5 \t 6\n",
            "5 \t 5\n",
            "6 \t 6\n",
            "6 \t 5\n",
            "7 \t 4\n",
            "6 \t 6\n",
            "5 \t 6\n"
          ],
          "name": "stdout"
        }
      ]
    },
    {
      "cell_type": "markdown",
      "metadata": {
        "id": "_TEQtpt0Igy-",
        "colab_type": "text"
      },
      "source": [
        "# 7 Avaliação do classificador"
      ]
    },
    {
      "cell_type": "markdown",
      "metadata": {
        "id": "NejRmK17iTrs",
        "colab_type": "text"
      },
      "source": [
        "**Agora vamos avaliar a taxa de acerto do nosso classificador**"
      ]
    },
    {
      "cell_type": "code",
      "metadata": {
        "id": "LDlPEffOImi0",
        "colab_type": "code",
        "colab": {
          "base_uri": "https://localhost:8080/",
          "height": 34
        },
        "outputId": "3ca68a08-6e48-4313-fcac-337c8018bb09"
      },
      "source": [
        "#Verificando a curaria (Taxa de acertos do classificador)\n",
        "acuracia = accuracy_score(y_test,classificacao)\n",
        "acuracia"
      ],
      "execution_count": 1238,
      "outputs": [
        {
          "output_type": "execute_result",
          "data": {
            "text/plain": [
              "0.47058823529411764"
            ]
          },
          "metadata": {
            "tags": []
          },
          "execution_count": 1238
        }
      ]
    },
    {
      "cell_type": "code",
      "metadata": {
        "id": "YFVA1mZ_pmiY",
        "colab_type": "code",
        "colab": {
          "base_uri": "https://localhost:8080/",
          "height": 34
        },
        "outputId": "ca25cc72-f71b-4304-d6ee-812ab8dd6ba0"
      },
      "source": [
        "#Verificando o Recall (taxa de instancias classificadas corretamente)\n",
        "recall = recall_score(y_test,classificacao, average='weighted')\n",
        "recall"
      ],
      "execution_count": 1239,
      "outputs": [
        {
          "output_type": "execute_result",
          "data": {
            "text/plain": [
              "0.47058823529411764"
            ]
          },
          "metadata": {
            "tags": []
          },
          "execution_count": 1239
        }
      ]
    },
    {
      "cell_type": "code",
      "metadata": {
        "id": "c9ciz3RDjVWY",
        "colab_type": "code",
        "colab": {
          "base_uri": "https://localhost:8080/",
          "height": 34
        },
        "outputId": "56a9dbe6-0f96-43ea-cd80-d00cb0977eb4"
      },
      "source": [
        "#Verificando a precisão (taxa de instâncias classificadas como positivas que realmente são positivas \n",
        "precisao = precision_score(y_test,classificacao,average='weighted')\n",
        "precisao"
      ],
      "execution_count": 1240,
      "outputs": [
        {
          "output_type": "execute_result",
          "data": {
            "text/plain": [
              "0.49086296510188937"
            ]
          },
          "metadata": {
            "tags": []
          },
          "execution_count": 1240
        }
      ]
    },
    {
      "cell_type": "code",
      "metadata": {
        "id": "MINPl9S0jV-J",
        "colab_type": "code",
        "colab": {
          "base_uri": "https://localhost:8080/",
          "height": 34
        },
        "outputId": "9ea4e34e-cd00-4b34-99eb-a719369ea39e"
      },
      "source": [
        "#Verificando o F1(Balanço entre precisão e recall)\n",
        "f1 = f1_score(y_test,classificacao, average='weighted')\n",
        "f1"
      ],
      "execution_count": 1241,
      "outputs": [
        {
          "output_type": "execute_result",
          "data": {
            "text/plain": [
              "0.4803876513840831"
            ]
          },
          "metadata": {
            "tags": []
          },
          "execution_count": 1241
        }
      ]
    },
    {
      "cell_type": "markdown",
      "metadata": {
        "id": "ruEweHAUuqbn",
        "colab_type": "text"
      },
      "source": [
        "# **Área sob a Curva - AUC**\n"
      ]
    },
    {
      "cell_type": "markdown",
      "metadata": {
        "id": "lLW_BVtjyX9Q",
        "colab_type": "text"
      },
      "source": [
        "Plotando a curva ROC (não consegui plotar a curva ROC. Pelo que vi na documentação a função \"fpr, tpr, _ = roc_curve(y_test,classificacao)\" funciona especificamente para classificação binária, já meu dataset é multiclass"
      ]
    },
    {
      "cell_type": "code",
      "metadata": {
        "id": "FJRKlq_qu_PU",
        "colab_type": "code",
        "colab": {
          "base_uri": "https://localhost:8080/",
          "height": 136
        },
        "outputId": "caaa171e-293b-40c6-e05b-c2162fd2138f"
      },
      "source": [
        "#pegando as estimativas de probabilidade do meu modelo de arvore para passar no AUC área sob a curva\n",
        "y_predic_prob = classificador.predict_proba(X_test)\n",
        "y_predic_prob"
      ],
      "execution_count": 1242,
      "outputs": [
        {
          "output_type": "execute_result",
          "data": {
            "text/plain": [
              "array([[0., 0., 1., 0., 0., 0.],\n",
              "       [0., 0., 0., 1., 0., 0.],\n",
              "       [0., 0., 0., 0., 1., 0.],\n",
              "       ...,\n",
              "       [0., 1., 0., 0., 0., 0.],\n",
              "       [0., 0., 0., 1., 0., 0.],\n",
              "       [0., 0., 0., 1., 0., 0.]])"
            ]
          },
          "metadata": {
            "tags": []
          },
          "execution_count": 1242
        }
      ]
    },
    {
      "cell_type": "code",
      "metadata": {
        "id": "LDscjsnmFezC",
        "colab_type": "code",
        "colab": {
          "base_uri": "https://localhost:8080/",
          "height": 34
        },
        "outputId": "05257a04-c362-4fbf-e7b3-2ee5a4cc8bb2"
      },
      "source": [
        "#valor da área sobr a curva \n",
        "roc_auc_score(y_test, y_predic_prob, multi_class='ovo')"
      ],
      "execution_count": 1243,
      "outputs": [
        {
          "output_type": "execute_result",
          "data": {
            "text/plain": [
              "0.5347383518839688"
            ]
          },
          "metadata": {
            "tags": []
          },
          "execution_count": 1243
        }
      ]
    },
    {
      "cell_type": "markdown",
      "metadata": {
        "id": "ObgIk1FPKqq4",
        "colab_type": "text"
      },
      "source": [
        "# **Validação Cruzada**"
      ]
    },
    {
      "cell_type": "code",
      "metadata": {
        "id": "MaiATgEQK5Nx",
        "colab_type": "code",
        "colab": {}
      },
      "source": [
        "#Montando os folds para a validação cruzada\n",
        "kf = KFold(n_splits=5)"
      ],
      "execution_count": 1244,
      "outputs": []
    },
    {
      "cell_type": "code",
      "metadata": {
        "id": "5DLzx6QVL27W",
        "colab_type": "code",
        "colab": {}
      },
      "source": [
        "crossclassificador = DecisionTreeClassifier()"
      ],
      "execution_count": 1245,
      "outputs": []
    },
    {
      "cell_type": "code",
      "metadata": {
        "id": "F9mJ_GnCMlwt",
        "colab_type": "code",
        "colab": {
          "base_uri": "https://localhost:8080/",
          "height": 51
        },
        "outputId": "0ceb2c54-7d6e-4923-b969-43956a34c0ae"
      },
      "source": [
        "scores = cross_val_score(crossclassificador, X,y,cv = 10)\n",
        "scores"
      ],
      "execution_count": 1247,
      "outputs": [
        {
          "output_type": "execute_result",
          "data": {
            "text/plain": [
              "array([0.41176471, 0.45588235, 0.47794118, 0.44117647, 0.42647059,\n",
              "       0.51470588, 0.5       , 0.49264706, 0.375     , 0.46666667])"
            ]
          },
          "metadata": {
            "tags": []
          },
          "execution_count": 1247
        }
      ]
    },
    {
      "cell_type": "markdown",
      "metadata": {
        "id": "QuOIMKDsNBqA",
        "colab_type": "text"
      },
      "source": [
        "Mesmo com essas divisões dos folds a minha taxa de acerto ainda continuou baixa em todos os folds"
      ]
    },
    {
      "cell_type": "code",
      "metadata": {
        "id": "AJVbWbq_NJfi",
        "colab_type": "code",
        "colab": {
          "base_uri": "https://localhost:8080/",
          "height": 34
        },
        "outputId": "701bae8c-2b56-41d8-cbf1-054bba049e53"
      },
      "source": [
        "scores.mean(),scores.std()"
      ],
      "execution_count": 1250,
      "outputs": [
        {
          "output_type": "execute_result",
          "data": {
            "text/plain": [
              "(0.45622549019607844, 0.041145559125566375)"
            ]
          },
          "metadata": {
            "tags": []
          },
          "execution_count": 1250
        }
      ]
    },
    {
      "cell_type": "markdown",
      "metadata": {
        "id": "GqRojrSVNxvg",
        "colab_type": "text"
      },
      "source": [
        "#**8 Comparando a Árvore de Decisão com a Random Forest**\n"
      ]
    },
    {
      "cell_type": "code",
      "metadata": {
        "id": "WVUsKuWiOM23",
        "colab_type": "code",
        "colab": {
          "base_uri": "https://localhost:8080/",
          "height": 119
        },
        "outputId": "10ba246c-6196-4489-b933-cdc3a9e4a4b4"
      },
      "source": [
        "#criando meu novo modelo de arvore \n",
        "arvore = DecisionTreeClassifier()\n",
        "arvore.fit(X_train,y_train)"
      ],
      "execution_count": 1253,
      "outputs": [
        {
          "output_type": "execute_result",
          "data": {
            "text/plain": [
              "DecisionTreeClassifier(ccp_alpha=0.0, class_weight=None, criterion='gini',\n",
              "                       max_depth=None, max_features=None, max_leaf_nodes=None,\n",
              "                       min_impurity_decrease=0.0, min_impurity_split=None,\n",
              "                       min_samples_leaf=1, min_samples_split=2,\n",
              "                       min_weight_fraction_leaf=0.0, presort='deprecated',\n",
              "                       random_state=None, splitter='best')"
            ]
          },
          "metadata": {
            "tags": []
          },
          "execution_count": 1253
        }
      ]
    },
    {
      "cell_type": "code",
      "metadata": {
        "id": "ffZYSl1hRIUv",
        "colab_type": "code",
        "colab": {
          "base_uri": "https://localhost:8080/",
          "height": 153
        },
        "outputId": "320293b7-e65b-4ecf-8d7d-647777d9ba56"
      },
      "source": [
        "#Criando minha random florest \n",
        "floresta = RandomForestClassifier(n_estimators=100)\n",
        "floresta.fit(X_train, y_train)"
      ],
      "execution_count": 1255,
      "outputs": [
        {
          "output_type": "execute_result",
          "data": {
            "text/plain": [
              "RandomForestClassifier(bootstrap=True, ccp_alpha=0.0, class_weight=None,\n",
              "                       criterion='gini', max_depth=None, max_features='auto',\n",
              "                       max_leaf_nodes=None, max_samples=None,\n",
              "                       min_impurity_decrease=0.0, min_impurity_split=None,\n",
              "                       min_samples_leaf=1, min_samples_split=2,\n",
              "                       min_weight_fraction_leaf=0.0, n_estimators=100,\n",
              "                       n_jobs=None, oob_score=False, random_state=None,\n",
              "                       verbose=0, warm_start=False)"
            ]
          },
          "metadata": {
            "tags": []
          },
          "execution_count": 1255
        }
      ]
    },
    {
      "cell_type": "code",
      "metadata": {
        "id": "vWnPz70pRkXt",
        "colab_type": "code",
        "colab": {
          "base_uri": "https://localhost:8080/",
          "height": 34
        },
        "outputId": "219b29ae-d6eb-4683-dcd8-5f5f472501b4"
      },
      "source": [
        "#calculando acurácia da árvores de decisão\n",
        "arvore.score(X_test, y_test)"
      ],
      "execution_count": 1257,
      "outputs": [
        {
          "output_type": "execute_result",
          "data": {
            "text/plain": [
              "0.4852941176470588"
            ]
          },
          "metadata": {
            "tags": []
          },
          "execution_count": 1257
        }
      ]
    },
    {
      "cell_type": "code",
      "metadata": {
        "id": "ndXKwgL_R4qm",
        "colab_type": "code",
        "colab": {
          "base_uri": "https://localhost:8080/",
          "height": 34
        },
        "outputId": "7277cd6b-16b3-4704-e9c5-12d5fe797ea9"
      },
      "source": [
        "#calculando a acuracia da random florest\n",
        "floresta.score(X_train, y_train)"
      ],
      "execution_count": 1259,
      "outputs": [
        {
          "output_type": "execute_result",
          "data": {
            "text/plain": [
              "1.0"
            ]
          },
          "metadata": {
            "tags": []
          },
          "execution_count": 1259
        }
      ]
    },
    {
      "cell_type": "code",
      "metadata": {
        "id": "Rrx-3loASEad",
        "colab_type": "code",
        "colab": {}
      },
      "source": [
        "#realizando previsão com arvore de decisão\n",
        "clf_arvore = arvore.predict(X_test)"
      ],
      "execution_count": 1262,
      "outputs": []
    },
    {
      "cell_type": "code",
      "metadata": {
        "id": "h0aPE6m6Sdr1",
        "colab_type": "code",
        "colab": {}
      },
      "source": [
        "#realizando previsão com random forest\n",
        "clf_floresta = floresta.predict(X_test)"
      ],
      "execution_count": 1264,
      "outputs": []
    },
    {
      "cell_type": "markdown",
      "metadata": {
        "id": "IYztFVoxVFuI",
        "colab_type": "text"
      },
      "source": [
        "#Validação Cruzada"
      ]
    },
    {
      "cell_type": "code",
      "metadata": {
        "id": "yRExJ1B5VRMe",
        "colab_type": "code",
        "colab": {
          "base_uri": "https://localhost:8080/",
          "height": 34
        },
        "outputId": "0c164594-1ae4-4327-f2b4-d5081d135a29"
      },
      "source": [
        "#criando árvore\n",
        "arvore = DecisionTreeClassifier()\n",
        "\n",
        "#calculando os scores\n",
        "scores = cross_val_score(arvore,X,y,cv=10)\n",
        "round(scores.mean(),3),round(scores.std(),3)"
      ],
      "execution_count": 1269,
      "outputs": [
        {
          "output_type": "execute_result",
          "data": {
            "text/plain": [
              "(0.442, 0.033)"
            ]
          },
          "metadata": {
            "tags": []
          },
          "execution_count": 1269
        }
      ]
    },
    {
      "cell_type": "code",
      "metadata": {
        "id": "0-CGPv3tVWEQ",
        "colab_type": "code",
        "colab": {
          "base_uri": "https://localhost:8080/",
          "height": 34
        },
        "outputId": "277d6eb1-2556-4d27-b3b0-e48ff39f242b"
      },
      "source": [
        "#criando árvore\n",
        "floresta = RandomForestClassifier()\n",
        "\n",
        "#calculando os scores\n",
        "scores = cross_val_score(floresta,X,y,cv=10)\n",
        "round(scores.mean(),3),round(scores.std(),3)"
      ],
      "execution_count": 1270,
      "outputs": [
        {
          "output_type": "execute_result",
          "data": {
            "text/plain": [
              "(0.567, 0.038)"
            ]
          },
          "metadata": {
            "tags": []
          },
          "execution_count": 1270
        }
      ]
    }
  ]
}