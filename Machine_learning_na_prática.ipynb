{
  "nbformat": 4,
  "nbformat_minor": 0,
  "metadata": {
    "colab": {
      "name": "Machine learning na prática.ipynb",
      "provenance": [],
      "authorship_tag": "ABX9TyM9BW+CrwVpYNMKbp8XWaK2",
      "include_colab_link": true
    },
    "kernelspec": {
      "name": "python3",
      "display_name": "Python 3"
    }
  },
  "cells": [
    {
      "cell_type": "markdown",
      "metadata": {
        "id": "view-in-github",
        "colab_type": "text"
      },
      "source": [
        "<a href=\"https://colab.research.google.com/github/willamesalmeida/machine_learning/blob/master/Machine_learning_na_pr%C3%A1tica.ipynb\" target=\"_parent\"><img src=\"https://colab.research.google.com/assets/colab-badge.svg\" alt=\"Open In Colab\"/></a>"
      ]
    },
    {
      "cell_type": "code",
      "metadata": {
        "id": "36PY1BcMiw0R",
        "colab_type": "code",
        "colab": {
          "base_uri": "https://localhost:8080/",
          "height": 34
        },
        "outputId": "931db4fd-bb2d-496b-a2ba-fb4eef566ed5"
      },
      "source": [
        "from google.colab import drive\n",
        "drive.mount('/content/drive/')"
      ],
      "execution_count": 17,
      "outputs": [
        {
          "output_type": "stream",
          "text": [
            "Drive already mounted at /content/drive/; to attempt to forcibly remount, call drive.mount(\"/content/drive/\", force_remount=True).\n"
          ],
          "name": "stdout"
        }
      ]
    },
    {
      "cell_type": "markdown",
      "metadata": {
        "id": "lPHk39mkke3o",
        "colab_type": "text"
      },
      "source": [
        "#1 Fazendo os importes da biblioteca"
      ]
    },
    {
      "cell_type": "code",
      "metadata": {
        "id": "b8ynFsVywdM3",
        "colab_type": "code",
        "colab": {}
      },
      "source": [
        "  import numpy as np\n",
        "  import pandas as pd\n",
        "  import matplotlib.pyplot as plt\n",
        "  import seaborn as sns"
      ],
      "execution_count": 18,
      "outputs": []
    },
    {
      "cell_type": "markdown",
      "metadata": {
        "id": "Hs0M8SkkkFM1",
        "colab_type": "text"
      },
      "source": [
        "# 2 fazendo a leitura e o carregamento dos dados na memória\n",
        "\n"
      ]
    },
    {
      "cell_type": "code",
      "metadata": {
        "id": "065m-8i4Hn0m",
        "colab_type": "code",
        "colab": {}
      },
      "source": [
        "#lendo o dataset video_games_sales \n",
        "dados = pd.read_csv('/content/drive//My Drive/Colab Notebooks/Dataset/winequality-red.csv')"
      ],
      "execution_count": 19,
      "outputs": []
    },
    {
      "cell_type": "code",
      "metadata": {
        "id": "6d7VbvfbNfrR",
        "colab_type": "code",
        "colab": {
          "base_uri": "https://localhost:8080/",
          "height": 85
        },
        "outputId": "3e7ad8fd-cad9-478a-d5fd-f8e329b2dd8c"
      },
      "source": [
        "#verificando as colunas do arquivo\n",
        "dados.columns"
      ],
      "execution_count": 20,
      "outputs": [
        {
          "output_type": "execute_result",
          "data": {
            "text/plain": [
              "Index(['fixed acidity', 'volatile acidity', 'citric acid', 'residual sugar',\n",
              "       'chlorides', 'free sulfur dioxide', 'total sulfur dioxide', 'density',\n",
              "       'pH', 'sulphates', 'alcohol', 'quality'],\n",
              "      dtype='object')"
            ]
          },
          "metadata": {
            "tags": []
          },
          "execution_count": 20
        }
      ]
    },
    {
      "cell_type": "code",
      "metadata": {
        "id": "PMjYm8NqKCCP",
        "colab_type": "code",
        "colab": {
          "base_uri": "https://localhost:8080/",
          "height": 258
        },
        "outputId": "5393524b-fcea-489c-c473-9d17a81b8e08"
      },
      "source": [
        "#visualizando algumas linhas \n",
        "dados.head()"
      ],
      "execution_count": 21,
      "outputs": [
        {
          "output_type": "execute_result",
          "data": {
            "text/html": [
              "<div>\n",
              "<style scoped>\n",
              "    .dataframe tbody tr th:only-of-type {\n",
              "        vertical-align: middle;\n",
              "    }\n",
              "\n",
              "    .dataframe tbody tr th {\n",
              "        vertical-align: top;\n",
              "    }\n",
              "\n",
              "    .dataframe thead th {\n",
              "        text-align: right;\n",
              "    }\n",
              "</style>\n",
              "<table border=\"1\" class=\"dataframe\">\n",
              "  <thead>\n",
              "    <tr style=\"text-align: right;\">\n",
              "      <th></th>\n",
              "      <th>fixed acidity</th>\n",
              "      <th>volatile acidity</th>\n",
              "      <th>citric acid</th>\n",
              "      <th>residual sugar</th>\n",
              "      <th>chlorides</th>\n",
              "      <th>free sulfur dioxide</th>\n",
              "      <th>total sulfur dioxide</th>\n",
              "      <th>density</th>\n",
              "      <th>pH</th>\n",
              "      <th>sulphates</th>\n",
              "      <th>alcohol</th>\n",
              "      <th>quality</th>\n",
              "    </tr>\n",
              "  </thead>\n",
              "  <tbody>\n",
              "    <tr>\n",
              "      <th>0</th>\n",
              "      <td>7.4</td>\n",
              "      <td>0.70</td>\n",
              "      <td>0.00</td>\n",
              "      <td>1.9</td>\n",
              "      <td>0.076</td>\n",
              "      <td>11.0</td>\n",
              "      <td>34.0</td>\n",
              "      <td>0.9978</td>\n",
              "      <td>3.51</td>\n",
              "      <td>0.56</td>\n",
              "      <td>9.4</td>\n",
              "      <td>5</td>\n",
              "    </tr>\n",
              "    <tr>\n",
              "      <th>1</th>\n",
              "      <td>7.8</td>\n",
              "      <td>0.88</td>\n",
              "      <td>0.00</td>\n",
              "      <td>2.6</td>\n",
              "      <td>0.098</td>\n",
              "      <td>25.0</td>\n",
              "      <td>67.0</td>\n",
              "      <td>0.9968</td>\n",
              "      <td>3.20</td>\n",
              "      <td>0.68</td>\n",
              "      <td>9.8</td>\n",
              "      <td>5</td>\n",
              "    </tr>\n",
              "    <tr>\n",
              "      <th>2</th>\n",
              "      <td>7.8</td>\n",
              "      <td>0.76</td>\n",
              "      <td>0.04</td>\n",
              "      <td>2.3</td>\n",
              "      <td>0.092</td>\n",
              "      <td>15.0</td>\n",
              "      <td>54.0</td>\n",
              "      <td>0.9970</td>\n",
              "      <td>3.26</td>\n",
              "      <td>0.65</td>\n",
              "      <td>9.8</td>\n",
              "      <td>5</td>\n",
              "    </tr>\n",
              "    <tr>\n",
              "      <th>3</th>\n",
              "      <td>11.2</td>\n",
              "      <td>0.28</td>\n",
              "      <td>0.56</td>\n",
              "      <td>1.9</td>\n",
              "      <td>0.075</td>\n",
              "      <td>17.0</td>\n",
              "      <td>60.0</td>\n",
              "      <td>0.9980</td>\n",
              "      <td>3.16</td>\n",
              "      <td>0.58</td>\n",
              "      <td>9.8</td>\n",
              "      <td>6</td>\n",
              "    </tr>\n",
              "    <tr>\n",
              "      <th>4</th>\n",
              "      <td>7.4</td>\n",
              "      <td>0.70</td>\n",
              "      <td>0.00</td>\n",
              "      <td>1.9</td>\n",
              "      <td>0.076</td>\n",
              "      <td>11.0</td>\n",
              "      <td>34.0</td>\n",
              "      <td>0.9978</td>\n",
              "      <td>3.51</td>\n",
              "      <td>0.56</td>\n",
              "      <td>9.4</td>\n",
              "      <td>5</td>\n",
              "    </tr>\n",
              "  </tbody>\n",
              "</table>\n",
              "</div>"
            ],
            "text/plain": [
              "   fixed acidity  volatile acidity  citric acid  ...  sulphates  alcohol  quality\n",
              "0            7.4              0.70         0.00  ...       0.56      9.4        5\n",
              "1            7.8              0.88         0.00  ...       0.68      9.8        5\n",
              "2            7.8              0.76         0.04  ...       0.65      9.8        5\n",
              "3           11.2              0.28         0.56  ...       0.58      9.8        6\n",
              "4            7.4              0.70         0.00  ...       0.56      9.4        5\n",
              "\n",
              "[5 rows x 12 columns]"
            ]
          },
          "metadata": {
            "tags": []
          },
          "execution_count": 21
        }
      ]
    },
    {
      "cell_type": "markdown",
      "metadata": {
        "id": "D2CEaRv_j989",
        "colab_type": "text"
      },
      "source": [
        ""
      ]
    },
    {
      "cell_type": "markdown",
      "metadata": {
        "id": "vQp7s2-Pk2g9",
        "colab_type": "text"
      },
      "source": [
        "# 3 Tratando os dados e fazendo limpeza"
      ]
    },
    {
      "cell_type": "code",
      "metadata": {
        "id": "dU8mPFqzWiuF",
        "colab_type": "code",
        "colab": {
          "base_uri": "https://localhost:8080/",
          "height": 34
        },
        "outputId": "1b7810ba-1aeb-420a-c6cb-3218141e83ce"
      },
      "source": [
        "#verificando a quantidade de linhas e colunas\n",
        "dados.shape"
      ],
      "execution_count": 22,
      "outputs": [
        {
          "output_type": "execute_result",
          "data": {
            "text/plain": [
              "(1599, 12)"
            ]
          },
          "metadata": {
            "tags": []
          },
          "execution_count": 22
        }
      ]
    },
    {
      "cell_type": "code",
      "metadata": {
        "id": "wNELfsX-NAxi",
        "colab_type": "code",
        "colab": {
          "base_uri": "https://localhost:8080/",
          "height": 34
        },
        "outputId": "b957569a-0e1d-4fa7-a19c-7714ed9dcf06"
      },
      "source": [
        "#removendo valores duplicados e visualizando se teve muita diferença utilizando shape (possuia alguns valores duplicados) \n",
        "dados = dados.drop_duplicates()\n",
        "dados.shape"
      ],
      "execution_count": 23,
      "outputs": [
        {
          "output_type": "execute_result",
          "data": {
            "text/plain": [
              "(1359, 12)"
            ]
          },
          "metadata": {
            "tags": []
          },
          "execution_count": 23
        }
      ]
    },
    {
      "cell_type": "code",
      "metadata": {
        "id": "stMSaTDwRjbH",
        "colab_type": "code",
        "colab": {
          "base_uri": "https://localhost:8080/",
          "height": 34
        },
        "outputId": "f282523c-bb60-4b2b-902c-f9efa9749380"
      },
      "source": [
        "#Removendo os valores NAN (não possuia NAN)\n",
        "dados = dados.dropna()\n",
        "dados.shape"
      ],
      "execution_count": 24,
      "outputs": [
        {
          "output_type": "execute_result",
          "data": {
            "text/plain": [
              "(1359, 12)"
            ]
          },
          "metadata": {
            "tags": []
          },
          "execution_count": 24
        }
      ]
    },
    {
      "cell_type": "code",
      "metadata": {
        "id": "FbG4YNIQSA31",
        "colab_type": "code",
        "colab": {
          "base_uri": "https://localhost:8080/",
          "height": 238
        },
        "outputId": "66cc3653-a036-4bb6-f32c-2ddcc7cb3836"
      },
      "source": [
        "#verificando a quantidade de valores nulos dentro do dataframe\n",
        "dados.isnull().sum()"
      ],
      "execution_count": 25,
      "outputs": [
        {
          "output_type": "execute_result",
          "data": {
            "text/plain": [
              "fixed acidity           0\n",
              "volatile acidity        0\n",
              "citric acid             0\n",
              "residual sugar          0\n",
              "chlorides               0\n",
              "free sulfur dioxide     0\n",
              "total sulfur dioxide    0\n",
              "density                 0\n",
              "pH                      0\n",
              "sulphates               0\n",
              "alcohol                 0\n",
              "quality                 0\n",
              "dtype: int64"
            ]
          },
          "metadata": {
            "tags": []
          },
          "execution_count": 25
        }
      ]
    },
    {
      "cell_type": "code",
      "metadata": {
        "id": "3KwEU1taSR1A",
        "colab_type": "code",
        "colab": {
          "base_uri": "https://localhost:8080/",
          "height": 1000
        },
        "outputId": "7523ff28-8575-450f-9e8a-3ae003825524"
      },
      "source": [
        "#renomeando as colunas para failcitar a analise posteriormente\n",
        "dados = dados.rename(columns={'fixed acidity':'fixed_acidity', 'volatile acidity': 'volatile_acidity', 'residual sugar': 'residual_sugar', 'free sulfur dioxide':'free_sulfur_dioxide', 'total sulfur dioxide':'total_sulfur_dioxide','citric acid':'citric_acid' })\n",
        "#Visualizando a tabela com a nova nomeclatura\n",
        "dados.head(35)"
      ],
      "execution_count": 63,
      "outputs": [
        {
          "output_type": "execute_result",
          "data": {
            "text/html": [
              "<div>\n",
              "<style scoped>\n",
              "    .dataframe tbody tr th:only-of-type {\n",
              "        vertical-align: middle;\n",
              "    }\n",
              "\n",
              "    .dataframe tbody tr th {\n",
              "        vertical-align: top;\n",
              "    }\n",
              "\n",
              "    .dataframe thead th {\n",
              "        text-align: right;\n",
              "    }\n",
              "</style>\n",
              "<table border=\"1\" class=\"dataframe\">\n",
              "  <thead>\n",
              "    <tr style=\"text-align: right;\">\n",
              "      <th></th>\n",
              "      <th>fixed_acidity</th>\n",
              "      <th>volatile_acidity</th>\n",
              "      <th>citric_acid</th>\n",
              "      <th>residual_sugar</th>\n",
              "      <th>chlorides</th>\n",
              "      <th>free_sulfur_dioxide</th>\n",
              "      <th>total_sulfur_dioxide</th>\n",
              "      <th>density</th>\n",
              "      <th>pH</th>\n",
              "      <th>sulphates</th>\n",
              "      <th>alcohol</th>\n",
              "      <th>quality</th>\n",
              "    </tr>\n",
              "  </thead>\n",
              "  <tbody>\n",
              "    <tr>\n",
              "      <th>0</th>\n",
              "      <td>7.4</td>\n",
              "      <td>0.700</td>\n",
              "      <td>0.00</td>\n",
              "      <td>1.9</td>\n",
              "      <td>0.076</td>\n",
              "      <td>11.0</td>\n",
              "      <td>34.0</td>\n",
              "      <td>0.9978</td>\n",
              "      <td>3.51</td>\n",
              "      <td>0.56</td>\n",
              "      <td>9.4</td>\n",
              "      <td>5</td>\n",
              "    </tr>\n",
              "    <tr>\n",
              "      <th>1</th>\n",
              "      <td>7.8</td>\n",
              "      <td>0.880</td>\n",
              "      <td>0.00</td>\n",
              "      <td>2.6</td>\n",
              "      <td>0.098</td>\n",
              "      <td>25.0</td>\n",
              "      <td>67.0</td>\n",
              "      <td>0.9968</td>\n",
              "      <td>3.20</td>\n",
              "      <td>0.68</td>\n",
              "      <td>9.8</td>\n",
              "      <td>5</td>\n",
              "    </tr>\n",
              "    <tr>\n",
              "      <th>2</th>\n",
              "      <td>7.8</td>\n",
              "      <td>0.760</td>\n",
              "      <td>0.04</td>\n",
              "      <td>2.3</td>\n",
              "      <td>0.092</td>\n",
              "      <td>15.0</td>\n",
              "      <td>54.0</td>\n",
              "      <td>0.9970</td>\n",
              "      <td>3.26</td>\n",
              "      <td>0.65</td>\n",
              "      <td>9.8</td>\n",
              "      <td>5</td>\n",
              "    </tr>\n",
              "    <tr>\n",
              "      <th>3</th>\n",
              "      <td>11.2</td>\n",
              "      <td>0.280</td>\n",
              "      <td>0.56</td>\n",
              "      <td>1.9</td>\n",
              "      <td>0.075</td>\n",
              "      <td>17.0</td>\n",
              "      <td>60.0</td>\n",
              "      <td>0.9980</td>\n",
              "      <td>3.16</td>\n",
              "      <td>0.58</td>\n",
              "      <td>9.8</td>\n",
              "      <td>6</td>\n",
              "    </tr>\n",
              "    <tr>\n",
              "      <th>5</th>\n",
              "      <td>7.4</td>\n",
              "      <td>0.660</td>\n",
              "      <td>0.00</td>\n",
              "      <td>1.8</td>\n",
              "      <td>0.075</td>\n",
              "      <td>13.0</td>\n",
              "      <td>40.0</td>\n",
              "      <td>0.9978</td>\n",
              "      <td>3.51</td>\n",
              "      <td>0.56</td>\n",
              "      <td>9.4</td>\n",
              "      <td>5</td>\n",
              "    </tr>\n",
              "    <tr>\n",
              "      <th>6</th>\n",
              "      <td>7.9</td>\n",
              "      <td>0.600</td>\n",
              "      <td>0.06</td>\n",
              "      <td>1.6</td>\n",
              "      <td>0.069</td>\n",
              "      <td>15.0</td>\n",
              "      <td>59.0</td>\n",
              "      <td>0.9964</td>\n",
              "      <td>3.30</td>\n",
              "      <td>0.46</td>\n",
              "      <td>9.4</td>\n",
              "      <td>5</td>\n",
              "    </tr>\n",
              "    <tr>\n",
              "      <th>7</th>\n",
              "      <td>7.3</td>\n",
              "      <td>0.650</td>\n",
              "      <td>0.00</td>\n",
              "      <td>1.2</td>\n",
              "      <td>0.065</td>\n",
              "      <td>15.0</td>\n",
              "      <td>21.0</td>\n",
              "      <td>0.9946</td>\n",
              "      <td>3.39</td>\n",
              "      <td>0.47</td>\n",
              "      <td>10.0</td>\n",
              "      <td>7</td>\n",
              "    </tr>\n",
              "    <tr>\n",
              "      <th>8</th>\n",
              "      <td>7.8</td>\n",
              "      <td>0.580</td>\n",
              "      <td>0.02</td>\n",
              "      <td>2.0</td>\n",
              "      <td>0.073</td>\n",
              "      <td>9.0</td>\n",
              "      <td>18.0</td>\n",
              "      <td>0.9968</td>\n",
              "      <td>3.36</td>\n",
              "      <td>0.57</td>\n",
              "      <td>9.5</td>\n",
              "      <td>7</td>\n",
              "    </tr>\n",
              "    <tr>\n",
              "      <th>9</th>\n",
              "      <td>7.5</td>\n",
              "      <td>0.500</td>\n",
              "      <td>0.36</td>\n",
              "      <td>6.1</td>\n",
              "      <td>0.071</td>\n",
              "      <td>17.0</td>\n",
              "      <td>102.0</td>\n",
              "      <td>0.9978</td>\n",
              "      <td>3.35</td>\n",
              "      <td>0.80</td>\n",
              "      <td>10.5</td>\n",
              "      <td>5</td>\n",
              "    </tr>\n",
              "    <tr>\n",
              "      <th>10</th>\n",
              "      <td>6.7</td>\n",
              "      <td>0.580</td>\n",
              "      <td>0.08</td>\n",
              "      <td>1.8</td>\n",
              "      <td>0.097</td>\n",
              "      <td>15.0</td>\n",
              "      <td>65.0</td>\n",
              "      <td>0.9959</td>\n",
              "      <td>3.28</td>\n",
              "      <td>0.54</td>\n",
              "      <td>9.2</td>\n",
              "      <td>5</td>\n",
              "    </tr>\n",
              "    <tr>\n",
              "      <th>12</th>\n",
              "      <td>5.6</td>\n",
              "      <td>0.615</td>\n",
              "      <td>0.00</td>\n",
              "      <td>1.6</td>\n",
              "      <td>0.089</td>\n",
              "      <td>16.0</td>\n",
              "      <td>59.0</td>\n",
              "      <td>0.9943</td>\n",
              "      <td>3.58</td>\n",
              "      <td>0.52</td>\n",
              "      <td>9.9</td>\n",
              "      <td>5</td>\n",
              "    </tr>\n",
              "    <tr>\n",
              "      <th>13</th>\n",
              "      <td>7.8</td>\n",
              "      <td>0.610</td>\n",
              "      <td>0.29</td>\n",
              "      <td>1.6</td>\n",
              "      <td>0.114</td>\n",
              "      <td>9.0</td>\n",
              "      <td>29.0</td>\n",
              "      <td>0.9974</td>\n",
              "      <td>3.26</td>\n",
              "      <td>1.56</td>\n",
              "      <td>9.1</td>\n",
              "      <td>5</td>\n",
              "    </tr>\n",
              "    <tr>\n",
              "      <th>14</th>\n",
              "      <td>8.9</td>\n",
              "      <td>0.620</td>\n",
              "      <td>0.18</td>\n",
              "      <td>3.8</td>\n",
              "      <td>0.176</td>\n",
              "      <td>52.0</td>\n",
              "      <td>145.0</td>\n",
              "      <td>0.9986</td>\n",
              "      <td>3.16</td>\n",
              "      <td>0.88</td>\n",
              "      <td>9.2</td>\n",
              "      <td>5</td>\n",
              "    </tr>\n",
              "    <tr>\n",
              "      <th>15</th>\n",
              "      <td>8.9</td>\n",
              "      <td>0.620</td>\n",
              "      <td>0.19</td>\n",
              "      <td>3.9</td>\n",
              "      <td>0.170</td>\n",
              "      <td>51.0</td>\n",
              "      <td>148.0</td>\n",
              "      <td>0.9986</td>\n",
              "      <td>3.17</td>\n",
              "      <td>0.93</td>\n",
              "      <td>9.2</td>\n",
              "      <td>5</td>\n",
              "    </tr>\n",
              "    <tr>\n",
              "      <th>16</th>\n",
              "      <td>8.5</td>\n",
              "      <td>0.280</td>\n",
              "      <td>0.56</td>\n",
              "      <td>1.8</td>\n",
              "      <td>0.092</td>\n",
              "      <td>35.0</td>\n",
              "      <td>103.0</td>\n",
              "      <td>0.9969</td>\n",
              "      <td>3.30</td>\n",
              "      <td>0.75</td>\n",
              "      <td>10.5</td>\n",
              "      <td>7</td>\n",
              "    </tr>\n",
              "    <tr>\n",
              "      <th>17</th>\n",
              "      <td>8.1</td>\n",
              "      <td>0.560</td>\n",
              "      <td>0.28</td>\n",
              "      <td>1.7</td>\n",
              "      <td>0.368</td>\n",
              "      <td>16.0</td>\n",
              "      <td>56.0</td>\n",
              "      <td>0.9968</td>\n",
              "      <td>3.11</td>\n",
              "      <td>1.28</td>\n",
              "      <td>9.3</td>\n",
              "      <td>5</td>\n",
              "    </tr>\n",
              "    <tr>\n",
              "      <th>18</th>\n",
              "      <td>7.4</td>\n",
              "      <td>0.590</td>\n",
              "      <td>0.08</td>\n",
              "      <td>4.4</td>\n",
              "      <td>0.086</td>\n",
              "      <td>6.0</td>\n",
              "      <td>29.0</td>\n",
              "      <td>0.9974</td>\n",
              "      <td>3.38</td>\n",
              "      <td>0.50</td>\n",
              "      <td>9.0</td>\n",
              "      <td>4</td>\n",
              "    </tr>\n",
              "    <tr>\n",
              "      <th>19</th>\n",
              "      <td>7.9</td>\n",
              "      <td>0.320</td>\n",
              "      <td>0.51</td>\n",
              "      <td>1.8</td>\n",
              "      <td>0.341</td>\n",
              "      <td>17.0</td>\n",
              "      <td>56.0</td>\n",
              "      <td>0.9969</td>\n",
              "      <td>3.04</td>\n",
              "      <td>1.08</td>\n",
              "      <td>9.2</td>\n",
              "      <td>6</td>\n",
              "    </tr>\n",
              "    <tr>\n",
              "      <th>20</th>\n",
              "      <td>8.9</td>\n",
              "      <td>0.220</td>\n",
              "      <td>0.48</td>\n",
              "      <td>1.8</td>\n",
              "      <td>0.077</td>\n",
              "      <td>29.0</td>\n",
              "      <td>60.0</td>\n",
              "      <td>0.9968</td>\n",
              "      <td>3.39</td>\n",
              "      <td>0.53</td>\n",
              "      <td>9.4</td>\n",
              "      <td>6</td>\n",
              "    </tr>\n",
              "    <tr>\n",
              "      <th>21</th>\n",
              "      <td>7.6</td>\n",
              "      <td>0.390</td>\n",
              "      <td>0.31</td>\n",
              "      <td>2.3</td>\n",
              "      <td>0.082</td>\n",
              "      <td>23.0</td>\n",
              "      <td>71.0</td>\n",
              "      <td>0.9982</td>\n",
              "      <td>3.52</td>\n",
              "      <td>0.65</td>\n",
              "      <td>9.7</td>\n",
              "      <td>5</td>\n",
              "    </tr>\n",
              "    <tr>\n",
              "      <th>22</th>\n",
              "      <td>7.9</td>\n",
              "      <td>0.430</td>\n",
              "      <td>0.21</td>\n",
              "      <td>1.6</td>\n",
              "      <td>0.106</td>\n",
              "      <td>10.0</td>\n",
              "      <td>37.0</td>\n",
              "      <td>0.9966</td>\n",
              "      <td>3.17</td>\n",
              "      <td>0.91</td>\n",
              "      <td>9.5</td>\n",
              "      <td>5</td>\n",
              "    </tr>\n",
              "    <tr>\n",
              "      <th>23</th>\n",
              "      <td>8.5</td>\n",
              "      <td>0.490</td>\n",
              "      <td>0.11</td>\n",
              "      <td>2.3</td>\n",
              "      <td>0.084</td>\n",
              "      <td>9.0</td>\n",
              "      <td>67.0</td>\n",
              "      <td>0.9968</td>\n",
              "      <td>3.17</td>\n",
              "      <td>0.53</td>\n",
              "      <td>9.4</td>\n",
              "      <td>5</td>\n",
              "    </tr>\n",
              "    <tr>\n",
              "      <th>24</th>\n",
              "      <td>6.9</td>\n",
              "      <td>0.400</td>\n",
              "      <td>0.14</td>\n",
              "      <td>2.4</td>\n",
              "      <td>0.085</td>\n",
              "      <td>21.0</td>\n",
              "      <td>40.0</td>\n",
              "      <td>0.9968</td>\n",
              "      <td>3.43</td>\n",
              "      <td>0.63</td>\n",
              "      <td>9.7</td>\n",
              "      <td>6</td>\n",
              "    </tr>\n",
              "    <tr>\n",
              "      <th>25</th>\n",
              "      <td>6.3</td>\n",
              "      <td>0.390</td>\n",
              "      <td>0.16</td>\n",
              "      <td>1.4</td>\n",
              "      <td>0.080</td>\n",
              "      <td>11.0</td>\n",
              "      <td>23.0</td>\n",
              "      <td>0.9955</td>\n",
              "      <td>3.34</td>\n",
              "      <td>0.56</td>\n",
              "      <td>9.3</td>\n",
              "      <td>5</td>\n",
              "    </tr>\n",
              "    <tr>\n",
              "      <th>26</th>\n",
              "      <td>7.6</td>\n",
              "      <td>0.410</td>\n",
              "      <td>0.24</td>\n",
              "      <td>1.8</td>\n",
              "      <td>0.080</td>\n",
              "      <td>4.0</td>\n",
              "      <td>11.0</td>\n",
              "      <td>0.9962</td>\n",
              "      <td>3.28</td>\n",
              "      <td>0.59</td>\n",
              "      <td>9.5</td>\n",
              "      <td>5</td>\n",
              "    </tr>\n",
              "    <tr>\n",
              "      <th>28</th>\n",
              "      <td>7.1</td>\n",
              "      <td>0.710</td>\n",
              "      <td>0.00</td>\n",
              "      <td>1.9</td>\n",
              "      <td>0.080</td>\n",
              "      <td>14.0</td>\n",
              "      <td>35.0</td>\n",
              "      <td>0.9972</td>\n",
              "      <td>3.47</td>\n",
              "      <td>0.55</td>\n",
              "      <td>9.4</td>\n",
              "      <td>5</td>\n",
              "    </tr>\n",
              "    <tr>\n",
              "      <th>29</th>\n",
              "      <td>7.8</td>\n",
              "      <td>0.645</td>\n",
              "      <td>0.00</td>\n",
              "      <td>2.0</td>\n",
              "      <td>0.082</td>\n",
              "      <td>8.0</td>\n",
              "      <td>16.0</td>\n",
              "      <td>0.9964</td>\n",
              "      <td>3.38</td>\n",
              "      <td>0.59</td>\n",
              "      <td>9.8</td>\n",
              "      <td>6</td>\n",
              "    </tr>\n",
              "    <tr>\n",
              "      <th>30</th>\n",
              "      <td>6.7</td>\n",
              "      <td>0.675</td>\n",
              "      <td>0.07</td>\n",
              "      <td>2.4</td>\n",
              "      <td>0.089</td>\n",
              "      <td>17.0</td>\n",
              "      <td>82.0</td>\n",
              "      <td>0.9958</td>\n",
              "      <td>3.35</td>\n",
              "      <td>0.54</td>\n",
              "      <td>10.1</td>\n",
              "      <td>5</td>\n",
              "    </tr>\n",
              "    <tr>\n",
              "      <th>31</th>\n",
              "      <td>6.9</td>\n",
              "      <td>0.685</td>\n",
              "      <td>0.00</td>\n",
              "      <td>2.5</td>\n",
              "      <td>0.105</td>\n",
              "      <td>22.0</td>\n",
              "      <td>37.0</td>\n",
              "      <td>0.9966</td>\n",
              "      <td>3.46</td>\n",
              "      <td>0.57</td>\n",
              "      <td>10.6</td>\n",
              "      <td>6</td>\n",
              "    </tr>\n",
              "    <tr>\n",
              "      <th>32</th>\n",
              "      <td>8.3</td>\n",
              "      <td>0.655</td>\n",
              "      <td>0.12</td>\n",
              "      <td>2.3</td>\n",
              "      <td>0.083</td>\n",
              "      <td>15.0</td>\n",
              "      <td>113.0</td>\n",
              "      <td>0.9966</td>\n",
              "      <td>3.17</td>\n",
              "      <td>0.66</td>\n",
              "      <td>9.8</td>\n",
              "      <td>5</td>\n",
              "    </tr>\n",
              "    <tr>\n",
              "      <th>33</th>\n",
              "      <td>6.9</td>\n",
              "      <td>0.605</td>\n",
              "      <td>0.12</td>\n",
              "      <td>10.7</td>\n",
              "      <td>0.073</td>\n",
              "      <td>40.0</td>\n",
              "      <td>83.0</td>\n",
              "      <td>0.9993</td>\n",
              "      <td>3.45</td>\n",
              "      <td>0.52</td>\n",
              "      <td>9.4</td>\n",
              "      <td>6</td>\n",
              "    </tr>\n",
              "    <tr>\n",
              "      <th>34</th>\n",
              "      <td>5.2</td>\n",
              "      <td>0.320</td>\n",
              "      <td>0.25</td>\n",
              "      <td>1.8</td>\n",
              "      <td>0.103</td>\n",
              "      <td>13.0</td>\n",
              "      <td>50.0</td>\n",
              "      <td>0.9957</td>\n",
              "      <td>3.38</td>\n",
              "      <td>0.55</td>\n",
              "      <td>9.2</td>\n",
              "      <td>5</td>\n",
              "    </tr>\n",
              "    <tr>\n",
              "      <th>35</th>\n",
              "      <td>7.8</td>\n",
              "      <td>0.645</td>\n",
              "      <td>0.00</td>\n",
              "      <td>5.5</td>\n",
              "      <td>0.086</td>\n",
              "      <td>5.0</td>\n",
              "      <td>18.0</td>\n",
              "      <td>0.9986</td>\n",
              "      <td>3.40</td>\n",
              "      <td>0.55</td>\n",
              "      <td>9.6</td>\n",
              "      <td>6</td>\n",
              "    </tr>\n",
              "    <tr>\n",
              "      <th>36</th>\n",
              "      <td>7.8</td>\n",
              "      <td>0.600</td>\n",
              "      <td>0.14</td>\n",
              "      <td>2.4</td>\n",
              "      <td>0.086</td>\n",
              "      <td>3.0</td>\n",
              "      <td>15.0</td>\n",
              "      <td>0.9975</td>\n",
              "      <td>3.42</td>\n",
              "      <td>0.60</td>\n",
              "      <td>10.8</td>\n",
              "      <td>6</td>\n",
              "    </tr>\n",
              "    <tr>\n",
              "      <th>37</th>\n",
              "      <td>8.1</td>\n",
              "      <td>0.380</td>\n",
              "      <td>0.28</td>\n",
              "      <td>2.1</td>\n",
              "      <td>0.066</td>\n",
              "      <td>13.0</td>\n",
              "      <td>30.0</td>\n",
              "      <td>0.9968</td>\n",
              "      <td>3.23</td>\n",
              "      <td>0.73</td>\n",
              "      <td>9.7</td>\n",
              "      <td>7</td>\n",
              "    </tr>\n",
              "  </tbody>\n",
              "</table>\n",
              "</div>"
            ],
            "text/plain": [
              "    fixed_acidity  volatile_acidity  citric_acid  ...  sulphates  alcohol  quality\n",
              "0             7.4             0.700         0.00  ...       0.56      9.4        5\n",
              "1             7.8             0.880         0.00  ...       0.68      9.8        5\n",
              "2             7.8             0.760         0.04  ...       0.65      9.8        5\n",
              "3            11.2             0.280         0.56  ...       0.58      9.8        6\n",
              "5             7.4             0.660         0.00  ...       0.56      9.4        5\n",
              "6             7.9             0.600         0.06  ...       0.46      9.4        5\n",
              "7             7.3             0.650         0.00  ...       0.47     10.0        7\n",
              "8             7.8             0.580         0.02  ...       0.57      9.5        7\n",
              "9             7.5             0.500         0.36  ...       0.80     10.5        5\n",
              "10            6.7             0.580         0.08  ...       0.54      9.2        5\n",
              "12            5.6             0.615         0.00  ...       0.52      9.9        5\n",
              "13            7.8             0.610         0.29  ...       1.56      9.1        5\n",
              "14            8.9             0.620         0.18  ...       0.88      9.2        5\n",
              "15            8.9             0.620         0.19  ...       0.93      9.2        5\n",
              "16            8.5             0.280         0.56  ...       0.75     10.5        7\n",
              "17            8.1             0.560         0.28  ...       1.28      9.3        5\n",
              "18            7.4             0.590         0.08  ...       0.50      9.0        4\n",
              "19            7.9             0.320         0.51  ...       1.08      9.2        6\n",
              "20            8.9             0.220         0.48  ...       0.53      9.4        6\n",
              "21            7.6             0.390         0.31  ...       0.65      9.7        5\n",
              "22            7.9             0.430         0.21  ...       0.91      9.5        5\n",
              "23            8.5             0.490         0.11  ...       0.53      9.4        5\n",
              "24            6.9             0.400         0.14  ...       0.63      9.7        6\n",
              "25            6.3             0.390         0.16  ...       0.56      9.3        5\n",
              "26            7.6             0.410         0.24  ...       0.59      9.5        5\n",
              "28            7.1             0.710         0.00  ...       0.55      9.4        5\n",
              "29            7.8             0.645         0.00  ...       0.59      9.8        6\n",
              "30            6.7             0.675         0.07  ...       0.54     10.1        5\n",
              "31            6.9             0.685         0.00  ...       0.57     10.6        6\n",
              "32            8.3             0.655         0.12  ...       0.66      9.8        5\n",
              "33            6.9             0.605         0.12  ...       0.52      9.4        6\n",
              "34            5.2             0.320         0.25  ...       0.55      9.2        5\n",
              "35            7.8             0.645         0.00  ...       0.55      9.6        6\n",
              "36            7.8             0.600         0.14  ...       0.60     10.8        6\n",
              "37            8.1             0.380         0.28  ...       0.73      9.7        7\n",
              "\n",
              "[35 rows x 12 columns]"
            ]
          },
          "metadata": {
            "tags": []
          },
          "execution_count": 63
        }
      ]
    },
    {
      "cell_type": "markdown",
      "metadata": {
        "id": "LilUo0eklKBC",
        "colab_type": "text"
      },
      "source": [
        "#4 Análise preliminar dos dados"
      ]
    },
    {
      "cell_type": "code",
      "metadata": {
        "id": "DMuvGfxiKzgm",
        "colab_type": "code",
        "colab": {
          "base_uri": "https://localhost:8080/",
          "height": 295
        },
        "outputId": "16622849-324d-4394-ad1c-0a438415fadb"
      },
      "source": [
        "#verificando as pontuações da qualidade \n",
        "plt.hist(dados['quality'])\n",
        "plt.xlabel('Classes')\n",
        "plt.ylabel('Quantidade')\n",
        "plt.title('Ocorrências das Classes')\n",
        "plt.grid(True)\n",
        "plt.show()"
      ],
      "execution_count": 27,
      "outputs": [
        {
          "output_type": "display_data",
          "data": {
            "image/png": "[encoded data removed]",
            "text/plain": [
              "<Figure size 432x288 with 1 Axes>"
            ]
          },
          "metadata": {
            "tags": [],
            "needs_background": "light"
          }
        }
      ]
    },
    {
      "cell_type": "code",
      "metadata": {
        "id": "bAoyhEPKWhUQ",
        "colab_type": "code",
        "colab": {
          "base_uri": "https://localhost:8080/",
          "height": 187
        },
        "outputId": "c0c73f43-3a45-44aa-bf0c-11b3b9a00fd7"
      },
      "source": [
        "#Visualizando a quantidade de vinhos pelas pontuações de qualidade\n",
        "print('Qualidade 1: ', dados[dados['quality']==1].shape[0])\n",
        "print('Qualidade 2: ', dados[dados['quality']==2].shape[0])\n",
        "print('Qualidade 3: ', dados[dados['quality']==3].shape[0])\n",
        "print('Qualidade 4: ', dados[dados['quality']==4].shape[0])\n",
        "print('Qualidade 5: ', dados[dados['quality']==5].shape[0])\n",
        "print('Qualidade 6: ', dados[dados['quality']==6].shape[0])\n",
        "print('Qualidade 7: ', dados[dados['quality']==7].shape[0])\n",
        "print('Qualidade 8: ', dados[dados['quality']==8].shape[0])\n",
        "print('Qualidade 9: ', dados[dados['quality']==9].shape[0])\n",
        "print('Qualidade 10: ', dados[dados['quality']==10].shape[0])"
      ],
      "execution_count": 28,
      "outputs": [
        {
          "output_type": "stream",
          "text": [
            "Qualidade 1:  0\n",
            "Qualidade 2:  0\n",
            "Qualidade 3:  10\n",
            "Qualidade 4:  53\n",
            "Qualidade 5:  577\n",
            "Qualidade 6:  535\n",
            "Qualidade 7:  167\n",
            "Qualidade 8:  17\n",
            "Qualidade 9:  0\n",
            "Qualidade 10:  0\n"
          ],
          "name": "stdout"
        }
      ]
    },
    {
      "cell_type": "markdown",
      "metadata": {
        "id": "IrCArsLCmEVx",
        "colab_type": "text"
      },
      "source": [
        "Verificando a distribuição de alguns atributos que podem ser importantes para a classificação do vinho"
      ]
    },
    {
      "cell_type": "code",
      "metadata": {
        "id": "dbPvGeGceyM6",
        "colab_type": "code",
        "colab": {
          "base_uri": "https://localhost:8080/",
          "height": 281
        },
        "outputId": "8723a627-edcb-44bc-f9b1-4da41cb9ffa2"
      },
      "source": [
        "#verificando a distribuição do atibuto pH \n",
        "plt.hist(dados['pH'],10)\n",
        "plt.ylabel('Quantidade')\n",
        "plt.title('distribuição do  pH')\n",
        "plt.grid(True)\n",
        "plt.show()"
      ],
      "execution_count": 52,
      "outputs": [
        {
          "output_type": "display_data",
          "data": {
            "image/png": "[encoded data removed]",
            "text/plain": [
              "<Figure size 432x288 with 1 Axes>"
            ]
          },
          "metadata": {
            "tags": [],
            "needs_background": "light"
          }
        }
      ]
    },
    {
      "cell_type": "markdown",
      "metadata": {
        "id": "6xxp3F8vipFP",
        "colab_type": "text"
      },
      "source": [
        "O PH dos vinhos não passam de 4.0 e a maior ocorrência é de vinhos com PH entre 3.2 e 3.4"
      ]
    },
    {
      "cell_type": "code",
      "metadata": {
        "id": "0cJoIoNLi4g8",
        "colab_type": "code",
        "colab": {
          "base_uri": "https://localhost:8080/",
          "height": 281
        },
        "outputId": "60ff766b-ad67-43ec-f385-9b632387f1c5"
      },
      "source": [
        "#verificando a distribuição do atibuto álcool\n",
        "plt.hist(dados['alcohol'], 10)\n",
        "plt.ylabel('Quantidade')\n",
        "plt.title('Ocorrências do Atributo álcool')\n",
        "plt.grid(True)\n",
        "plt.show()"
      ],
      "execution_count": 49,
      "outputs": [
        {
          "output_type": "display_data",
          "data": {
            "image/png": "[encoded data removed]",
            "text/plain": [
              "<Figure size 432x288 with 1 Axes>"
            ]
          },
          "metadata": {
            "tags": [],
            "needs_background": "light"
          }
        }
      ]
    },
    {
      "cell_type": "markdown",
      "metadata": {
        "id": "aA_misNZrhtu",
        "colab_type": "text"
      },
      "source": [
        "O Teor alcoólico dos vinhos não passam de 15 sendo que a maior ocorrencia de teor alcoólico está entre 9 e 10"
      ]
    },
    {
      "cell_type": "code",
      "metadata": {
        "id": "0o4wp2kWsPAB",
        "colab_type": "code",
        "colab": {
          "base_uri": "https://localhost:8080/",
          "height": 405
        },
        "outputId": "84622278-caac-4962-93cd-3e1a3528c891"
      },
      "source": [
        "#Verificando a influencia de alguns atributos para a qualidade do vinho \n",
        "fig = plt.figure(figsize = (10,6))\n",
        "sns.barplot( x = 'quality', y = 'fixed acidity', data = dados)"
      ],
      "execution_count": 31,
      "outputs": [
        {
          "output_type": "execute_result",
          "data": {
            "text/plain": [
              "<matplotlib.axes._subplots.AxesSubplot at 0x7f9528a5db38>"
            ]
          },
          "metadata": {
            "tags": []
          },
          "execution_count": 31
        },
        {
          "output_type": "display_data",
          "data": {
            "image/png": "[encoded data removed]",
            "text/plain": [
              "<Figure size 720x432 with 1 Axes>"
            ]
          },
          "metadata": {
            "tags": [],
            "needs_background": "light"
          }
        }
      ]
    },
    {
      "cell_type": "markdown",
      "metadata": {
        "id": "9Sz0ORyuKaE6",
        "colab_type": "text"
      },
      "source": [
        "Nesse caso vemos que a ácidez fixa não influência muito na qualidade do vinho porque entre as pontuações de qualidade "
      ]
    },
    {
      "cell_type": "code",
      "metadata": {
        "id": "J6vijY-oKLkG",
        "colab_type": "code",
        "colab": {
          "base_uri": "https://localhost:8080/",
          "height": 405
        },
        "outputId": "17d13ba2-7f43-4be1-ed14-420f382fe7cf"
      },
      "source": [
        "#Verificando a influencia da acidez volatil na qualidade do vinho\n",
        "fig = plt.figure(figsize = (10,6))\n",
        "sns.barplot( x = 'quality', y = 'volatile acidity', data = dados)"
      ],
      "execution_count": 32,
      "outputs": [
        {
          "output_type": "execute_result",
          "data": {
            "text/plain": [
              "<matplotlib.axes._subplots.AxesSubplot at 0x7f9528ab5dd8>"
            ]
          },
          "metadata": {
            "tags": []
          },
          "execution_count": 32
        },
        {
          "output_type": "display_data",
          "data": {
            "image/png": "[encoded data removed]",
            "text/plain": [
              "<Figure size 720x432 with 1 Axes>"
            ]
          },
          "metadata": {
            "tags": [],
            "needs_background": "light"
          }
        }
      ]
    },
    {
      "cell_type": "markdown",
      "metadata": {
        "id": "wOIDrpe8M9rV",
        "colab_type": "text"
      },
      "source": [
        "Vemos que com o aumento da qualidade acontece uma diminuição da acidez volátil"
      ]
    },
    {
      "cell_type": "code",
      "metadata": {
        "id": "w6jJL5WjvSR4",
        "colab_type": "code",
        "colab": {
          "base_uri": "https://localhost:8080/",
          "height": 405
        },
        "outputId": "b5b713ce-2487-4bc5-e34f-b1effb76b509"
      },
      "source": [
        "#Verificando a influencia do acido citrico na qualidade do vinho\n",
        "fig = plt.figure(figsize = (10,6))\n",
        "sns.barplot( x = 'quality', y = 'citric acid', data = dados)"
      ],
      "execution_count": 33,
      "outputs": [
        {
          "output_type": "execute_result",
          "data": {
            "text/plain": [
              "<matplotlib.axes._subplots.AxesSubplot at 0x7f9528ab50f0>"
            ]
          },
          "metadata": {
            "tags": []
          },
          "execution_count": 33
        },
        {
          "output_type": "display_data",
          "data": {
            "image/png": "[encoded data removed]",
            "text/plain": [
              "<Figure size 720x432 with 1 Axes>"
            ]
          },
          "metadata": {
            "tags": [],
            "needs_background": "light"
          }
        }
      ]
    },
    {
      "cell_type": "code",
      "metadata": {
        "id": "bO0lMksbxPZP",
        "colab_type": "code",
        "colab": {
          "base_uri": "https://localhost:8080/",
          "height": 405
        },
        "outputId": "d9eb0b82-e280-4ff2-e4fe-565367b108d5"
      },
      "source": [
        "#Verificando a influencia do açuxar residual na qualidade do vinho\n",
        "fig = plt.figure(figsize = (10,6))\n",
        "sns.barplot( x = 'quality', y = 'residual sugar', data = dados)"
      ],
      "execution_count": 34,
      "outputs": [
        {
          "output_type": "execute_result",
          "data": {
            "text/plain": [
              "<matplotlib.axes._subplots.AxesSubplot at 0x7f9528c00a20>"
            ]
          },
          "metadata": {
            "tags": []
          },
          "execution_count": 34
        },
        {
          "output_type": "display_data",
          "data": {
            "image/png": "[encoded data removed]",
            "text/plain": [
              "<Figure size 720x432 with 1 Axes>"
            ]
          },
          "metadata": {
            "tags": [],
            "needs_background": "light"
          }
        }
      ]
    },
    {
      "cell_type": "code",
      "metadata": {
        "id": "W0fuJkokyQ-w",
        "colab_type": "code",
        "colab": {
          "base_uri": "https://localhost:8080/",
          "height": 405
        },
        "outputId": "a64bb920-ae5c-4824-d9bb-0c77f19c6243"
      },
      "source": [
        "#Verificando a influencia do cloreto na qualidade do vinho\n",
        "fig = plt.figure(figsize = (10,6))\n",
        "sns.barplot( x = 'quality', y = 'chlorides', data = dados)"
      ],
      "execution_count": 35,
      "outputs": [
        {
          "output_type": "execute_result",
          "data": {
            "text/plain": [
              "<matplotlib.axes._subplots.AxesSubplot at 0x7f95289cae48>"
            ]
          },
          "metadata": {
            "tags": []
          },
          "execution_count": 35
        },
        {
          "output_type": "display_data",
          "data": {
            "image/png": "[encoded data removed]",
            "text/plain": [
              "<Figure size 720x432 with 1 Axes>"
            ]
          },
          "metadata": {
            "tags": [],
            "needs_background": "light"
          }
        }
      ]
    },
    {
      "cell_type": "code",
      "metadata": {
        "id": "XsKxJeh_R5hN",
        "colab_type": "code",
        "colab": {
          "base_uri": "https://localhost:8080/",
          "height": 405
        },
        "outputId": "9594a974-39b0-49ca-c51d-53f9e75d634d"
      },
      "source": [
        "#Verificando a influencia do dioxido de enxofre na qualidade do vinho\n",
        "fig = plt.figure(figsize = (10,6))\n",
        "sns.barplot( x = 'quality', y = 'free sulfur dioxide', data = dados)"
      ],
      "execution_count": 36,
      "outputs": [
        {
          "output_type": "execute_result",
          "data": {
            "text/plain": [
              "<matplotlib.axes._subplots.AxesSubplot at 0x7f9528c23908>"
            ]
          },
          "metadata": {
            "tags": []
          },
          "execution_count": 36
        },
        {
          "output_type": "display_data",
          "data": {
            "image/png": "[encoded data removed]",
            "text/plain": [
              "<Figure size 720x432 with 1 Axes>"
            ]
          },
          "metadata": {
            "tags": [],
            "needs_background": "light"
          }
        }
      ]
    },
    {
      "cell_type": "code",
      "metadata": {
        "id": "ACPvkFIXUxFr",
        "colab_type": "code",
        "colab": {
          "base_uri": "https://localhost:8080/",
          "height": 405
        },
        "outputId": "9fcad704-4871-4128-89ae-75496a092b1e"
      },
      "source": [
        "#Verificando a influencia do total de dioxido de enxofre na qualidade do vinho\n",
        "fig = plt.figure(figsize = (10,6))\n",
        "sns.barplot( x = 'quality', y = 'total sulfur dioxide', data = dados)"
      ],
      "execution_count": 37,
      "outputs": [
        {
          "output_type": "execute_result",
          "data": {
            "text/plain": [
              "<matplotlib.axes._subplots.AxesSubplot at 0x7f95289d32b0>"
            ]
          },
          "metadata": {
            "tags": []
          },
          "execution_count": 37
        },
        {
          "output_type": "display_data",
          "data": {
            "image/png": "[encoded data removed]",
            "text/plain": [
              "<Figure size 720x432 with 1 Axes>"
            ]
          },
          "metadata": {
            "tags": [],
            "needs_background": "light"
          }
        }
      ]
    },
    {
      "cell_type": "code",
      "metadata": {
        "id": "zDtVwyIsUyn8",
        "colab_type": "code",
        "colab": {
          "base_uri": "https://localhost:8080/",
          "height": 405
        },
        "outputId": "fdc163df-d851-40a8-851c-30c54c78a5db"
      },
      "source": [
        "#Verificando a influencia do density na qualidade do vinho\n",
        "fig = plt.figure(figsize = (10,6))\n",
        "sns.barplot( x = 'quality', y = 'density', data = dados)"
      ],
      "execution_count": 38,
      "outputs": [
        {
          "output_type": "execute_result",
          "data": {
            "text/plain": [
              "<matplotlib.axes._subplots.AxesSubplot at 0x7f95289a1fd0>"
            ]
          },
          "metadata": {
            "tags": []
          },
          "execution_count": 38
        },
        {
          "output_type": "display_data",
          "data": {
            "image/png": "[encoded data removed]",
            "text/plain": [
              "<Figure size 720x432 with 1 Axes>"
            ]
          },
          "metadata": {
            "tags": [],
            "needs_background": "light"
          }
        }
      ]
    },
    {
      "cell_type": "code",
      "metadata": {
        "id": "d_3I_i9SV_lI",
        "colab_type": "code",
        "colab": {
          "base_uri": "https://localhost:8080/",
          "height": 405
        },
        "outputId": "b14cc174-3ead-446e-b024-b15f215c6cff"
      },
      "source": [
        "#Verificando a influencia do pH na qualidade do vinho\n",
        "fig = plt.figure(figsize = (10,6))\n",
        "sns.barplot( x = 'quality', y = 'pH', data = dados)"
      ],
      "execution_count": 39,
      "outputs": [
        {
          "output_type": "execute_result",
          "data": {
            "text/plain": [
              "<matplotlib.axes._subplots.AxesSubplot at 0x7f9528946860>"
            ]
          },
          "metadata": {
            "tags": []
          },
          "execution_count": 39
        },
        {
          "output_type": "display_data",
          "data": {
            "image/png": "[encoded data removed]",
            "text/plain": [
              "<Figure size 720x432 with 1 Axes>"
            ]
          },
          "metadata": {
            "tags": [],
            "needs_background": "light"
          }
        }
      ]
    },
    {
      "cell_type": "code",
      "metadata": {
        "id": "2tWMJn5Ta87m",
        "colab_type": "code",
        "colab": {
          "base_uri": "https://localhost:8080/",
          "height": 405
        },
        "outputId": "cc159b18-99da-400f-c2c3-25e6538b41b8"
      },
      "source": [
        "#Verificando a influencia do álcool na qualidade do vinho\n",
        "fig = plt.figure(figsize = (10,6))\n",
        "sns.barplot( x = 'quality', y = 'alcohol', data = dados)"
      ],
      "execution_count": 40,
      "outputs": [
        {
          "output_type": "execute_result",
          "data": {
            "text/plain": [
              "<matplotlib.axes._subplots.AxesSubplot at 0x7f9528b24438>"
            ]
          },
          "metadata": {
            "tags": []
          },
          "execution_count": 40
        },
        {
          "output_type": "display_data",
          "data": {
            "image/png": "[encoded data removed]",
            "text/plain": [
              "<Figure size 720x432 with 1 Axes>"
            ]
          },
          "metadata": {
            "tags": [],
            "needs_background": "light"
          }
        }
      ]
    },
    {
      "cell_type": "markdown",
      "metadata": {
        "id": "kIMQWtvIU5Q3",
        "colab_type": "text"
      },
      "source": [
        "**Boxpot**\n",
        "\n",
        "verificando os pontos fora da curva\n",
        "\n",
        "mediana quartis"
      ]
    },
    {
      "cell_type": "code",
      "metadata": {
        "id": "Q3uxCHEwU4DB",
        "colab_type": "code",
        "colab": {
          "base_uri": "https://localhost:8080/",
          "height": 295
        },
        "outputId": "0277e181-1d6a-442d-9ff4-02f23655f5ab"
      },
      "source": [
        "#plotando um dos atributos que tiveram maior influencia com a qualidade do vinho\n",
        "plt.boxplot(dados.citric_acid)\n",
        "plt.title('Boxplot da Acidez citrica')\n",
        "plt.xlabel('Acidez')\n",
        "plt.grid()\n",
        "plt.show()"
      ],
      "execution_count": 69,
      "outputs": [
        {
          "output_type": "display_data",
          "data": {
            "image/png": "[encoded data removed]",
            "text/plain": [
              "<Figure size 432x288 with 1 Axes>"
            ]
          },
          "metadata": {
            "tags": [],
            "needs_background": "light"
          }
        }
      ]
    },
    {
      "cell_type": "code",
      "metadata": {
        "id": "F9ZgaWi4Wc_E",
        "colab_type": "code",
        "colab": {
          "base_uri": "https://localhost:8080/",
          "height": 296
        },
        "outputId": "770dcf8f-1d3e-4554-e98b-348a678c618c"
      },
      "source": [
        "\n",
        "sns.distplot(dados.citric_acid, hist=False, rug=False,label='qualidade')\n",
        "plt.ylabel('Probabilidades')\n",
        "plt.title('Ocorrências do Atributo Acidez Citrica')\n",
        "plt.show()"
      ],
      "execution_count": 72,
      "outputs": [
        {
          "output_type": "display_data",
          "data": {
            "image/png": "[encoded data removed]",
            "text/plain": [
              "<Figure size 432x288 with 1 Axes>"
            ]
          },
          "metadata": {
            "tags": [],
            "needs_background": "light"
          }
        }
      ]
    },
    {
      "cell_type": "code",
      "metadata": {
        "id": "See2dg3WT_CL",
        "colab_type": "code",
        "colab": {
          "base_uri": "https://localhost:8080/",
          "height": 441
        },
        "outputId": "8abfb243-bfed-43cf-9fb2-cbf7924f9e2d"
      },
      "source": [
        "#verificando a correlação dos dados\n",
        "corr = dados.corr()\n",
        "corr"
      ],
      "execution_count": 65,
      "outputs": [
        {
          "output_type": "execute_result",
          "data": {
            "text/html": [
              "<div>\n",
              "<style scoped>\n",
              "    .dataframe tbody tr th:only-of-type {\n",
              "        vertical-align: middle;\n",
              "    }\n",
              "\n",
              "    .dataframe tbody tr th {\n",
              "        vertical-align: top;\n",
              "    }\n",
              "\n",
              "    .dataframe thead th {\n",
              "        text-align: right;\n",
              "    }\n",
              "</style>\n",
              "<table border=\"1\" class=\"dataframe\">\n",
              "  <thead>\n",
              "    <tr style=\"text-align: right;\">\n",
              "      <th></th>\n",
              "      <th>fixed_acidity</th>\n",
              "      <th>volatile_acidity</th>\n",
              "      <th>citric_acid</th>\n",
              "      <th>residual_sugar</th>\n",
              "      <th>chlorides</th>\n",
              "      <th>free_sulfur_dioxide</th>\n",
              "      <th>total_sulfur_dioxide</th>\n",
              "      <th>density</th>\n",
              "      <th>pH</th>\n",
              "      <th>sulphates</th>\n",
              "      <th>alcohol</th>\n",
              "      <th>quality</th>\n",
              "    </tr>\n",
              "  </thead>\n",
              "  <tbody>\n",
              "    <tr>\n",
              "      <th>fixed_acidity</th>\n",
              "      <td>1.000000</td>\n",
              "      <td>-0.255124</td>\n",
              "      <td>0.667437</td>\n",
              "      <td>0.111025</td>\n",
              "      <td>0.085886</td>\n",
              "      <td>-0.140580</td>\n",
              "      <td>-0.103777</td>\n",
              "      <td>0.670195</td>\n",
              "      <td>-0.686685</td>\n",
              "      <td>0.190269</td>\n",
              "      <td>-0.061596</td>\n",
              "      <td>0.119024</td>\n",
              "    </tr>\n",
              "    <tr>\n",
              "      <th>volatile_acidity</th>\n",
              "      <td>-0.255124</td>\n",
              "      <td>1.000000</td>\n",
              "      <td>-0.551248</td>\n",
              "      <td>-0.002449</td>\n",
              "      <td>0.055154</td>\n",
              "      <td>-0.020945</td>\n",
              "      <td>0.071701</td>\n",
              "      <td>0.023943</td>\n",
              "      <td>0.247111</td>\n",
              "      <td>-0.256948</td>\n",
              "      <td>-0.197812</td>\n",
              "      <td>-0.395214</td>\n",
              "    </tr>\n",
              "    <tr>\n",
              "      <th>citric_acid</th>\n",
              "      <td>0.667437</td>\n",
              "      <td>-0.551248</td>\n",
              "      <td>1.000000</td>\n",
              "      <td>0.143892</td>\n",
              "      <td>0.210195</td>\n",
              "      <td>-0.048004</td>\n",
              "      <td>0.047358</td>\n",
              "      <td>0.357962</td>\n",
              "      <td>-0.550310</td>\n",
              "      <td>0.326062</td>\n",
              "      <td>0.105108</td>\n",
              "      <td>0.228057</td>\n",
              "    </tr>\n",
              "    <tr>\n",
              "      <th>residual_sugar</th>\n",
              "      <td>0.111025</td>\n",
              "      <td>-0.002449</td>\n",
              "      <td>0.143892</td>\n",
              "      <td>1.000000</td>\n",
              "      <td>0.026656</td>\n",
              "      <td>0.160527</td>\n",
              "      <td>0.201038</td>\n",
              "      <td>0.324522</td>\n",
              "      <td>-0.083143</td>\n",
              "      <td>-0.011837</td>\n",
              "      <td>0.063281</td>\n",
              "      <td>0.013640</td>\n",
              "    </tr>\n",
              "    <tr>\n",
              "      <th>chlorides</th>\n",
              "      <td>0.085886</td>\n",
              "      <td>0.055154</td>\n",
              "      <td>0.210195</td>\n",
              "      <td>0.026656</td>\n",
              "      <td>1.000000</td>\n",
              "      <td>0.000749</td>\n",
              "      <td>0.045773</td>\n",
              "      <td>0.193592</td>\n",
              "      <td>-0.270893</td>\n",
              "      <td>0.394557</td>\n",
              "      <td>-0.223824</td>\n",
              "      <td>-0.130988</td>\n",
              "    </tr>\n",
              "    <tr>\n",
              "      <th>free_sulfur_dioxide</th>\n",
              "      <td>-0.140580</td>\n",
              "      <td>-0.020945</td>\n",
              "      <td>-0.048004</td>\n",
              "      <td>0.160527</td>\n",
              "      <td>0.000749</td>\n",
              "      <td>1.000000</td>\n",
              "      <td>0.667246</td>\n",
              "      <td>-0.018071</td>\n",
              "      <td>0.056631</td>\n",
              "      <td>0.054126</td>\n",
              "      <td>-0.080125</td>\n",
              "      <td>-0.050463</td>\n",
              "    </tr>\n",
              "    <tr>\n",
              "      <th>total_sulfur_dioxide</th>\n",
              "      <td>-0.103777</td>\n",
              "      <td>0.071701</td>\n",
              "      <td>0.047358</td>\n",
              "      <td>0.201038</td>\n",
              "      <td>0.045773</td>\n",
              "      <td>0.667246</td>\n",
              "      <td>1.000000</td>\n",
              "      <td>0.078141</td>\n",
              "      <td>-0.079257</td>\n",
              "      <td>0.035291</td>\n",
              "      <td>-0.217829</td>\n",
              "      <td>-0.177855</td>\n",
              "    </tr>\n",
              "    <tr>\n",
              "      <th>density</th>\n",
              "      <td>0.670195</td>\n",
              "      <td>0.023943</td>\n",
              "      <td>0.357962</td>\n",
              "      <td>0.324522</td>\n",
              "      <td>0.193592</td>\n",
              "      <td>-0.018071</td>\n",
              "      <td>0.078141</td>\n",
              "      <td>1.000000</td>\n",
              "      <td>-0.355617</td>\n",
              "      <td>0.146036</td>\n",
              "      <td>-0.504995</td>\n",
              "      <td>-0.184252</td>\n",
              "    </tr>\n",
              "    <tr>\n",
              "      <th>pH</th>\n",
              "      <td>-0.686685</td>\n",
              "      <td>0.247111</td>\n",
              "      <td>-0.550310</td>\n",
              "      <td>-0.083143</td>\n",
              "      <td>-0.270893</td>\n",
              "      <td>0.056631</td>\n",
              "      <td>-0.079257</td>\n",
              "      <td>-0.355617</td>\n",
              "      <td>1.000000</td>\n",
              "      <td>-0.214134</td>\n",
              "      <td>0.213418</td>\n",
              "      <td>-0.055245</td>\n",
              "    </tr>\n",
              "    <tr>\n",
              "      <th>sulphates</th>\n",
              "      <td>0.190269</td>\n",
              "      <td>-0.256948</td>\n",
              "      <td>0.326062</td>\n",
              "      <td>-0.011837</td>\n",
              "      <td>0.394557</td>\n",
              "      <td>0.054126</td>\n",
              "      <td>0.035291</td>\n",
              "      <td>0.146036</td>\n",
              "      <td>-0.214134</td>\n",
              "      <td>1.000000</td>\n",
              "      <td>0.091621</td>\n",
              "      <td>0.248835</td>\n",
              "    </tr>\n",
              "    <tr>\n",
              "      <th>alcohol</th>\n",
              "      <td>-0.061596</td>\n",
              "      <td>-0.197812</td>\n",
              "      <td>0.105108</td>\n",
              "      <td>0.063281</td>\n",
              "      <td>-0.223824</td>\n",
              "      <td>-0.080125</td>\n",
              "      <td>-0.217829</td>\n",
              "      <td>-0.504995</td>\n",
              "      <td>0.213418</td>\n",
              "      <td>0.091621</td>\n",
              "      <td>1.000000</td>\n",
              "      <td>0.480343</td>\n",
              "    </tr>\n",
              "    <tr>\n",
              "      <th>quality</th>\n",
              "      <td>0.119024</td>\n",
              "      <td>-0.395214</td>\n",
              "      <td>0.228057</td>\n",
              "      <td>0.013640</td>\n",
              "      <td>-0.130988</td>\n",
              "      <td>-0.050463</td>\n",
              "      <td>-0.177855</td>\n",
              "      <td>-0.184252</td>\n",
              "      <td>-0.055245</td>\n",
              "      <td>0.248835</td>\n",
              "      <td>0.480343</td>\n",
              "      <td>1.000000</td>\n",
              "    </tr>\n",
              "  </tbody>\n",
              "</table>\n",
              "</div>"
            ],
            "text/plain": [
              "                      fixed_acidity  volatile_acidity  ...   alcohol   quality\n",
              "fixed_acidity              1.000000         -0.255124  ... -0.061596  0.119024\n",
              "volatile_acidity          -0.255124          1.000000  ... -0.197812 -0.395214\n",
              "citric_acid                0.667437         -0.551248  ...  0.105108  0.228057\n",
              "residual_sugar             0.111025         -0.002449  ...  0.063281  0.013640\n",
              "chlorides                  0.085886          0.055154  ... -0.223824 -0.130988\n",
              "free_sulfur_dioxide       -0.140580         -0.020945  ... -0.080125 -0.050463\n",
              "total_sulfur_dioxide      -0.103777          0.071701  ... -0.217829 -0.177855\n",
              "density                    0.670195          0.023943  ... -0.504995 -0.184252\n",
              "pH                        -0.686685          0.247111  ...  0.213418 -0.055245\n",
              "sulphates                  0.190269         -0.256948  ...  0.091621  0.248835\n",
              "alcohol                   -0.061596         -0.197812  ...  1.000000  0.480343\n",
              "quality                    0.119024         -0.395214  ...  0.480343  1.000000\n",
              "\n",
              "[12 rows x 12 columns]"
            ]
          },
          "metadata": {
            "tags": []
          },
          "execution_count": 65
        }
      ]
    },
    {
      "cell_type": "code",
      "metadata": {
        "id": "bFVQWOlzW-eY",
        "colab_type": "code",
        "colab": {
          "base_uri": "https://localhost:8080/",
          "height": 483
        },
        "outputId": "6d08aadf-9c0a-4c62-82e2-7f09d29fde24"
      },
      "source": [
        "#Não possui muita correlação \n",
        "plt.figure(figsize=(8,6))\n",
        "sns.heatmap(corr,vmin=-1, vmax=1, center=0, annot=True, fmt='.2f', cmap=sns.diverging_palette(20, 220, n=200))\n"
      ],
      "execution_count": 73,
      "outputs": [
        {
          "output_type": "execute_result",
          "data": {
            "text/plain": [
              "<matplotlib.axes._subplots.AxesSubplot at 0x7f9527e08080>"
            ]
          },
          "metadata": {
            "tags": []
          },
          "execution_count": 73
        },
        {
          "output_type": "display_data",
          "data": {
            "image/png": "[encoded data removed]",
            "text/plain": [
              "<Figure size 576x432 with 2 Axes>"
            ]
          },
          "metadata": {
            "tags": [],
            "needs_background": "light"
          }
        }
      ]
    },
    {
      "cell_type": "code",
      "metadata": {
        "id": "MpPYF1BcGGvJ",
        "colab_type": "code",
        "colab": {
          "base_uri": "https://localhost:8080/",
          "height": 351
        },
        "outputId": "b1c7d900-8331-44cd-9526-cb03eb43e3ab"
      },
      "source": [
        "plt.figure(figsize=(15,5))\n",
        "plt.subplot(1,3,1)\n",
        "plt.scatter(x=dados.pH[dados.quality>=7],y=dados.alcohol[dados.quality>=7],c='red')\n",
        "plt.scatter(x=dados.pH[dados.quality<7],y=dados.alcohol[dados.quality<7],c='green')\n",
        "plt.xlabel('PH')\n",
        "plt.ylabel('alcohol')\n",
        "plt.legend(['qualidade>=7','qualidade<7'])"
      ],
      "execution_count": 64,
      "outputs": [
        {
          "output_type": "execute_result",
          "data": {
            "text/plain": [
              "<matplotlib.legend.Legend at 0x7f9527f74400>"
            ]
          },
          "metadata": {
            "tags": []
          },
          "execution_count": 64
        },
        {
          "output_type": "display_data",
          "data": {
            "image/png": "[encoded data removed]",
            "text/plain": [
              "<Figure size 1080x360 with 1 Axes>"
            ]
          },
          "metadata": {
            "tags": [],
            "needs_background": "light"
          }
        }
      ]
    }
  ]
}