{
  "nbformat": 4,
  "nbformat_minor": 0,
  "metadata": {
    "colab": {
      "name": "Redes Neurais Artificiais - Machine learning na prática .ipynb",
      "provenance": [],
      "collapsed_sections": [],
      "toc_visible": true,
      "authorship_tag": "ABX9TyMCUNkRh0O8KfX0fDpg9LEt",
      "include_colab_link": true
    },
    "kernelspec": {
      "name": "python3",
      "display_name": "Python 3"
    }
  },
  "cells": [
    {
      "cell_type": "markdown",
      "metadata": {
        "id": "view-in-github",
        "colab_type": "text"
      },
      "source": [
        "<a href=\"https://colab.research.google.com/github/willamesalmeida/machine_learning/blob/master/Redes_Neurais_Artificiais_Machine_learning_na_pr%C3%A1tica_.ipynb\" target=\"_parent\"><img src=\"https://colab.research.google.com/assets/colab-badge.svg\" alt=\"Open In Colab\"/></a>"
      ]
    },
    {
      "cell_type": "markdown",
      "metadata": {
        "id": "ssxvOVtia25M",
        "colab_type": "text"
      },
      "source": [
        "**O DATASET analisado trata da qualidade de vinhos e pode ser encontrado no seguinte sitio:**\n",
        "\n",
        "https://www.kaggle.com/uciml/red-wine-quality-cortez-et-al-2009 "
      ]
    },
    {
      "cell_type": "code",
      "metadata": {
        "id": "36PY1BcMiw0R",
        "colab_type": "code",
        "colab": {
          "base_uri": "https://localhost:8080/",
          "height": 34
        },
        "outputId": "fbf6061b-3d7a-4ecf-f9d6-a2acefa540cf"
      },
      "source": [
        "from google.colab import drive\n",
        "drive.mount('/content/drive/')"
      ],
      "execution_count": 452,
      "outputs": [
        {
          "output_type": "stream",
          "text": [
            "Drive already mounted at /content/drive/; to attempt to forcibly remount, call drive.mount(\"/content/drive/\", force_remount=True).\n"
          ],
          "name": "stdout"
        }
      ]
    },
    {
      "cell_type": "markdown",
      "metadata": {
        "id": "lPHk39mkke3o",
        "colab_type": "text"
      },
      "source": [
        "#1 Fazendo os importes da biblioteca\n",
        "* Para começar nosso trabalho vamos importar algumas bibliotecas. \n",
        "\n",
        "* A princípio, vamos importar a lib Numpy, que nós ajudaram a trabalhar com vetores e matrizes, além disso, também facilitará alguns cálculos matemáticos, e a lib Pandas, que nós ajudará na manipulação do nosso dataset. \n",
        "\n",
        "* Assim que necessárias outras blibliotecas, elas seram importadas aqui, mas suas explicações seram feita no momento que forem necessárias."
      ]
    },
    {
      "cell_type": "code",
      "metadata": {
        "id": "b8ynFsVywdM3",
        "colab_type": "code",
        "colab": {}
      },
      "source": [
        "  import numpy as np\n",
        "  import pandas as pd\n",
        "  import matplotlib.pyplot as plt\n",
        "  import seaborn as sns\n",
        "  from sklearn.model_selection import train_test_split\n",
        "  from sklearn.tree import plot_tree\n",
        "  from sklearn.metrics import accuracy_score\n",
        "  from sklearn.metrics import precision_score\n",
        "  from sklearn.metrics import recall_score\n",
        "  from sklearn.metrics import f1_score\n",
        "  from sklearn.metrics  import roc_auc_score\n",
        "  from sklearn.model_selection import KFold\n",
        "  from sklearn.model_selection import cross_val_score\n",
        "  from sklearn.metrics  import roc_curve\n",
        "  from sklearn.neural_network import MLPClassifier\n",
        "  from sklearn.preprocessing import MinMaxScaler\n",
        "  from sklearn.tree import DecisionTreeClassifier\n",
        "  from sklearn.ensemble import RandomForestClassifier\n",
        "  from sklearn.model_selection import GridSearchCV\n",
        "  from sklearn.model_selection import RandomizedSearchCV\n"
      ],
      "execution_count": 453,
      "outputs": []
    },
    {
      "cell_type": "markdown",
      "metadata": {
        "id": "Hs0M8SkkkFM1",
        "colab_type": "text"
      },
      "source": [
        "# 2 Fazendo a leitura e o carregamento dos dados na memória\n",
        "* Agora utilizando a lib pandas, vamos fazer o carregamento de nosso dataset na memória para que possamos começar nosso trabalho.\n",
        "\n",
        "* Faremos algumas verificações em nosso dataset, primeiro vamos ver se está tudo ok em nossas colunas. Depois utilizaremos o head() para visualizar algumas linhas do nosso dataset. Por default, esse método retorna 5 linhas. \n",
        "\n"
      ]
    },
    {
      "cell_type": "code",
      "metadata": {
        "id": "065m-8i4Hn0m",
        "colab_type": "code",
        "colab": {}
      },
      "source": [
        "#lendo o dataset Sobre qualidade de vinhos\n",
        "dados = pd.read_csv('/content/drive//My Drive/Colab Notebooks/Dataset/winequality-red.csv')"
      ],
      "execution_count": 454,
      "outputs": []
    },
    {
      "cell_type": "markdown",
      "metadata": {
        "id": "nGUUEmEtV6Ad",
        "colab_type": "text"
      },
      "source": [
        "* Fazendo a visualização das colunas do nosso arquivo"
      ]
    },
    {
      "cell_type": "code",
      "metadata": {
        "id": "6d7VbvfbNfrR",
        "colab_type": "code",
        "colab": {
          "base_uri": "https://localhost:8080/",
          "height": 85
        },
        "outputId": "9f1eff79-6b68-4753-9e78-334eff1e50a8"
      },
      "source": [
        "#verificando as colunas do arquivo\n",
        "dados.columns"
      ],
      "execution_count": 455,
      "outputs": [
        {
          "output_type": "execute_result",
          "data": {
            "text/plain": [
              "Index(['fixed acidity', 'volatile acidity', 'citric acid', 'residual sugar',\n",
              "       'chlorides', 'free sulfur dioxide', 'total sulfur dioxide', 'density',\n",
              "       'pH', 'sulphates', 'alcohol', 'quality'],\n",
              "      dtype='object')"
            ]
          },
          "metadata": {
            "tags": []
          },
          "execution_count": 455
        }
      ]
    },
    {
      "cell_type": "markdown",
      "metadata": {
        "id": "pnuqBB60WDhm",
        "colab_type": "text"
      },
      "source": [
        "* Fazendo a visualização das linhas utilizando o head()\n",
        "\n",
        "\n",
        "\n"
      ]
    },
    {
      "cell_type": "code",
      "metadata": {
        "id": "PMjYm8NqKCCP",
        "colab_type": "code",
        "colab": {
          "base_uri": "https://localhost:8080/",
          "height": 204
        },
        "outputId": "2f7f30f3-0429-49b3-b739-c217a3ab09ae"
      },
      "source": [
        "#visualizando algumas linhas \n",
        "dados.head()"
      ],
      "execution_count": 456,
      "outputs": [
        {
          "output_type": "execute_result",
          "data": {
            "text/html": [
              "<div>\n",
              "<style scoped>\n",
              "    .dataframe tbody tr th:only-of-type {\n",
              "        vertical-align: middle;\n",
              "    }\n",
              "\n",
              "    .dataframe tbody tr th {\n",
              "        vertical-align: top;\n",
              "    }\n",
              "\n",
              "    .dataframe thead th {\n",
              "        text-align: right;\n",
              "    }\n",
              "</style>\n",
              "<table border=\"1\" class=\"dataframe\">\n",
              "  <thead>\n",
              "    <tr style=\"text-align: right;\">\n",
              "      <th></th>\n",
              "      <th>fixed acidity</th>\n",
              "      <th>volatile acidity</th>\n",
              "      <th>citric acid</th>\n",
              "      <th>residual sugar</th>\n",
              "      <th>chlorides</th>\n",
              "      <th>free sulfur dioxide</th>\n",
              "      <th>total sulfur dioxide</th>\n",
              "      <th>density</th>\n",
              "      <th>pH</th>\n",
              "      <th>sulphates</th>\n",
              "      <th>alcohol</th>\n",
              "      <th>quality</th>\n",
              "    </tr>\n",
              "  </thead>\n",
              "  <tbody>\n",
              "    <tr>\n",
              "      <th>0</th>\n",
              "      <td>7.4</td>\n",
              "      <td>0.70</td>\n",
              "      <td>0.00</td>\n",
              "      <td>1.9</td>\n",
              "      <td>0.076</td>\n",
              "      <td>11.0</td>\n",
              "      <td>34.0</td>\n",
              "      <td>0.9978</td>\n",
              "      <td>3.51</td>\n",
              "      <td>0.56</td>\n",
              "      <td>9.4</td>\n",
              "      <td>5</td>\n",
              "    </tr>\n",
              "    <tr>\n",
              "      <th>1</th>\n",
              "      <td>7.8</td>\n",
              "      <td>0.88</td>\n",
              "      <td>0.00</td>\n",
              "      <td>2.6</td>\n",
              "      <td>0.098</td>\n",
              "      <td>25.0</td>\n",
              "      <td>67.0</td>\n",
              "      <td>0.9968</td>\n",
              "      <td>3.20</td>\n",
              "      <td>0.68</td>\n",
              "      <td>9.8</td>\n",
              "      <td>5</td>\n",
              "    </tr>\n",
              "    <tr>\n",
              "      <th>2</th>\n",
              "      <td>7.8</td>\n",
              "      <td>0.76</td>\n",
              "      <td>0.04</td>\n",
              "      <td>2.3</td>\n",
              "      <td>0.092</td>\n",
              "      <td>15.0</td>\n",
              "      <td>54.0</td>\n",
              "      <td>0.9970</td>\n",
              "      <td>3.26</td>\n",
              "      <td>0.65</td>\n",
              "      <td>9.8</td>\n",
              "      <td>5</td>\n",
              "    </tr>\n",
              "    <tr>\n",
              "      <th>3</th>\n",
              "      <td>11.2</td>\n",
              "      <td>0.28</td>\n",
              "      <td>0.56</td>\n",
              "      <td>1.9</td>\n",
              "      <td>0.075</td>\n",
              "      <td>17.0</td>\n",
              "      <td>60.0</td>\n",
              "      <td>0.9980</td>\n",
              "      <td>3.16</td>\n",
              "      <td>0.58</td>\n",
              "      <td>9.8</td>\n",
              "      <td>6</td>\n",
              "    </tr>\n",
              "    <tr>\n",
              "      <th>4</th>\n",
              "      <td>7.4</td>\n",
              "      <td>0.70</td>\n",
              "      <td>0.00</td>\n",
              "      <td>1.9</td>\n",
              "      <td>0.076</td>\n",
              "      <td>11.0</td>\n",
              "      <td>34.0</td>\n",
              "      <td>0.9978</td>\n",
              "      <td>3.51</td>\n",
              "      <td>0.56</td>\n",
              "      <td>9.4</td>\n",
              "      <td>5</td>\n",
              "    </tr>\n",
              "  </tbody>\n",
              "</table>\n",
              "</div>"
            ],
            "text/plain": [
              "   fixed acidity  volatile acidity  citric acid  ...  sulphates  alcohol  quality\n",
              "0            7.4              0.70         0.00  ...       0.56      9.4        5\n",
              "1            7.8              0.88         0.00  ...       0.68      9.8        5\n",
              "2            7.8              0.76         0.04  ...       0.65      9.8        5\n",
              "3           11.2              0.28         0.56  ...       0.58      9.8        6\n",
              "4            7.4              0.70         0.00  ...       0.56      9.4        5\n",
              "\n",
              "[5 rows x 12 columns]"
            ]
          },
          "metadata": {
            "tags": []
          },
          "execution_count": 456
        }
      ]
    },
    {
      "cell_type": "markdown",
      "metadata": {
        "id": "vQp7s2-Pk2g9",
        "colab_type": "text"
      },
      "source": [
        "# 3 Tratando os dados e fazendo limpeza\n",
        "* Nesta etapa faremos o tratamentos de nossos dados e para isso utilizaremos alguns métodos.\n",
        "\n",
        "* Então, podemos remover dados NAN, remover valores null, remover dados duplicados, entre outros. \n",
        "\n",
        "* Também podemos utilizar algumas métricas para resolver esses tipos de problemas, quando existem valores null em uma coluna, por exemplo, podemos fazer a média de todos os valores que a coluna (atributo com valores faltantes) possui e colocar o resultado no lugar do valor null. "
      ]
    },
    {
      "cell_type": "markdown",
      "metadata": {
        "id": "s3ZruQRjYKBd",
        "colab_type": "text"
      },
      "source": [
        "* Logo abaixo verificamos a quantidade de colunas e linhas que nosso dataset possue."
      ]
    },
    {
      "cell_type": "code",
      "metadata": {
        "id": "dU8mPFqzWiuF",
        "colab_type": "code",
        "colab": {
          "base_uri": "https://localhost:8080/",
          "height": 34
        },
        "outputId": "9e642bc8-42d4-4606-f49a-99d8638b5814"
      },
      "source": [
        "#verificando a quantidade de linhas e colunas\n",
        "dados.shape"
      ],
      "execution_count": 457,
      "outputs": [
        {
          "output_type": "execute_result",
          "data": {
            "text/plain": [
              "(1599, 12)"
            ]
          },
          "metadata": {
            "tags": []
          },
          "execution_count": 457
        }
      ]
    },
    {
      "cell_type": "markdown",
      "metadata": {
        "id": "o8ZuXgiHYaiA",
        "colab_type": "text"
      },
      "source": [
        "* Agora faremos a remoção dos valores duplicados que existem em nossos dados. "
      ]
    },
    {
      "cell_type": "code",
      "metadata": {
        "id": "wNELfsX-NAxi",
        "colab_type": "code",
        "colab": {
          "base_uri": "https://localhost:8080/",
          "height": 34
        },
        "outputId": "8f6c2523-29c4-4d44-c054-45bc36b0c19c"
      },
      "source": [
        "#removendo valores duplicados e visualizando se teve muita diferença utilizando shape (possuia alguns valores duplicados) \n",
        "#dados = dados.drop_duplicates()\n",
        "dados.shape"
      ],
      "execution_count": 458,
      "outputs": [
        {
          "output_type": "execute_result",
          "data": {
            "text/plain": [
              "(1599, 12)"
            ]
          },
          "metadata": {
            "tags": []
          },
          "execution_count": 458
        }
      ]
    },
    {
      "cell_type": "markdown",
      "metadata": {
        "id": "zzHG7vAvYkz0",
        "colab_type": "text"
      },
      "source": [
        "* Podemos fazer também a remoção dos valores NAN, porém, nosso dataset não possuia valores NAN."
      ]
    },
    {
      "cell_type": "code",
      "metadata": {
        "id": "stMSaTDwRjbH",
        "colab_type": "code",
        "colab": {
          "base_uri": "https://localhost:8080/",
          "height": 34
        },
        "outputId": "545130c1-7a4e-45c4-8322-bc3117beda3a"
      },
      "source": [
        "#Removendo os valores NAN (não possuia NAN)\n",
        "dados = dados.dropna()\n",
        "dados.shape"
      ],
      "execution_count": 459,
      "outputs": [
        {
          "output_type": "execute_result",
          "data": {
            "text/plain": [
              "(1599, 12)"
            ]
          },
          "metadata": {
            "tags": []
          },
          "execution_count": 459
        }
      ]
    },
    {
      "cell_type": "markdown",
      "metadata": {
        "id": "8PYdnsELZ8Vn",
        "colab_type": "text"
      },
      "source": [
        "* Aqui utilizamos o método .isnull().sum() para que possamos visualizar a quantidade somada de valores null por atributos presente em nosso dataset."
      ]
    },
    {
      "cell_type": "code",
      "metadata": {
        "id": "FbG4YNIQSA31",
        "colab_type": "code",
        "colab": {
          "base_uri": "https://localhost:8080/",
          "height": 238
        },
        "outputId": "b452d879-1d2c-48d0-cbcb-1dfb21d1c7a4"
      },
      "source": [
        "#verificando a quantidade de valores nulos dentro do dataframe\n",
        "dados.isnull().sum()"
      ],
      "execution_count": 460,
      "outputs": [
        {
          "output_type": "execute_result",
          "data": {
            "text/plain": [
              "fixed acidity           0\n",
              "volatile acidity        0\n",
              "citric acid             0\n",
              "residual sugar          0\n",
              "chlorides               0\n",
              "free sulfur dioxide     0\n",
              "total sulfur dioxide    0\n",
              "density                 0\n",
              "pH                      0\n",
              "sulphates               0\n",
              "alcohol                 0\n",
              "quality                 0\n",
              "dtype: int64"
            ]
          },
          "metadata": {
            "tags": []
          },
          "execution_count": 460
        }
      ]
    },
    {
      "cell_type": "markdown",
      "metadata": {
        "id": "4bCmxZ6uaaol",
        "colab_type": "text"
      },
      "source": [
        "* A renomeação dos atributos é algo importante a se fazer porque, mais a frente, em nosso trabalho, precisaremos fazer referência (chamadas) a alguns desses atibutos. \n",
        "\n",
        "* Então, remover os espaços em branco dos atibutos de nomes compostos é importante para não nós depararmos com alguns erros inesperados.\n",
        "\n",
        "* Sendo assim, abaixo subistituimos os espaços em branco dos nomes dos atributos por underline(_), depois utilizamos o head() para visualizar nossos dados com a nova nomeclatura."
      ]
    },
    {
      "cell_type": "code",
      "metadata": {
        "id": "3KwEU1taSR1A",
        "colab_type": "code",
        "colab": {
          "base_uri": "https://localhost:8080/",
          "height": 204
        },
        "outputId": "4ae3fc22-c4dd-4838-c543-0cd61668ee2d"
      },
      "source": [
        "#renomeando as colunas para failcitar a analise posteriormente\n",
        "dados = dados.rename(columns={'fixed acidity':'fixed_acidity', 'volatile acidity': 'volatile_acidity', 'residual sugar': 'residual_sugar', 'free sulfur dioxide':'free_sulfur_dioxide', 'total sulfur dioxide':'total_sulfur_dioxide','citric acid':'citric_acid' })\n",
        "#Visualizando a tabela com a nova nomeclatura\n",
        "dados.head()"
      ],
      "execution_count": 461,
      "outputs": [
        {
          "output_type": "execute_result",
          "data": {
            "text/html": [
              "<div>\n",
              "<style scoped>\n",
              "    .dataframe tbody tr th:only-of-type {\n",
              "        vertical-align: middle;\n",
              "    }\n",
              "\n",
              "    .dataframe tbody tr th {\n",
              "        vertical-align: top;\n",
              "    }\n",
              "\n",
              "    .dataframe thead th {\n",
              "        text-align: right;\n",
              "    }\n",
              "</style>\n",
              "<table border=\"1\" class=\"dataframe\">\n",
              "  <thead>\n",
              "    <tr style=\"text-align: right;\">\n",
              "      <th></th>\n",
              "      <th>fixed_acidity</th>\n",
              "      <th>volatile_acidity</th>\n",
              "      <th>citric_acid</th>\n",
              "      <th>residual_sugar</th>\n",
              "      <th>chlorides</th>\n",
              "      <th>free_sulfur_dioxide</th>\n",
              "      <th>total_sulfur_dioxide</th>\n",
              "      <th>density</th>\n",
              "      <th>pH</th>\n",
              "      <th>sulphates</th>\n",
              "      <th>alcohol</th>\n",
              "      <th>quality</th>\n",
              "    </tr>\n",
              "  </thead>\n",
              "  <tbody>\n",
              "    <tr>\n",
              "      <th>0</th>\n",
              "      <td>7.4</td>\n",
              "      <td>0.70</td>\n",
              "      <td>0.00</td>\n",
              "      <td>1.9</td>\n",
              "      <td>0.076</td>\n",
              "      <td>11.0</td>\n",
              "      <td>34.0</td>\n",
              "      <td>0.9978</td>\n",
              "      <td>3.51</td>\n",
              "      <td>0.56</td>\n",
              "      <td>9.4</td>\n",
              "      <td>5</td>\n",
              "    </tr>\n",
              "    <tr>\n",
              "      <th>1</th>\n",
              "      <td>7.8</td>\n",
              "      <td>0.88</td>\n",
              "      <td>0.00</td>\n",
              "      <td>2.6</td>\n",
              "      <td>0.098</td>\n",
              "      <td>25.0</td>\n",
              "      <td>67.0</td>\n",
              "      <td>0.9968</td>\n",
              "      <td>3.20</td>\n",
              "      <td>0.68</td>\n",
              "      <td>9.8</td>\n",
              "      <td>5</td>\n",
              "    </tr>\n",
              "    <tr>\n",
              "      <th>2</th>\n",
              "      <td>7.8</td>\n",
              "      <td>0.76</td>\n",
              "      <td>0.04</td>\n",
              "      <td>2.3</td>\n",
              "      <td>0.092</td>\n",
              "      <td>15.0</td>\n",
              "      <td>54.0</td>\n",
              "      <td>0.9970</td>\n",
              "      <td>3.26</td>\n",
              "      <td>0.65</td>\n",
              "      <td>9.8</td>\n",
              "      <td>5</td>\n",
              "    </tr>\n",
              "    <tr>\n",
              "      <th>3</th>\n",
              "      <td>11.2</td>\n",
              "      <td>0.28</td>\n",
              "      <td>0.56</td>\n",
              "      <td>1.9</td>\n",
              "      <td>0.075</td>\n",
              "      <td>17.0</td>\n",
              "      <td>60.0</td>\n",
              "      <td>0.9980</td>\n",
              "      <td>3.16</td>\n",
              "      <td>0.58</td>\n",
              "      <td>9.8</td>\n",
              "      <td>6</td>\n",
              "    </tr>\n",
              "    <tr>\n",
              "      <th>4</th>\n",
              "      <td>7.4</td>\n",
              "      <td>0.70</td>\n",
              "      <td>0.00</td>\n",
              "      <td>1.9</td>\n",
              "      <td>0.076</td>\n",
              "      <td>11.0</td>\n",
              "      <td>34.0</td>\n",
              "      <td>0.9978</td>\n",
              "      <td>3.51</td>\n",
              "      <td>0.56</td>\n",
              "      <td>9.4</td>\n",
              "      <td>5</td>\n",
              "    </tr>\n",
              "  </tbody>\n",
              "</table>\n",
              "</div>"
            ],
            "text/plain": [
              "   fixed_acidity  volatile_acidity  citric_acid  ...  sulphates  alcohol  quality\n",
              "0            7.4              0.70         0.00  ...       0.56      9.4        5\n",
              "1            7.8              0.88         0.00  ...       0.68      9.8        5\n",
              "2            7.8              0.76         0.04  ...       0.65      9.8        5\n",
              "3           11.2              0.28         0.56  ...       0.58      9.8        6\n",
              "4            7.4              0.70         0.00  ...       0.56      9.4        5\n",
              "\n",
              "[5 rows x 12 columns]"
            ]
          },
          "metadata": {
            "tags": []
          },
          "execution_count": 461
        }
      ]
    },
    {
      "cell_type": "markdown",
      "metadata": {
        "id": "LilUo0eklKBC",
        "colab_type": "text"
      },
      "source": [
        "#4 Análise preliminar dos dados\n",
        "* Nesta etapa podemos fazer alguns plots de gráficos para ter algumas ideias e ter uma melhor visualização de como estão nossos dados. \n",
        "\n",
        "* Sabemos que a qualidados do nosso vinho esta sendo avaliadas por uma pontuação que vai de 0, para o vinhos de menor qualidade, a 10, para o vinhos de meaior qualidade. \n",
        "\n",
        "* Então, vamos verificar como está a distribuição dessa pontuação."
      ]
    },
    {
      "cell_type": "markdown",
      "metadata": {
        "id": "jg1tdRKGfp81",
        "colab_type": "text"
      },
      "source": [
        "**Aqui, utilizaremos a biblioteca metaplotlib. Essa é\n",
        "uma lib que auxilia na visualição e geração de gráficos. Seu import foi feito no começo desse notebook e foi apelidade de plt.**"
      ]
    },
    {
      "cell_type": "code",
      "metadata": {
        "id": "DMuvGfxiKzgm",
        "colab_type": "code",
        "colab": {
          "base_uri": "https://localhost:8080/",
          "height": 295
        },
        "outputId": "6468187d-852d-4a98-e907-831848ce7461"
      },
      "source": [
        "#verificando as pontuações da qualidade g\n",
        "plt.hist(dados['quality'])\n",
        "plt.xlabel('Classes')\n",
        "plt.ylabel('Quantidade')\n",
        "plt.title('Ocorrências das Classes')\n",
        "plt.grid(True)\n",
        "plt.show()"
      ],
      "execution_count": 462,
      "outputs": [
        {
          "output_type": "display_data",
          "data": {
            "image/png": "[encoded data removed]",
            "text/plain": [
              "<Figure size 432x288 with 1 Axes>"
            ]
          },
          "metadata": {
            "tags": [],
            "needs_background": "light"
          }
        }
      ]
    },
    {
      "cell_type": "markdown",
      "metadata": {
        "id": "cXyLlfZUec0w",
        "colab_type": "text"
      },
      "source": [
        "* Pelo gráfico é possivel ver que não possuimos vinhos com as pontuações de melhor nem de pior qualidade.\n",
        "\n",
        "* Vamos fazer alguns prints para visualizar melhor a quantidade de vinhos por cada pontuação."
      ]
    },
    {
      "cell_type": "code",
      "metadata": {
        "id": "bAoyhEPKWhUQ",
        "colab_type": "code",
        "colab": {
          "base_uri": "https://localhost:8080/",
          "height": 187
        },
        "outputId": "8411b511-0fe1-461e-d7bb-d8fa3ace7c89"
      },
      "source": [
        "#Visualizando a quantidade de vinhos pelas pontuações de qualidade\n",
        "print('Qualidade 1: ', dados[dados['quality']==1].shape[0])\n",
        "print('Qualidade 2: ', dados[dados['quality']==2].shape[0])\n",
        "print('Qualidade 3: ', dados[dados['quality']==3].shape[0])\n",
        "print('Qualidade 4: ', dados[dados['quality']==4].shape[0])\n",
        "print('Qualidade 5: ', dados[dados['quality']==5].shape[0])\n",
        "print('Qualidade 6: ', dados[dados['quality']==6].shape[0])\n",
        "print('Qualidade 7: ', dados[dados['quality']==7].shape[0])\n",
        "print('Qualidade 8: ', dados[dados['quality']==8].shape[0])\n",
        "print('Qualidade 9: ', dados[dados['quality']==9].shape[0])\n",
        "print('Qualidade 10: ', dados[dados['quality']==10].shape[0])"
      ],
      "execution_count": 463,
      "outputs": [
        {
          "output_type": "stream",
          "text": [
            "Qualidade 1:  0\n",
            "Qualidade 2:  0\n",
            "Qualidade 3:  10\n",
            "Qualidade 4:  53\n",
            "Qualidade 5:  681\n",
            "Qualidade 6:  638\n",
            "Qualidade 7:  199\n",
            "Qualidade 8:  18\n",
            "Qualidade 9:  0\n",
            "Qualidade 10:  0\n"
          ],
          "name": "stdout"
        }
      ]
    },
    {
      "cell_type": "markdown",
      "metadata": {
        "id": "IrCArsLCmEVx",
        "colab_type": "text"
      },
      "source": [
        "* Podemos verificar a distribuição de alguns atributos que podem ser importantes para a classificação dos vinho."
      ]
    },
    {
      "cell_type": "code",
      "metadata": {
        "id": "dbPvGeGceyM6",
        "colab_type": "code",
        "colab": {
          "base_uri": "https://localhost:8080/",
          "height": 281
        },
        "outputId": "269a5b05-2e5b-466c-cf35-196bb51f68f1"
      },
      "source": [
        "#verificando a distribuição do atibuto pH \n",
        "plt.hist(dados['pH'],10)\n",
        "plt.ylabel('Quantidade')\n",
        "plt.title('distribuição do  pH')\n",
        "plt.grid(True)\n",
        "plt.show()"
      ],
      "execution_count": 464,
      "outputs": [
        {
          "output_type": "display_data",
          "data": {
            "image/png": "[encoded data removed]",
            "text/plain": [
              "<Figure size 432x288 with 1 Axes>"
            ]
          },
          "metadata": {
            "tags": [],
            "needs_background": "light"
          }
        }
      ]
    },
    {
      "cell_type": "markdown",
      "metadata": {
        "id": "6xxp3F8vipFP",
        "colab_type": "text"
      },
      "source": [
        "* O PH dos vinhos não passam de 4.0 e a maior ocorrência é de vinhos com PH entre 3.2 e 3.4. "
      ]
    },
    {
      "cell_type": "code",
      "metadata": {
        "id": "0cJoIoNLi4g8",
        "colab_type": "code",
        "colab": {
          "base_uri": "https://localhost:8080/",
          "height": 281
        },
        "outputId": "3fb768e9-e4e9-4b68-b707-cb06ab640b9f"
      },
      "source": [
        "#verificando a distribuição do atibuto álcool\n",
        "plt.hist(dados['alcohol'], 10)\n",
        "plt.ylabel('Quantidade')\n",
        "plt.title('Ocorrências do Atributo álcool')\n",
        "plt.grid(True)\n",
        "plt.show()"
      ],
      "execution_count": 465,
      "outputs": [
        {
          "output_type": "display_data",
          "data": {
            "image/png": "[encoded data removed]",
            "text/plain": [
              "<Figure size 432x288 with 1 Axes>"
            ]
          },
          "metadata": {
            "tags": [],
            "needs_background": "light"
          }
        }
      ]
    },
    {
      "cell_type": "markdown",
      "metadata": {
        "id": "aA_misNZrhtu",
        "colab_type": "text"
      },
      "source": [
        "* O Teor alcoólico dos vinhos não passam de 15 sendo que a maior ocorrencia de teor alcoólico está entre 9 e 10"
      ]
    },
    {
      "cell_type": "markdown",
      "metadata": {
        "id": "aamiYsQfn6rU",
        "colab_type": "text"
      },
      "source": [
        "* Para ter uma melhor visualização podemos utilizar um gráfico de barras para ver a influência de alguns atributos na qualidade dos vinhos.\n",
        "\n",
        "* Podemos utilizar o gráfico de barras para comparaçoes entre dois atributos, sendo isso o que faremos a seguir. "
      ]
    },
    {
      "cell_type": "markdown",
      "metadata": {
        "id": "xa-dI-U8o88Z",
        "colab_type": "text"
      },
      "source": [
        "**Utilizaremos uma biblioteca chamada seaborn para plotar nossos gráficos de barras. Essa lib é baseada na metaplotlib, utilizaremos ela por questão de facilidade  na plotagem (pelo menos para esse caso facilitou), necessitando basicamente de uma linha de código.**\n",
        "\n",
        "**Mas também é possivel utilizar a metaplotlib para gerar o gráfico de barras**\n",
        "\n",
        "**O importe da seaborn foi feito no começo do notebook e foi apelidada de sns.**\n"
      ]
    },
    {
      "cell_type": "markdown",
      "metadata": {
        "id": "KMqWGADe21Yj",
        "colab_type": "text"
      },
      "source": [
        "* Vamos plotar os atibutos para verificar quais influenciam mais na qualidado do vinho. Usaremos o gráfico de barras para fazer comparações entre o atibutos de qualidade e os demais atributos."
      ]
    },
    {
      "cell_type": "code",
      "metadata": {
        "colab_type": "code",
        "id": "fg5G6DuKg6b4",
        "colab": {
          "base_uri": "https://localhost:8080/",
          "height": 405
        },
        "outputId": "72888d1b-b8c1-4440-b48b-603830f55981"
      },
      "source": [
        "\n",
        "#Verificando a influência de alguns atributos para a qualidade do vinho \n",
        "fig = plt.figure(figsize = (10,6))\n",
        "sns.barplot( x = 'quality', y = 'fixed_acidity', data = dados)"
      ],
      "execution_count": 466,
      "outputs": [
        {
          "output_type": "execute_result",
          "data": {
            "text/plain": [
              "<matplotlib.axes._subplots.AxesSubplot at 0x7f3b66c79320>"
            ]
          },
          "metadata": {
            "tags": []
          },
          "execution_count": 466
        },
        {
          "output_type": "display_data",
          "data": {
            "image/png": "[encoded data removed]",
            "text/plain": [
              "<Figure size 720x432 with 1 Axes>"
            ]
          },
          "metadata": {
            "tags": [],
            "needs_background": "light"
          }
        }
      ]
    },
    {
      "cell_type": "markdown",
      "metadata": {
        "id": "rEgQqNG63uJ0",
        "colab_type": "text"
      },
      "source": [
        "* O ácido fixo possui uma variação por cada pontuação, então, esse atributo não possui muita relação com a qualidade dos vinhos."
      ]
    },
    {
      "cell_type": "code",
      "metadata": {
        "id": "0o4wp2kWsPAB",
        "colab_type": "code",
        "colab": {
          "base_uri": "https://localhost:8080/",
          "height": 408
        },
        "outputId": "77ff60e6-ea09-47b5-89c7-07dfd1023419"
      },
      "source": [
        "#Verificando a influência de alguns atributos para a qualidade do vinho \n",
        "fig = plt.figure(figsize = (10,6))\n",
        "sns.barplot( x = 'quality', y = 'fixed_acidity', data = dados)"
      ],
      "execution_count": 467,
      "outputs": [
        {
          "output_type": "execute_result",
          "data": {
            "text/plain": [
              "<matplotlib.axes._subplots.AxesSubplot at 0x7f3b66bd46d8>"
            ]
          },
          "metadata": {
            "tags": []
          },
          "execution_count": 467
        },
        {
          "output_type": "display_data",
          "data": {
            "image/png": "[encoded data removed]",
            "text/plain": [
              "<Figure size 720x432 with 1 Axes>"
            ]
          },
          "metadata": {
            "tags": [],
            "needs_background": "light"
          }
        }
      ]
    },
    {
      "cell_type": "markdown",
      "metadata": {
        "id": "9Sz0ORyuKaE6",
        "colab_type": "text"
      },
      "source": [
        "* Nesse caso vemos que a ácidez fixa não influência muito na qualidade do vinho "
      ]
    },
    {
      "cell_type": "code",
      "metadata": {
        "id": "J6vijY-oKLkG",
        "colab_type": "code",
        "colab": {
          "base_uri": "https://localhost:8080/",
          "height": 405
        },
        "outputId": "92b1346f-c50a-457a-d6af-da2d6c2d7311"
      },
      "source": [
        "#Verificando a influência da acidez volatil na qualidade do vinh, \n",
        "#vemos que há uma queda na acidez volátil conforme aumentamos a qualidade\n",
        "fig = plt.figure(figsize = (10,6))\n",
        "sns.barplot( x = 'quality', y = 'volatile_acidity', data = dados)"
      ],
      "execution_count": 468,
      "outputs": [
        {
          "output_type": "execute_result",
          "data": {
            "text/plain": [
              "<matplotlib.axes._subplots.AxesSubplot at 0x7f3b66c79160>"
            ]
          },
          "metadata": {
            "tags": []
          },
          "execution_count": 468
        },
        {
          "output_type": "display_data",
          "data": {
            "image/png": "[encoded data removed]",
            "text/plain": [
              "<Figure size 720x432 with 1 Axes>"
            ]
          },
          "metadata": {
            "tags": [],
            "needs_background": "light"
          }
        }
      ]
    },
    {
      "cell_type": "markdown",
      "metadata": {
        "id": "wOIDrpe8M9rV",
        "colab_type": "text"
      },
      "source": [
        "* Vemos que com o aumento da qualidade acontece uma diminuição da acidez volátil"
      ]
    },
    {
      "cell_type": "code",
      "metadata": {
        "id": "w6jJL5WjvSR4",
        "colab_type": "code",
        "colab": {
          "base_uri": "https://localhost:8080/",
          "height": 408
        },
        "outputId": "b111cd42-08ac-49a2-a2ba-a155dd410372"
      },
      "source": [
        "#Verificando a influência do acido citrico na qualidade do vinho\n",
        "fig = plt.figure(figsize = (10,6))\n",
        "sns.barplot( x = 'quality', y = 'citric_acid', data = dados)"
      ],
      "execution_count": 469,
      "outputs": [
        {
          "output_type": "execute_result",
          "data": {
            "text/plain": [
              "<matplotlib.axes._subplots.AxesSubplot at 0x7f3b67e14668>"
            ]
          },
          "metadata": {
            "tags": []
          },
          "execution_count": 469
        },
        {
          "output_type": "display_data",
          "data": {
            "image/png": "[encoded data removed]",
            "text/plain": [
              "<Figure size 720x432 with 1 Axes>"
            ]
          },
          "metadata": {
            "tags": [],
            "needs_background": "light"
          }
        }
      ]
    },
    {
      "cell_type": "markdown",
      "metadata": {
        "id": "vgvBxzMK4cnK",
        "colab_type": "text"
      },
      "source": [
        "* O ácido cítrico possui um crescimento conforme a qualidade do vinho também aumenta, possivelmente possui uma grande relação com a qualidade."
      ]
    },
    {
      "cell_type": "code",
      "metadata": {
        "id": "bO0lMksbxPZP",
        "colab_type": "code",
        "colab": {
          "base_uri": "https://localhost:8080/",
          "height": 405
        },
        "outputId": "2b6a2b5d-ac8c-471c-d149-e84c43a5bb0c"
      },
      "source": [
        "#Verificando a influencia do açucar residual na qualidade do vinho\n",
        "fig = plt.figure(figsize = (10,6))\n",
        "sns.barplot( x = 'quality', y = 'residual_sugar', data = dados)"
      ],
      "execution_count": 470,
      "outputs": [
        {
          "output_type": "execute_result",
          "data": {
            "text/plain": [
              "<matplotlib.axes._subplots.AxesSubplot at 0x7f3b66a91438>"
            ]
          },
          "metadata": {
            "tags": []
          },
          "execution_count": 470
        },
        {
          "output_type": "display_data",
          "data": {
            "image/png": "[encoded data removed]",
            "text/plain": [
              "<Figure size 720x432 with 1 Axes>"
            ]
          },
          "metadata": {
            "tags": [],
            "needs_background": "light"
          }
        }
      ]
    },
    {
      "cell_type": "code",
      "metadata": {
        "id": "W0fuJkokyQ-w",
        "colab_type": "code",
        "colab": {
          "base_uri": "https://localhost:8080/",
          "height": 405
        },
        "outputId": "1bb78f5d-1eb8-4763-cd77-b00fe4372c02"
      },
      "source": [
        "#Verificando a influência do cloreto na qualidade do vinho\n",
        "fig = plt.figure(figsize = (10,6))\n",
        "sns.barplot( x = 'quality', y = 'chlorides', data = dados)"
      ],
      "execution_count": 471,
      "outputs": [
        {
          "output_type": "execute_result",
          "data": {
            "text/plain": [
              "<matplotlib.axes._subplots.AxesSubplot at 0x7f3b66a91470>"
            ]
          },
          "metadata": {
            "tags": []
          },
          "execution_count": 471
        },
        {
          "output_type": "display_data",
          "data": {
            "image/png": "[encoded data removed]",
            "text/plain": [
              "<Figure size 720x432 with 1 Axes>"
            ]
          },
          "metadata": {
            "tags": [],
            "needs_background": "light"
          }
        }
      ]
    },
    {
      "cell_type": "code",
      "metadata": {
        "id": "XsKxJeh_R5hN",
        "colab_type": "code",
        "colab": {
          "base_uri": "https://localhost:8080/",
          "height": 405
        },
        "outputId": "f50fd94c-2e97-4f2b-8a43-75d597530d09"
      },
      "source": [
        "#Verificando a influencia do dioxido de enxofre na qualidade do vinho\n",
        "fig = plt.figure(figsize = (10,6))\n",
        "sns.barplot( x = 'quality', y = 'free_sulfur_dioxide', data = dados)"
      ],
      "execution_count": 472,
      "outputs": [
        {
          "output_type": "execute_result",
          "data": {
            "text/plain": [
              "<matplotlib.axes._subplots.AxesSubplot at 0x7f3b67fd1eb8>"
            ]
          },
          "metadata": {
            "tags": []
          },
          "execution_count": 472
        },
        {
          "output_type": "display_data",
          "data": {
            "image/png": "[encoded data removed]",
            "text/plain": [
              "<Figure size 720x432 with 1 Axes>"
            ]
          },
          "metadata": {
            "tags": [],
            "needs_background": "light"
          }
        }
      ]
    },
    {
      "cell_type": "code",
      "metadata": {
        "id": "ACPvkFIXUxFr",
        "colab_type": "code",
        "colab": {
          "base_uri": "https://localhost:8080/",
          "height": 405
        },
        "outputId": "3f640775-271c-4c3f-9329-fa1d9fcb57dc"
      },
      "source": [
        "#Verificando a influencia do total de dioxido de enxofre na qualidade do vinho\n",
        "fig = plt.figure(figsize = (10,6))\n",
        "sns.barplot( x = 'quality', y = 'total_sulfur_dioxide', data = dados)"
      ],
      "execution_count": 473,
      "outputs": [
        {
          "output_type": "execute_result",
          "data": {
            "text/plain": [
              "<matplotlib.axes._subplots.AxesSubplot at 0x7f3b6789e240>"
            ]
          },
          "metadata": {
            "tags": []
          },
          "execution_count": 473
        },
        {
          "output_type": "display_data",
          "data": {
            "image/png": "[encoded data removed]",
            "text/plain": [
              "<Figure size 720x432 with 1 Axes>"
            ]
          },
          "metadata": {
            "tags": [],
            "needs_background": "light"
          }
        }
      ]
    },
    {
      "cell_type": "code",
      "metadata": {
        "id": "zDtVwyIsUyn8",
        "colab_type": "code",
        "colab": {
          "base_uri": "https://localhost:8080/",
          "height": 405
        },
        "outputId": "c0d067d0-b0da-48b2-eb97-f40a90fe1364"
      },
      "source": [
        "#Verificando a influência do density na qualidade do vinho\n",
        "fig = plt.figure(figsize = (10,6))\n",
        "sns.barplot( x = 'quality', y = 'density', data = dados)"
      ],
      "execution_count": 474,
      "outputs": [
        {
          "output_type": "execute_result",
          "data": {
            "text/plain": [
              "<matplotlib.axes._subplots.AxesSubplot at 0x7f3b66894780>"
            ]
          },
          "metadata": {
            "tags": []
          },
          "execution_count": 474
        },
        {
          "output_type": "display_data",
          "data": {
            "image/png": "[encoded data removed]",
            "text/plain": [
              "<Figure size 720x432 with 1 Axes>"
            ]
          },
          "metadata": {
            "tags": [],
            "needs_background": "light"
          }
        }
      ]
    },
    {
      "cell_type": "code",
      "metadata": {
        "id": "d_3I_i9SV_lI",
        "colab_type": "code",
        "colab": {
          "base_uri": "https://localhost:8080/",
          "height": 405
        },
        "outputId": "e5f2b36a-9b37-4b42-ae4f-85f71666931c"
      },
      "source": [
        "#Verificando a influência do pH na qualidade do vinho\n",
        "fig = plt.figure(figsize = (10,6))\n",
        "sns.barplot( x = 'quality', y = 'pH', data = dados)"
      ],
      "execution_count": 475,
      "outputs": [
        {
          "output_type": "execute_result",
          "data": {
            "text/plain": [
              "<matplotlib.axes._subplots.AxesSubplot at 0x7f3b6703a780>"
            ]
          },
          "metadata": {
            "tags": []
          },
          "execution_count": 475
        },
        {
          "output_type": "display_data",
          "data": {
            "image/png": "[encoded data removed]",
            "text/plain": [
              "<Figure size 720x432 with 1 Axes>"
            ]
          },
          "metadata": {
            "tags": [],
            "needs_background": "light"
          }
        }
      ]
    },
    {
      "cell_type": "code",
      "metadata": {
        "id": "EOGMQChYNA12",
        "colab_type": "code",
        "colab": {
          "base_uri": "https://localhost:8080/",
          "height": 405
        },
        "outputId": "97d9e434-2144-48cc-cf50-4da943168d40"
      },
      "source": [
        "#Verificando a influência do sulfato na qualidade do vinho\n",
        "#vemos que há um aumento na qualidade do vinho confrome aumenta a quantidade de sulfato\n",
        "fig = plt.figure(figsize = (10,6))\n",
        "sns.barplot( x = 'quality', y = 'sulphates', data = dados)"
      ],
      "execution_count": 476,
      "outputs": [
        {
          "output_type": "execute_result",
          "data": {
            "text/plain": [
              "<matplotlib.axes._subplots.AxesSubplot at 0x7f3b667a9828>"
            ]
          },
          "metadata": {
            "tags": []
          },
          "execution_count": 476
        },
        {
          "output_type": "display_data",
          "data": {
            "image/png": "[encoded data removed]",
            "text/plain": [
              "<Figure size 720x432 with 1 Axes>"
            ]
          },
          "metadata": {
            "tags": [],
            "needs_background": "light"
          }
        }
      ]
    },
    {
      "cell_type": "code",
      "metadata": {
        "id": "2tWMJn5Ta87m",
        "colab_type": "code",
        "colab": {
          "base_uri": "https://localhost:8080/",
          "height": 405
        },
        "outputId": "b245dc53-23ed-4dfc-8586-a131b7ab5b99"
      },
      "source": [
        "#Verificando a influência do álcool na qualidade do vinho\n",
        "#Com o álcool acontece algo parecido com o que aconteceu com o sulfato. Porém, se diferência pela quantidade que tem pouca variação entre as pontuações de qualidade. \n",
        "fig = plt.figure(figsize = (10,6))\n",
        "sns.barplot( x = 'quality', y = 'alcohol', data = dados)"
      ],
      "execution_count": 477,
      "outputs": [
        {
          "output_type": "execute_result",
          "data": {
            "text/plain": [
              "<matplotlib.axes._subplots.AxesSubplot at 0x7f3b668737b8>"
            ]
          },
          "metadata": {
            "tags": []
          },
          "execution_count": 477
        },
        {
          "output_type": "display_data",
          "data": {
            "image/png": "[encoded data removed]",
            "text/plain": [
              "<Figure size 720x432 with 1 Axes>"
            ]
          },
          "metadata": {
            "tags": [],
            "needs_background": "light"
          }
        }
      ]
    },
    {
      "cell_type": "markdown",
      "metadata": {
        "id": "QdPlWnVC__hj",
        "colab_type": "text"
      },
      "source": [
        "* Vemos no plot acima que o alchool influência um pouco na qualidade do vinho. Os vinhos com maior teor alcoólico estão com pontuação maior de qualidade.\n",
        "* Existem três atibutos que mais influênciam na qualidade do vinho, são eles: Ácidez citrica, Sulfato e o álcool."
      ]
    },
    {
      "cell_type": "markdown",
      "metadata": {
        "id": "o0b8UtVxDbCr",
        "colab_type": "text"
      },
      "source": [
        "* Então, Vamos visualizar a probabilidade desses atributos\n"
      ]
    },
    {
      "cell_type": "code",
      "metadata": {
        "id": "F9ZgaWi4Wc_E",
        "colab_type": "code",
        "colab": {
          "base_uri": "https://localhost:8080/",
          "height": 296
        },
        "outputId": "a317e76f-6938-4b10-f99b-3924c35e4e55"
      },
      "source": [
        "# Verificando a probabilidade da ácidez citrica\n",
        "sns.distplot(dados.citric_acid, hist=False, rug=False,label='qualidade')\n",
        "plt.ylabel('Probabilidades')\n",
        "plt.title('Ocorrências do Atributo Acidez Citrica')\n",
        "plt.show()"
      ],
      "execution_count": 478,
      "outputs": [
        {
          "output_type": "display_data",
          "data": {
            "image/png": "[encoded data removed]",
            "text/plain": [
              "<Figure size 432x288 with 1 Axes>"
            ]
          },
          "metadata": {
            "tags": [],
            "needs_background": "light"
          }
        }
      ]
    },
    {
      "cell_type": "code",
      "metadata": {
        "id": "Jt0CKVOQDQBv",
        "colab_type": "code",
        "colab": {
          "base_uri": "https://localhost:8080/",
          "height": 295
        },
        "outputId": "f92237d9-5451-43b0-af26-ec06cb8d7220"
      },
      "source": [
        "#Verificando o atibuto sulfato\n",
        "sns.distplot(dados.sulphates, hist=False, rug=False,label='qualidade')\n",
        "plt.ylabel('Probabilidades')\n",
        "plt.title('Ocorrências do Atributo Acidez Citrica')\n",
        "plt.show()"
      ],
      "execution_count": 479,
      "outputs": [
        {
          "output_type": "display_data",
          "data": {
            "image/png": "[encoded data removed]",
            "text/plain": [
              "<Figure size 432x288 with 1 Axes>"
            ]
          },
          "metadata": {
            "tags": [],
            "needs_background": "light"
          }
        }
      ]
    },
    {
      "cell_type": "code",
      "metadata": {
        "id": "mgq0wzCDDzWL",
        "colab_type": "code",
        "colab": {
          "base_uri": "https://localhost:8080/",
          "height": 295
        },
        "outputId": "a7bf90b8-4cae-48c4-a5f8-e530f11e678f"
      },
      "source": [
        "#Verificado o atributo Álcool\n",
        "sns.distplot(dados.alcohol, hist=False, rug=False,label='qualidade')\n",
        "plt.ylabel('Probabilidades')\n",
        "plt.title('Ocorrências do Atributo Acidez Citrica')\n",
        "plt.show()"
      ],
      "execution_count": 480,
      "outputs": [
        {
          "output_type": "display_data",
          "data": {
            "image/png": "[encoded data removed]",
            "text/plain": [
              "<Figure size 432x288 with 1 Axes>"
            ]
          },
          "metadata": {
            "tags": [],
            "needs_background": "light"
          }
        }
      ]
    },
    {
      "cell_type": "markdown",
      "metadata": {
        "id": "kIMQWtvIU5Q3",
        "colab_type": "text"
      },
      "source": [
        "**Boxpot**\n",
        "\n",
        "verificando os pontos fora da curva, a mediana, e os quartis do atributo ácidez citrica"
      ]
    },
    {
      "cell_type": "code",
      "metadata": {
        "id": "Q3uxCHEwU4DB",
        "colab_type": "code",
        "colab": {
          "base_uri": "https://localhost:8080/",
          "height": 295
        },
        "outputId": "ab4135d5-dc31-4ad3-aab5-71d0def0f6b3"
      },
      "source": [
        "#plotando um dos atributos que tiveram maior influencia com a qualidade do vinho\n",
        "plt.boxplot(dados.citric_acid)\n",
        "plt.title('Boxplot da Acidez citrica')\n",
        "plt.xlabel('Acidez')\n",
        "plt.grid()\n",
        "plt.show()"
      ],
      "execution_count": 481,
      "outputs": [
        {
          "output_type": "display_data",
          "data": {
            "image/png": "[encoded data removed]",
            "text/plain": [
              "<Figure size 432x288 with 1 Axes>"
            ]
          },
          "metadata": {
            "tags": [],
            "needs_background": "light"
          }
        }
      ]
    },
    {
      "cell_type": "markdown",
      "metadata": {
        "id": "wWyBRvs955n6",
        "colab_type": "text"
      },
      "source": [
        "Vamos separar as classes para poder fazer uma com comparação entre elas."
      ]
    },
    {
      "cell_type": "code",
      "metadata": {
        "id": "JKEWXaC46wMH",
        "colab_type": "code",
        "colab": {}
      },
      "source": [
        "#Visualizando a quantidade de vinhos pelas pontuações de qualidade\n",
        "qualidade_0 = dados[dados['quality']==0].drop(columns=['quality']).reset_index(drop=True)\n",
        "qualidade_1 = dados[dados['quality']==1].drop(columns=['quality']).reset_index(drop=True)\n",
        "qualidade_2 = dados[dados['quality']==2].drop(columns=['quality']).reset_index(drop=True)\n",
        "qualidade_3 = dados[dados['quality']==3].drop(columns=['quality']).reset_index(drop=True)\n",
        "qualidade_4 = dados[dados['quality']==4].drop(columns=['quality']).reset_index(drop=True)\n",
        "qualidade_5 = dados[dados['quality']==5].drop(columns=['quality']).reset_index(drop=True)\n",
        "qualidade_6 = dados[dados['quality']==6].drop(columns=['quality']).reset_index(drop=True)\n",
        "qualidade_7 = dados[dados['quality']==7].drop(columns=['quality']).reset_index(drop=True)\n",
        "qualidade_8 = dados[dados['quality']==8].drop(columns=['quality']).reset_index(drop=True)\n",
        "qualidade_9 = dados[dados['quality']==9].drop(columns=['quality']).reset_index(drop=True)\n",
        "qualidade_10 = dados[dados['quality']==10].drop(columns=['quality']).reset_index(drop=True)"
      ],
      "execution_count": 482,
      "outputs": []
    },
    {
      "cell_type": "markdown",
      "metadata": {
        "id": "3bSHmXPrA0mk",
        "colab_type": "text"
      },
      "source": [
        "* Vamos fazer um boxplot das pontuações, da ácidez citrica e também do alcool para ter uma comparação visual desses dados"
      ]
    },
    {
      "cell_type": "code",
      "metadata": {
        "id": "304vhAnBBQtD",
        "colab_type": "code",
        "colab": {
          "base_uri": "https://localhost:8080/",
          "height": 296
        },
        "outputId": "c50359f5-2361-4b8e-bbeb-79ce304e0253"
      },
      "source": [
        "#plotando um dos atributos que tiveram maior influencia com a qualidade do vinho\n",
        "plt.boxplot([qualidade_0.citric_acid,qualidade_1.citric_acid,qualidade_2.citric_acid,qualidade_3.citric_acid,\n",
        "             qualidade_4.citric_acid,qualidade_5.citric_acid,qualidade_6.citric_acid,qualidade_7.citric_acid,\n",
        "             qualidade_8.citric_acid,qualidade_9.citric_acid,qualidade_10.citric_acid],labels=['qualid_0',\n",
        "             'qualid_1','qualid_2','qualid_3','qualid_4','qualid_5','qualid_6','qualid_7','qualid_8',\n",
        "             'qualid_9','qualid_10'])\n",
        "plt.title('Boxplot da Acidez citrica')\n",
        "plt.xlabel('Classes')\n",
        "plt.grid()\n",
        "plt.show()"
      ],
      "execution_count": 483,
      "outputs": [
        {
          "output_type": "display_data",
          "data": {
            "image/png": "[encoded data removed]",
            "text/plain": [
              "<Figure size 432x288 with 1 Axes>"
            ]
          },
          "metadata": {
            "tags": [],
            "needs_background": "light"
          }
        }
      ]
    },
    {
      "cell_type": "code",
      "metadata": {
        "id": "8n6J4rIY_v2j",
        "colab_type": "code",
        "colab": {
          "base_uri": "https://localhost:8080/",
          "height": 296
        },
        "outputId": "5ea6a341-e0b3-4a77-ccba-42c01f2732fb"
      },
      "source": [
        "#plotando um dos atributos que tiveram maior influencia com a qualidade do vinho\n",
        "plt.boxplot([qualidade_0.alcohol,qualidade_1.alcohol,qualidade_2.alcohol,qualidade_3.alcohol,\n",
        "             qualidade_4.alcohol,qualidade_5.alcohol,qualidade_6.alcohol,qualidade_7.alcohol,\n",
        "             qualidade_8.alcohol,qualidade_9.alcohol,qualidade_10.alcohol],labels=['qualid_0',\n",
        "             'qualid_1','qualid_2','qualid_3','qualid_4','qualid_5','qualid_6','qualid_7','qualid_8',\n",
        "             'qualid_9','qualid_10'])\n",
        "plt.title('Boxplot do Teor Alcoólico')\n",
        "plt.xlabel('Classes')\n",
        "plt.grid()\n",
        "plt.show()"
      ],
      "execution_count": 484,
      "outputs": [
        {
          "output_type": "display_data",
          "data": {
            "image/png": "[encoded data removed]",
            "text/plain": [
              "<Figure size 432x288 with 1 Axes>"
            ]
          },
          "metadata": {
            "tags": [],
            "needs_background": "light"
          }
        }
      ]
    },
    {
      "cell_type": "code",
      "metadata": {
        "id": "UNy9Jwb3_5iB",
        "colab_type": "code",
        "colab": {
          "base_uri": "https://localhost:8080/",
          "height": 451
        },
        "outputId": "73f54914-6ba3-45d0-8fe9-8930de544aa9"
      },
      "source": [
        "# distribuição de probabilidade comparando a area média para as classes\n",
        "sns.distplot(qualidade_0.citric_acid, hist=False, rug=False,label='qualid_0')\n",
        "sns.distplot(qualidade_1.citric_acid, hist=False, rug=False,label='qualid_1')\n",
        "sns.distplot(qualidade_2.citric_acid, hist=False, rug=False,label='qualid_2')\n",
        "sns.distplot(qualidade_3.citric_acid, hist=False, rug=False,label='qualid_3')\n",
        "sns.distplot(qualidade_4.citric_acid, hist=False, rug=False,label='qualid_4')\n",
        "sns.distplot(qualidade_5.citric_acid, hist=False, rug=False,label='qualid_5')\n",
        "sns.distplot(qualidade_6.citric_acid, hist=False, rug=False,label='qualid_6')\n",
        "sns.distplot(qualidade_7.citric_acid, hist=False, rug=False,label='qualid_7')\n",
        "sns.distplot(qualidade_8.citric_acid, hist=False, rug=False,label='qualid_8')\n",
        "sns.distplot(qualidade_9.citric_acid, hist=False, rug=False,label='qualid_9')\n",
        "sns.distplot(qualidade_10.citric_acid, hist=False, rug=False,label='qualid_10')\n",
        "plt.xlabel('Área média')\n",
        "plt.ylabel('Probabilidades')\n",
        "plt.title('Ácidez citrica')\n",
        "plt.show()"
      ],
      "execution_count": 485,
      "outputs": [
        {
          "output_type": "stream",
          "text": [
            "/usr/local/lib/python3.6/dist-packages/seaborn/distributions.py:198: RuntimeWarning: Mean of empty slice.\n",
            "  line, = ax.plot(a.mean(), 0)\n",
            "/usr/local/lib/python3.6/dist-packages/numpy/core/_methods.py:161: RuntimeWarning: invalid value encountered in double_scalars\n",
            "  ret = ret.dtype.type(ret / rcount)\n",
            "/usr/local/lib/python3.6/dist-packages/seaborn/distributions.py:198: RuntimeWarning: Mean of empty slice.\n",
            "  line, = ax.plot(a.mean(), 0)\n",
            "/usr/local/lib/python3.6/dist-packages/numpy/core/_methods.py:161: RuntimeWarning: invalid value encountered in double_scalars\n",
            "  ret = ret.dtype.type(ret / rcount)\n"
          ],
          "name": "stderr"
        },
        {
          "output_type": "display_data",
          "data": {
            "image/png": "[encoded data removed]",
            "text/plain": [
              "<Figure size 432x288 with 1 Axes>"
            ]
          },
          "metadata": {
            "tags": [],
            "needs_background": "light"
          }
        }
      ]
    },
    {
      "cell_type": "markdown",
      "metadata": {
        "id": "5ZnZtmmOKmgj",
        "colab_type": "text"
      },
      "source": [
        "# Análise estatística dos dados"
      ]
    },
    {
      "cell_type": "markdown",
      "metadata": {
        "id": "wPxVXMi0cY9G",
        "colab_type": "text"
      },
      "source": [
        "* Visualizando as médias de cada pontuação das qualidades dos vinhos"
      ]
    },
    {
      "cell_type": "code",
      "metadata": {
        "id": "pqtp-DmhKmAn",
        "colab_type": "code",
        "colab": {
          "base_uri": "https://localhost:8080/",
          "height": 221
        },
        "outputId": "7b58508b-492d-4c7c-8565-6f788d6e6858"
      },
      "source": [
        "qualidade_3.mean()"
      ],
      "execution_count": 486,
      "outputs": [
        {
          "output_type": "execute_result",
          "data": {
            "text/plain": [
              "fixed_acidity            8.360000\n",
              "volatile_acidity         0.884500\n",
              "citric_acid              0.171000\n",
              "residual_sugar           2.635000\n",
              "chlorides                0.122500\n",
              "free_sulfur_dioxide     11.000000\n",
              "total_sulfur_dioxide    24.900000\n",
              "density                  0.997464\n",
              "pH                       3.398000\n",
              "sulphates                0.570000\n",
              "alcohol                  9.955000\n",
              "dtype: float64"
            ]
          },
          "metadata": {
            "tags": []
          },
          "execution_count": 486
        }
      ]
    },
    {
      "cell_type": "code",
      "metadata": {
        "id": "JtSaZ7ef4jNP",
        "colab_type": "code",
        "colab": {
          "base_uri": "https://localhost:8080/",
          "height": 221
        },
        "outputId": "875cde30-3a3a-43eb-ddea-91d049460be0"
      },
      "source": [
        "qualidade_4.mean()"
      ],
      "execution_count": 487,
      "outputs": [
        {
          "output_type": "execute_result",
          "data": {
            "text/plain": [
              "fixed_acidity            7.779245\n",
              "volatile_acidity         0.693962\n",
              "citric_acid              0.174151\n",
              "residual_sugar           2.694340\n",
              "chlorides                0.090679\n",
              "free_sulfur_dioxide     12.264151\n",
              "total_sulfur_dioxide    36.245283\n",
              "density                  0.996542\n",
              "pH                       3.381509\n",
              "sulphates                0.596415\n",
              "alcohol                 10.265094\n",
              "dtype: float64"
            ]
          },
          "metadata": {
            "tags": []
          },
          "execution_count": 487
        }
      ]
    },
    {
      "cell_type": "code",
      "metadata": {
        "id": "Sw_25Nfq4kLu",
        "colab_type": "code",
        "colab": {
          "base_uri": "https://localhost:8080/",
          "height": 221
        },
        "outputId": "30809e0e-bcfd-48c4-e95c-1cbc1f21f75c"
      },
      "source": [
        "qualidade_5.mean()"
      ],
      "execution_count": 488,
      "outputs": [
        {
          "output_type": "execute_result",
          "data": {
            "text/plain": [
              "fixed_acidity            8.167254\n",
              "volatile_acidity         0.577041\n",
              "citric_acid              0.243686\n",
              "residual_sugar           2.528855\n",
              "chlorides                0.092736\n",
              "free_sulfur_dioxide     16.983847\n",
              "total_sulfur_dioxide    56.513950\n",
              "density                  0.997104\n",
              "pH                       3.304949\n",
              "sulphates                0.620969\n",
              "alcohol                  9.899706\n",
              "dtype: float64"
            ]
          },
          "metadata": {
            "tags": []
          },
          "execution_count": 488
        }
      ]
    },
    {
      "cell_type": "code",
      "metadata": {
        "id": "Mdvh_0784j5Q",
        "colab_type": "code",
        "colab": {
          "base_uri": "https://localhost:8080/",
          "height": 221
        },
        "outputId": "0011e411-5360-4a1a-fef5-3863aabcfb27"
      },
      "source": [
        "qualidade_6.mean()"
      ],
      "execution_count": 489,
      "outputs": [
        {
          "output_type": "execute_result",
          "data": {
            "text/plain": [
              "fixed_acidity            8.347179\n",
              "volatile_acidity         0.497484\n",
              "citric_acid              0.273824\n",
              "residual_sugar           2.477194\n",
              "chlorides                0.084956\n",
              "free_sulfur_dioxide     15.711599\n",
              "total_sulfur_dioxide    40.869906\n",
              "density                  0.996615\n",
              "pH                       3.318072\n",
              "sulphates                0.675329\n",
              "alcohol                 10.629519\n",
              "dtype: float64"
            ]
          },
          "metadata": {
            "tags": []
          },
          "execution_count": 489
        }
      ]
    },
    {
      "cell_type": "code",
      "metadata": {
        "id": "STRnHUg64iyT",
        "colab_type": "code",
        "colab": {
          "base_uri": "https://localhost:8080/",
          "height": 221
        },
        "outputId": "2b29abab-8293-4767-90f2-17e2a6c38ace"
      },
      "source": [
        "qualidade_7.mean()"
      ],
      "execution_count": 490,
      "outputs": [
        {
          "output_type": "execute_result",
          "data": {
            "text/plain": [
              "fixed_acidity            8.872362\n",
              "volatile_acidity         0.403920\n",
              "citric_acid              0.375176\n",
              "residual_sugar           2.720603\n",
              "chlorides                0.076588\n",
              "free_sulfur_dioxide     14.045226\n",
              "total_sulfur_dioxide    35.020101\n",
              "density                  0.996104\n",
              "pH                       3.290754\n",
              "sulphates                0.741256\n",
              "alcohol                 11.465913\n",
              "dtype: float64"
            ]
          },
          "metadata": {
            "tags": []
          },
          "execution_count": 490
        }
      ]
    },
    {
      "cell_type": "code",
      "metadata": {
        "id": "SvTjq6o24ib5",
        "colab_type": "code",
        "colab": {
          "base_uri": "https://localhost:8080/",
          "height": 221
        },
        "outputId": "6130c769-849f-44ab-d38e-6718d3fdb2e6"
      },
      "source": [
        "qualidade_8.mean()"
      ],
      "execution_count": 491,
      "outputs": [
        {
          "output_type": "execute_result",
          "data": {
            "text/plain": [
              "fixed_acidity            8.566667\n",
              "volatile_acidity         0.423333\n",
              "citric_acid              0.391111\n",
              "residual_sugar           2.577778\n",
              "chlorides                0.068444\n",
              "free_sulfur_dioxide     13.277778\n",
              "total_sulfur_dioxide    33.444444\n",
              "density                  0.995212\n",
              "pH                       3.267222\n",
              "sulphates                0.767778\n",
              "alcohol                 12.094444\n",
              "dtype: float64"
            ]
          },
          "metadata": {
            "tags": []
          },
          "execution_count": 491
        }
      ]
    },
    {
      "cell_type": "markdown",
      "metadata": {
        "id": "sXb7Rrg3dkVN",
        "colab_type": "text"
      },
      "source": [
        "* **Vamos verificar a correlação existente entre nossos atributos.**\n",
        "\n",
        "* **A correlação serve para medir a relação entre variaveis, em nosso caso, nós ajudará a verificar quais atributos possuem maior relação entre si.**"
      ]
    },
    {
      "cell_type": "code",
      "metadata": {
        "id": "See2dg3WT_CL",
        "colab_type": "code",
        "colab": {
          "base_uri": "https://localhost:8080/",
          "height": 441
        },
        "outputId": "065a6bf2-31e1-41d2-bf83-a33e8597f253"
      },
      "source": [
        "#verificando a correlação dos dados\n",
        "corr = dados.corr()\n",
        "corr"
      ],
      "execution_count": 492,
      "outputs": [
        {
          "output_type": "execute_result",
          "data": {
            "text/html": [
              "<div>\n",
              "<style scoped>\n",
              "    .dataframe tbody tr th:only-of-type {\n",
              "        vertical-align: middle;\n",
              "    }\n",
              "\n",
              "    .dataframe tbody tr th {\n",
              "        vertical-align: top;\n",
              "    }\n",
              "\n",
              "    .dataframe thead th {\n",
              "        text-align: right;\n",
              "    }\n",
              "</style>\n",
              "<table border=\"1\" class=\"dataframe\">\n",
              "  <thead>\n",
              "    <tr style=\"text-align: right;\">\n",
              "      <th></th>\n",
              "      <th>fixed_acidity</th>\n",
              "      <th>volatile_acidity</th>\n",
              "      <th>citric_acid</th>\n",
              "      <th>residual_sugar</th>\n",
              "      <th>chlorides</th>\n",
              "      <th>free_sulfur_dioxide</th>\n",
              "      <th>total_sulfur_dioxide</th>\n",
              "      <th>density</th>\n",
              "      <th>pH</th>\n",
              "      <th>sulphates</th>\n",
              "      <th>alcohol</th>\n",
              "      <th>quality</th>\n",
              "    </tr>\n",
              "  </thead>\n",
              "  <tbody>\n",
              "    <tr>\n",
              "      <th>fixed_acidity</th>\n",
              "      <td>1.000000</td>\n",
              "      <td>-0.256131</td>\n",
              "      <td>0.671703</td>\n",
              "      <td>0.114777</td>\n",
              "      <td>0.093705</td>\n",
              "      <td>-0.153794</td>\n",
              "      <td>-0.113181</td>\n",
              "      <td>0.668047</td>\n",
              "      <td>-0.682978</td>\n",
              "      <td>0.183006</td>\n",
              "      <td>-0.061668</td>\n",
              "      <td>0.124052</td>\n",
              "    </tr>\n",
              "    <tr>\n",
              "      <th>volatile_acidity</th>\n",
              "      <td>-0.256131</td>\n",
              "      <td>1.000000</td>\n",
              "      <td>-0.552496</td>\n",
              "      <td>0.001918</td>\n",
              "      <td>0.061298</td>\n",
              "      <td>-0.010504</td>\n",
              "      <td>0.076470</td>\n",
              "      <td>0.022026</td>\n",
              "      <td>0.234937</td>\n",
              "      <td>-0.260987</td>\n",
              "      <td>-0.202288</td>\n",
              "      <td>-0.390558</td>\n",
              "    </tr>\n",
              "    <tr>\n",
              "      <th>citric_acid</th>\n",
              "      <td>0.671703</td>\n",
              "      <td>-0.552496</td>\n",
              "      <td>1.000000</td>\n",
              "      <td>0.143577</td>\n",
              "      <td>0.203823</td>\n",
              "      <td>-0.060978</td>\n",
              "      <td>0.035533</td>\n",
              "      <td>0.364947</td>\n",
              "      <td>-0.541904</td>\n",
              "      <td>0.312770</td>\n",
              "      <td>0.109903</td>\n",
              "      <td>0.226373</td>\n",
              "    </tr>\n",
              "    <tr>\n",
              "      <th>residual_sugar</th>\n",
              "      <td>0.114777</td>\n",
              "      <td>0.001918</td>\n",
              "      <td>0.143577</td>\n",
              "      <td>1.000000</td>\n",
              "      <td>0.055610</td>\n",
              "      <td>0.187049</td>\n",
              "      <td>0.203028</td>\n",
              "      <td>0.355283</td>\n",
              "      <td>-0.085652</td>\n",
              "      <td>0.005527</td>\n",
              "      <td>0.042075</td>\n",
              "      <td>0.013732</td>\n",
              "    </tr>\n",
              "    <tr>\n",
              "      <th>chlorides</th>\n",
              "      <td>0.093705</td>\n",
              "      <td>0.061298</td>\n",
              "      <td>0.203823</td>\n",
              "      <td>0.055610</td>\n",
              "      <td>1.000000</td>\n",
              "      <td>0.005562</td>\n",
              "      <td>0.047400</td>\n",
              "      <td>0.200632</td>\n",
              "      <td>-0.265026</td>\n",
              "      <td>0.371260</td>\n",
              "      <td>-0.221141</td>\n",
              "      <td>-0.128907</td>\n",
              "    </tr>\n",
              "    <tr>\n",
              "      <th>free_sulfur_dioxide</th>\n",
              "      <td>-0.153794</td>\n",
              "      <td>-0.010504</td>\n",
              "      <td>-0.060978</td>\n",
              "      <td>0.187049</td>\n",
              "      <td>0.005562</td>\n",
              "      <td>1.000000</td>\n",
              "      <td>0.667666</td>\n",
              "      <td>-0.021946</td>\n",
              "      <td>0.070377</td>\n",
              "      <td>0.051658</td>\n",
              "      <td>-0.069408</td>\n",
              "      <td>-0.050656</td>\n",
              "    </tr>\n",
              "    <tr>\n",
              "      <th>total_sulfur_dioxide</th>\n",
              "      <td>-0.113181</td>\n",
              "      <td>0.076470</td>\n",
              "      <td>0.035533</td>\n",
              "      <td>0.203028</td>\n",
              "      <td>0.047400</td>\n",
              "      <td>0.667666</td>\n",
              "      <td>1.000000</td>\n",
              "      <td>0.071269</td>\n",
              "      <td>-0.066495</td>\n",
              "      <td>0.042947</td>\n",
              "      <td>-0.205654</td>\n",
              "      <td>-0.185100</td>\n",
              "    </tr>\n",
              "    <tr>\n",
              "      <th>density</th>\n",
              "      <td>0.668047</td>\n",
              "      <td>0.022026</td>\n",
              "      <td>0.364947</td>\n",
              "      <td>0.355283</td>\n",
              "      <td>0.200632</td>\n",
              "      <td>-0.021946</td>\n",
              "      <td>0.071269</td>\n",
              "      <td>1.000000</td>\n",
              "      <td>-0.341699</td>\n",
              "      <td>0.148506</td>\n",
              "      <td>-0.496180</td>\n",
              "      <td>-0.174919</td>\n",
              "    </tr>\n",
              "    <tr>\n",
              "      <th>pH</th>\n",
              "      <td>-0.682978</td>\n",
              "      <td>0.234937</td>\n",
              "      <td>-0.541904</td>\n",
              "      <td>-0.085652</td>\n",
              "      <td>-0.265026</td>\n",
              "      <td>0.070377</td>\n",
              "      <td>-0.066495</td>\n",
              "      <td>-0.341699</td>\n",
              "      <td>1.000000</td>\n",
              "      <td>-0.196648</td>\n",
              "      <td>0.205633</td>\n",
              "      <td>-0.057731</td>\n",
              "    </tr>\n",
              "    <tr>\n",
              "      <th>sulphates</th>\n",
              "      <td>0.183006</td>\n",
              "      <td>-0.260987</td>\n",
              "      <td>0.312770</td>\n",
              "      <td>0.005527</td>\n",
              "      <td>0.371260</td>\n",
              "      <td>0.051658</td>\n",
              "      <td>0.042947</td>\n",
              "      <td>0.148506</td>\n",
              "      <td>-0.196648</td>\n",
              "      <td>1.000000</td>\n",
              "      <td>0.093595</td>\n",
              "      <td>0.251397</td>\n",
              "    </tr>\n",
              "    <tr>\n",
              "      <th>alcohol</th>\n",
              "      <td>-0.061668</td>\n",
              "      <td>-0.202288</td>\n",
              "      <td>0.109903</td>\n",
              "      <td>0.042075</td>\n",
              "      <td>-0.221141</td>\n",
              "      <td>-0.069408</td>\n",
              "      <td>-0.205654</td>\n",
              "      <td>-0.496180</td>\n",
              "      <td>0.205633</td>\n",
              "      <td>0.093595</td>\n",
              "      <td>1.000000</td>\n",
              "      <td>0.476166</td>\n",
              "    </tr>\n",
              "    <tr>\n",
              "      <th>quality</th>\n",
              "      <td>0.124052</td>\n",
              "      <td>-0.390558</td>\n",
              "      <td>0.226373</td>\n",
              "      <td>0.013732</td>\n",
              "      <td>-0.128907</td>\n",
              "      <td>-0.050656</td>\n",
              "      <td>-0.185100</td>\n",
              "      <td>-0.174919</td>\n",
              "      <td>-0.057731</td>\n",
              "      <td>0.251397</td>\n",
              "      <td>0.476166</td>\n",
              "      <td>1.000000</td>\n",
              "    </tr>\n",
              "  </tbody>\n",
              "</table>\n",
              "</div>"
            ],
            "text/plain": [
              "                      fixed_acidity  volatile_acidity  ...   alcohol   quality\n",
              "fixed_acidity              1.000000         -0.256131  ... -0.061668  0.124052\n",
              "volatile_acidity          -0.256131          1.000000  ... -0.202288 -0.390558\n",
              "citric_acid                0.671703         -0.552496  ...  0.109903  0.226373\n",
              "residual_sugar             0.114777          0.001918  ...  0.042075  0.013732\n",
              "chlorides                  0.093705          0.061298  ... -0.221141 -0.128907\n",
              "free_sulfur_dioxide       -0.153794         -0.010504  ... -0.069408 -0.050656\n",
              "total_sulfur_dioxide      -0.113181          0.076470  ... -0.205654 -0.185100\n",
              "density                    0.668047          0.022026  ... -0.496180 -0.174919\n",
              "pH                        -0.682978          0.234937  ...  0.205633 -0.057731\n",
              "sulphates                  0.183006         -0.260987  ...  0.093595  0.251397\n",
              "alcohol                   -0.061668         -0.202288  ...  1.000000  0.476166\n",
              "quality                    0.124052         -0.390558  ...  0.476166  1.000000\n",
              "\n",
              "[12 rows x 12 columns]"
            ]
          },
          "metadata": {
            "tags": []
          },
          "execution_count": 492
        }
      ]
    },
    {
      "cell_type": "markdown",
      "metadata": {
        "id": "w5pH3ojWyyUs",
        "colab_type": "text"
      },
      "source": [
        "* O heat map auxilia visualmente na identificação das relações existentes entre os atributos."
      ]
    },
    {
      "cell_type": "code",
      "metadata": {
        "id": "bFVQWOlzW-eY",
        "colab_type": "code",
        "colab": {
          "base_uri": "https://localhost:8080/",
          "height": 483
        },
        "outputId": "1e8de20e-9003-4886-9f52-a4c726c7d0d7"
      },
      "source": [
        "#Não possui muita correlação \n",
        "plt.figure(figsize=(8,6))\n",
        "sns.heatmap(corr,vmin=-1, vmax=1, center=0, annot=True, fmt='.2f', cmap=plt.cm.plasma)\n",
        "#sns.diverging_palette(20, 220, n=200)\n"
      ],
      "execution_count": 493,
      "outputs": [
        {
          "output_type": "execute_result",
          "data": {
            "text/plain": [
              "<matplotlib.axes._subplots.AxesSubplot at 0x7f3b67dd3eb8>"
            ]
          },
          "metadata": {
            "tags": []
          },
          "execution_count": 493
        },
        {
          "output_type": "display_data",
          "data": {
            "image/png": "[encoded data removed]",
            "text/plain": [
              "<Figure size 576x432 with 2 Axes>"
            ]
          },
          "metadata": {
            "tags": [],
            "needs_background": "light"
          }
        }
      ]
    },
    {
      "cell_type": "code",
      "metadata": {
        "id": "MpPYF1BcGGvJ",
        "colab_type": "code",
        "colab": {
          "base_uri": "https://localhost:8080/",
          "height": 351
        },
        "outputId": "c109c983-9086-461a-cda3-5c5ed2e882d4"
      },
      "source": [
        "plt.figure(figsize=(15,5))\n",
        "plt.subplot(1,3,1)\n",
        "plt.scatter(x=dados.pH[dados.quality>=7],y=dados.alcohol[dados.quality>=7],c='red')\n",
        "plt.scatter(x=dados.pH[dados.quality<7],y=dados.alcohol[dados.quality<7],c='green')\n",
        "plt.xlabel('PH')\n",
        "plt.ylabel('alcohol')\n",
        "plt.legend(['qualidade>=7','qualidade<7'])"
      ],
      "execution_count": 494,
      "outputs": [
        {
          "output_type": "execute_result",
          "data": {
            "text/plain": [
              "<matplotlib.legend.Legend at 0x7f3b66fd4a20>"
            ]
          },
          "metadata": {
            "tags": []
          },
          "execution_count": 494
        },
        {
          "output_type": "display_data",
          "data": {
            "image/png": "[encoded data removed]",
            "text/plain": [
              "<Figure size 1080x360 with 1 Axes>"
            ]
          },
          "metadata": {
            "tags": [],
            "needs_background": "light"
          }
        }
      ]
    },
    {
      "cell_type": "markdown",
      "metadata": {
        "id": "VQJanfIhzlmI",
        "colab_type": "text"
      },
      "source": [
        "# **Faremos uma binarização do nosso target alterando os valores da qualidade do vinho para bom(1) e ruim(0)**"
      ]
    },
    {
      "cell_type": "markdown",
      "metadata": {
        "id": "n2y6DXXvA1Ge",
        "colab_type": "text"
      },
      "source": [
        "* Fazendo classificação binária para a variável de resposta.\n",
        "* Nesse caso vamos dividir em dois intervalos, de 2 - 6.5 e de 6.5 - 8 (bins)"
      ]
    },
    {
      "cell_type": "code",
      "metadata": {
        "id": "PLkKdzS0fqHc",
        "colab_type": "code",
        "colab": {}
      },
      "source": [
        "#Dividindo o vinho em ruim(0) e bom(1) , dando o limite para a qualidade.\n",
        "bins = (2, 6.5, 8)\n",
        "bom_e_ruim = [0, 1]\n",
        "dados['quality'] = pd.cut(dados['quality'], bins = bins, labels = bom_e_ruim)"
      ],
      "execution_count": 495,
      "outputs": []
    },
    {
      "cell_type": "code",
      "metadata": {
        "id": "t04jzv4AdkBe",
        "colab_type": "code",
        "colab": {
          "base_uri": "https://localhost:8080/",
          "height": 224
        },
        "outputId": "812062d5-d0f1-4aad-fb4e-dfa7153cec4f"
      },
      "source": [
        "dados.head()"
      ],
      "execution_count": 496,
      "outputs": [
        {
          "output_type": "execute_result",
          "data": {
            "text/html": [
              "<div>\n",
              "<style scoped>\n",
              "    .dataframe tbody tr th:only-of-type {\n",
              "        vertical-align: middle;\n",
              "    }\n",
              "\n",
              "    .dataframe tbody tr th {\n",
              "        vertical-align: top;\n",
              "    }\n",
              "\n",
              "    .dataframe thead th {\n",
              "        text-align: right;\n",
              "    }\n",
              "</style>\n",
              "<table border=\"1\" class=\"dataframe\">\n",
              "  <thead>\n",
              "    <tr style=\"text-align: right;\">\n",
              "      <th></th>\n",
              "      <th>fixed_acidity</th>\n",
              "      <th>volatile_acidity</th>\n",
              "      <th>citric_acid</th>\n",
              "      <th>residual_sugar</th>\n",
              "      <th>chlorides</th>\n",
              "      <th>free_sulfur_dioxide</th>\n",
              "      <th>total_sulfur_dioxide</th>\n",
              "      <th>density</th>\n",
              "      <th>pH</th>\n",
              "      <th>sulphates</th>\n",
              "      <th>alcohol</th>\n",
              "      <th>quality</th>\n",
              "    </tr>\n",
              "  </thead>\n",
              "  <tbody>\n",
              "    <tr>\n",
              "      <th>0</th>\n",
              "      <td>7.4</td>\n",
              "      <td>0.70</td>\n",
              "      <td>0.00</td>\n",
              "      <td>1.9</td>\n",
              "      <td>0.076</td>\n",
              "      <td>11.0</td>\n",
              "      <td>34.0</td>\n",
              "      <td>0.9978</td>\n",
              "      <td>3.51</td>\n",
              "      <td>0.56</td>\n",
              "      <td>9.4</td>\n",
              "      <td>0</td>\n",
              "    </tr>\n",
              "    <tr>\n",
              "      <th>1</th>\n",
              "      <td>7.8</td>\n",
              "      <td>0.88</td>\n",
              "      <td>0.00</td>\n",
              "      <td>2.6</td>\n",
              "      <td>0.098</td>\n",
              "      <td>25.0</td>\n",
              "      <td>67.0</td>\n",
              "      <td>0.9968</td>\n",
              "      <td>3.20</td>\n",
              "      <td>0.68</td>\n",
              "      <td>9.8</td>\n",
              "      <td>0</td>\n",
              "    </tr>\n",
              "    <tr>\n",
              "      <th>2</th>\n",
              "      <td>7.8</td>\n",
              "      <td>0.76</td>\n",
              "      <td>0.04</td>\n",
              "      <td>2.3</td>\n",
              "      <td>0.092</td>\n",
              "      <td>15.0</td>\n",
              "      <td>54.0</td>\n",
              "      <td>0.9970</td>\n",
              "      <td>3.26</td>\n",
              "      <td>0.65</td>\n",
              "      <td>9.8</td>\n",
              "      <td>0</td>\n",
              "    </tr>\n",
              "    <tr>\n",
              "      <th>3</th>\n",
              "      <td>11.2</td>\n",
              "      <td>0.28</td>\n",
              "      <td>0.56</td>\n",
              "      <td>1.9</td>\n",
              "      <td>0.075</td>\n",
              "      <td>17.0</td>\n",
              "      <td>60.0</td>\n",
              "      <td>0.9980</td>\n",
              "      <td>3.16</td>\n",
              "      <td>0.58</td>\n",
              "      <td>9.8</td>\n",
              "      <td>0</td>\n",
              "    </tr>\n",
              "    <tr>\n",
              "      <th>4</th>\n",
              "      <td>7.4</td>\n",
              "      <td>0.70</td>\n",
              "      <td>0.00</td>\n",
              "      <td>1.9</td>\n",
              "      <td>0.076</td>\n",
              "      <td>11.0</td>\n",
              "      <td>34.0</td>\n",
              "      <td>0.9978</td>\n",
              "      <td>3.51</td>\n",
              "      <td>0.56</td>\n",
              "      <td>9.4</td>\n",
              "      <td>0</td>\n",
              "    </tr>\n",
              "  </tbody>\n",
              "</table>\n",
              "</div>"
            ],
            "text/plain": [
              "   fixed_acidity  volatile_acidity  citric_acid  ...  sulphates  alcohol  quality\n",
              "0            7.4              0.70         0.00  ...       0.56      9.4        0\n",
              "1            7.8              0.88         0.00  ...       0.68      9.8        0\n",
              "2            7.8              0.76         0.04  ...       0.65      9.8        0\n",
              "3           11.2              0.28         0.56  ...       0.58      9.8        0\n",
              "4            7.4              0.70         0.00  ...       0.56      9.4        0\n",
              "\n",
              "[5 rows x 12 columns]"
            ]
          },
          "metadata": {
            "tags": []
          },
          "execution_count": 496
        }
      ]
    },
    {
      "cell_type": "code",
      "metadata": {
        "id": "iTuvtwBaf55s",
        "colab_type": "code",
        "colab": {}
      },
      "source": [
        "#Agora vamos atribuir rótulos à nossa variável de qualidade\n",
        "#label_quality = LabelEncoder()\n",
        "#dados['quality'] = label_quality.fit_transform(dados['quality'])\n",
        "#dados['quality'].value_counts()\n",
        "#sns.countplot(dados['quality'])"
      ],
      "execution_count": 497,
      "outputs": []
    },
    {
      "cell_type": "markdown",
      "metadata": {
        "id": "3C8Eo2VqA5p0",
        "colab_type": "text"
      },
      "source": [
        "#5 Classificação\n",
        "* **Agora podemos dividir nossos dados em partes, uma para treino e outra para teste.**\n",
        "* A ideia aqui é dividir os dados uma parte como os atributos descritores e outra com os atributos de classe. \n",
        "\n",
        "* **Atribui todas as colunas, exceto a quality:**\n"
      ]
    },
    {
      "cell_type": "code",
      "metadata": {
        "id": "wTPtqlGPBAn7",
        "colab_type": "code",
        "colab": {
          "base_uri": "https://localhost:8080/",
          "height": 204
        },
        "outputId": "bc56d1c8-fe44-43c2-fbb0-f27d2f33a125"
      },
      "source": [
        "#Dividindo meus dados em atibutos descritores e atributos de classe \n",
        "X = dados.iloc[:,:-1]\n",
        "X.head()"
      ],
      "execution_count": 498,
      "outputs": [
        {
          "output_type": "execute_result",
          "data": {
            "text/html": [
              "<div>\n",
              "<style scoped>\n",
              "    .dataframe tbody tr th:only-of-type {\n",
              "        vertical-align: middle;\n",
              "    }\n",
              "\n",
              "    .dataframe tbody tr th {\n",
              "        vertical-align: top;\n",
              "    }\n",
              "\n",
              "    .dataframe thead th {\n",
              "        text-align: right;\n",
              "    }\n",
              "</style>\n",
              "<table border=\"1\" class=\"dataframe\">\n",
              "  <thead>\n",
              "    <tr style=\"text-align: right;\">\n",
              "      <th></th>\n",
              "      <th>fixed_acidity</th>\n",
              "      <th>volatile_acidity</th>\n",
              "      <th>citric_acid</th>\n",
              "      <th>residual_sugar</th>\n",
              "      <th>chlorides</th>\n",
              "      <th>free_sulfur_dioxide</th>\n",
              "      <th>total_sulfur_dioxide</th>\n",
              "      <th>density</th>\n",
              "      <th>pH</th>\n",
              "      <th>sulphates</th>\n",
              "      <th>alcohol</th>\n",
              "    </tr>\n",
              "  </thead>\n",
              "  <tbody>\n",
              "    <tr>\n",
              "      <th>0</th>\n",
              "      <td>7.4</td>\n",
              "      <td>0.70</td>\n",
              "      <td>0.00</td>\n",
              "      <td>1.9</td>\n",
              "      <td>0.076</td>\n",
              "      <td>11.0</td>\n",
              "      <td>34.0</td>\n",
              "      <td>0.9978</td>\n",
              "      <td>3.51</td>\n",
              "      <td>0.56</td>\n",
              "      <td>9.4</td>\n",
              "    </tr>\n",
              "    <tr>\n",
              "      <th>1</th>\n",
              "      <td>7.8</td>\n",
              "      <td>0.88</td>\n",
              "      <td>0.00</td>\n",
              "      <td>2.6</td>\n",
              "      <td>0.098</td>\n",
              "      <td>25.0</td>\n",
              "      <td>67.0</td>\n",
              "      <td>0.9968</td>\n",
              "      <td>3.20</td>\n",
              "      <td>0.68</td>\n",
              "      <td>9.8</td>\n",
              "    </tr>\n",
              "    <tr>\n",
              "      <th>2</th>\n",
              "      <td>7.8</td>\n",
              "      <td>0.76</td>\n",
              "      <td>0.04</td>\n",
              "      <td>2.3</td>\n",
              "      <td>0.092</td>\n",
              "      <td>15.0</td>\n",
              "      <td>54.0</td>\n",
              "      <td>0.9970</td>\n",
              "      <td>3.26</td>\n",
              "      <td>0.65</td>\n",
              "      <td>9.8</td>\n",
              "    </tr>\n",
              "    <tr>\n",
              "      <th>3</th>\n",
              "      <td>11.2</td>\n",
              "      <td>0.28</td>\n",
              "      <td>0.56</td>\n",
              "      <td>1.9</td>\n",
              "      <td>0.075</td>\n",
              "      <td>17.0</td>\n",
              "      <td>60.0</td>\n",
              "      <td>0.9980</td>\n",
              "      <td>3.16</td>\n",
              "      <td>0.58</td>\n",
              "      <td>9.8</td>\n",
              "    </tr>\n",
              "    <tr>\n",
              "      <th>4</th>\n",
              "      <td>7.4</td>\n",
              "      <td>0.70</td>\n",
              "      <td>0.00</td>\n",
              "      <td>1.9</td>\n",
              "      <td>0.076</td>\n",
              "      <td>11.0</td>\n",
              "      <td>34.0</td>\n",
              "      <td>0.9978</td>\n",
              "      <td>3.51</td>\n",
              "      <td>0.56</td>\n",
              "      <td>9.4</td>\n",
              "    </tr>\n",
              "  </tbody>\n",
              "</table>\n",
              "</div>"
            ],
            "text/plain": [
              "   fixed_acidity  volatile_acidity  citric_acid  ...    pH  sulphates  alcohol\n",
              "0            7.4              0.70         0.00  ...  3.51       0.56      9.4\n",
              "1            7.8              0.88         0.00  ...  3.20       0.68      9.8\n",
              "2            7.8              0.76         0.04  ...  3.26       0.65      9.8\n",
              "3           11.2              0.28         0.56  ...  3.16       0.58      9.8\n",
              "4            7.4              0.70         0.00  ...  3.51       0.56      9.4\n",
              "\n",
              "[5 rows x 11 columns]"
            ]
          },
          "metadata": {
            "tags": []
          },
          "execution_count": 498
        }
      ]
    },
    {
      "cell_type": "markdown",
      "metadata": {
        "id": "e38ZowKCeCs2",
        "colab_type": "text"
      },
      "source": [
        " * **Fazendo a re-escala dos dados**"
      ]
    },
    {
      "cell_type": "markdown",
      "metadata": {
        "id": "zT3KuMwTTuwu",
        "colab_type": "text"
      },
      "source": [
        "* Poderiamos utilizar outras formas de reescalar nossos dados, até mesmo uma função pronta para o minimo e o maximo. Algumas reescalas:\n",
        "* **MinMaxScaler:** É feito sobre a coluna, e seu resultado fica com valores de 0s e 1s. \n",
        " * Formula: valor = ( valor — Coluna.min) / (Coluna.max — Coluna.min)\n",
        "\n",
        " * importe: from sklearn.preprocessing import MinMaxScaler\n",
        "* **Normalze:** Age fazendo a reescala dos dados por linhas, diferente do MinMax que faz as reescalas por colunas. \n",
        "\n",
        " * importe: from sklearn.preprocessing import Normalizer\n",
        "* **StandardScaler:**Assim como o MinMax, também age sobre a coluna, a diferença está nos valores que utiliza para fazer a reescala.\n",
        "\n",
        "  * formula: valor = (valor — média) / desvioPadão\n",
        "\n",
        "  * importe: from sklearn.preprocessing import StandardScaler\n"
      ]
    },
    {
      "cell_type": "code",
      "metadata": {
        "id": "MhEBK0mNeSMk",
        "colab_type": "code",
        "colab": {
          "base_uri": "https://localhost:8080/",
          "height": 419
        },
        "outputId": "25af86ca-d3ae-4d37-94eb-ee13b520cf81"
      },
      "source": [
        "X = (X - X.min())/(X.max() - X.min())\n",
        "X"
      ],
      "execution_count": 499,
      "outputs": [
        {
          "output_type": "execute_result",
          "data": {
            "text/html": [
              "<div>\n",
              "<style scoped>\n",
              "    .dataframe tbody tr th:only-of-type {\n",
              "        vertical-align: middle;\n",
              "    }\n",
              "\n",
              "    .dataframe tbody tr th {\n",
              "        vertical-align: top;\n",
              "    }\n",
              "\n",
              "    .dataframe thead th {\n",
              "        text-align: right;\n",
              "    }\n",
              "</style>\n",
              "<table border=\"1\" class=\"dataframe\">\n",
              "  <thead>\n",
              "    <tr style=\"text-align: right;\">\n",
              "      <th></th>\n",
              "      <th>fixed_acidity</th>\n",
              "      <th>volatile_acidity</th>\n",
              "      <th>citric_acid</th>\n",
              "      <th>residual_sugar</th>\n",
              "      <th>chlorides</th>\n",
              "      <th>free_sulfur_dioxide</th>\n",
              "      <th>total_sulfur_dioxide</th>\n",
              "      <th>density</th>\n",
              "      <th>pH</th>\n",
              "      <th>sulphates</th>\n",
              "      <th>alcohol</th>\n",
              "    </tr>\n",
              "  </thead>\n",
              "  <tbody>\n",
              "    <tr>\n",
              "      <th>0</th>\n",
              "      <td>0.247788</td>\n",
              "      <td>0.397260</td>\n",
              "      <td>0.00</td>\n",
              "      <td>0.068493</td>\n",
              "      <td>0.106845</td>\n",
              "      <td>0.140845</td>\n",
              "      <td>0.098940</td>\n",
              "      <td>0.567548</td>\n",
              "      <td>0.606299</td>\n",
              "      <td>0.137725</td>\n",
              "      <td>0.153846</td>\n",
              "    </tr>\n",
              "    <tr>\n",
              "      <th>1</th>\n",
              "      <td>0.283186</td>\n",
              "      <td>0.520548</td>\n",
              "      <td>0.00</td>\n",
              "      <td>0.116438</td>\n",
              "      <td>0.143573</td>\n",
              "      <td>0.338028</td>\n",
              "      <td>0.215548</td>\n",
              "      <td>0.494126</td>\n",
              "      <td>0.362205</td>\n",
              "      <td>0.209581</td>\n",
              "      <td>0.215385</td>\n",
              "    </tr>\n",
              "    <tr>\n",
              "      <th>2</th>\n",
              "      <td>0.283186</td>\n",
              "      <td>0.438356</td>\n",
              "      <td>0.04</td>\n",
              "      <td>0.095890</td>\n",
              "      <td>0.133556</td>\n",
              "      <td>0.197183</td>\n",
              "      <td>0.169611</td>\n",
              "      <td>0.508811</td>\n",
              "      <td>0.409449</td>\n",
              "      <td>0.191617</td>\n",
              "      <td>0.215385</td>\n",
              "    </tr>\n",
              "    <tr>\n",
              "      <th>3</th>\n",
              "      <td>0.584071</td>\n",
              "      <td>0.109589</td>\n",
              "      <td>0.56</td>\n",
              "      <td>0.068493</td>\n",
              "      <td>0.105175</td>\n",
              "      <td>0.225352</td>\n",
              "      <td>0.190813</td>\n",
              "      <td>0.582232</td>\n",
              "      <td>0.330709</td>\n",
              "      <td>0.149701</td>\n",
              "      <td>0.215385</td>\n",
              "    </tr>\n",
              "    <tr>\n",
              "      <th>4</th>\n",
              "      <td>0.247788</td>\n",
              "      <td>0.397260</td>\n",
              "      <td>0.00</td>\n",
              "      <td>0.068493</td>\n",
              "      <td>0.106845</td>\n",
              "      <td>0.140845</td>\n",
              "      <td>0.098940</td>\n",
              "      <td>0.567548</td>\n",
              "      <td>0.606299</td>\n",
              "      <td>0.137725</td>\n",
              "      <td>0.153846</td>\n",
              "    </tr>\n",
              "    <tr>\n",
              "      <th>...</th>\n",
              "      <td>...</td>\n",
              "      <td>...</td>\n",
              "      <td>...</td>\n",
              "      <td>...</td>\n",
              "      <td>...</td>\n",
              "      <td>...</td>\n",
              "      <td>...</td>\n",
              "      <td>...</td>\n",
              "      <td>...</td>\n",
              "      <td>...</td>\n",
              "      <td>...</td>\n",
              "    </tr>\n",
              "    <tr>\n",
              "      <th>1594</th>\n",
              "      <td>0.141593</td>\n",
              "      <td>0.328767</td>\n",
              "      <td>0.08</td>\n",
              "      <td>0.075342</td>\n",
              "      <td>0.130217</td>\n",
              "      <td>0.436620</td>\n",
              "      <td>0.134276</td>\n",
              "      <td>0.354626</td>\n",
              "      <td>0.559055</td>\n",
              "      <td>0.149701</td>\n",
              "      <td>0.323077</td>\n",
              "    </tr>\n",
              "    <tr>\n",
              "      <th>1595</th>\n",
              "      <td>0.115044</td>\n",
              "      <td>0.294521</td>\n",
              "      <td>0.10</td>\n",
              "      <td>0.089041</td>\n",
              "      <td>0.083472</td>\n",
              "      <td>0.535211</td>\n",
              "      <td>0.159011</td>\n",
              "      <td>0.370778</td>\n",
              "      <td>0.614173</td>\n",
              "      <td>0.257485</td>\n",
              "      <td>0.430769</td>\n",
              "    </tr>\n",
              "    <tr>\n",
              "      <th>1596</th>\n",
              "      <td>0.150442</td>\n",
              "      <td>0.267123</td>\n",
              "      <td>0.13</td>\n",
              "      <td>0.095890</td>\n",
              "      <td>0.106845</td>\n",
              "      <td>0.394366</td>\n",
              "      <td>0.120141</td>\n",
              "      <td>0.416300</td>\n",
              "      <td>0.535433</td>\n",
              "      <td>0.251497</td>\n",
              "      <td>0.400000</td>\n",
              "    </tr>\n",
              "    <tr>\n",
              "      <th>1597</th>\n",
              "      <td>0.115044</td>\n",
              "      <td>0.359589</td>\n",
              "      <td>0.12</td>\n",
              "      <td>0.075342</td>\n",
              "      <td>0.105175</td>\n",
              "      <td>0.436620</td>\n",
              "      <td>0.134276</td>\n",
              "      <td>0.396476</td>\n",
              "      <td>0.653543</td>\n",
              "      <td>0.227545</td>\n",
              "      <td>0.276923</td>\n",
              "    </tr>\n",
              "    <tr>\n",
              "      <th>1598</th>\n",
              "      <td>0.123894</td>\n",
              "      <td>0.130137</td>\n",
              "      <td>0.47</td>\n",
              "      <td>0.184932</td>\n",
              "      <td>0.091820</td>\n",
              "      <td>0.239437</td>\n",
              "      <td>0.127208</td>\n",
              "      <td>0.397944</td>\n",
              "      <td>0.511811</td>\n",
              "      <td>0.197605</td>\n",
              "      <td>0.400000</td>\n",
              "    </tr>\n",
              "  </tbody>\n",
              "</table>\n",
              "<p>1599 rows × 11 columns</p>\n",
              "</div>"
            ],
            "text/plain": [
              "      fixed_acidity  volatile_acidity  ...  sulphates   alcohol\n",
              "0          0.247788          0.397260  ...   0.137725  0.153846\n",
              "1          0.283186          0.520548  ...   0.209581  0.215385\n",
              "2          0.283186          0.438356  ...   0.191617  0.215385\n",
              "3          0.584071          0.109589  ...   0.149701  0.215385\n",
              "4          0.247788          0.397260  ...   0.137725  0.153846\n",
              "...             ...               ...  ...        ...       ...\n",
              "1594       0.141593          0.328767  ...   0.149701  0.323077\n",
              "1595       0.115044          0.294521  ...   0.257485  0.430769\n",
              "1596       0.150442          0.267123  ...   0.251497  0.400000\n",
              "1597       0.115044          0.359589  ...   0.227545  0.276923\n",
              "1598       0.123894          0.130137  ...   0.197605  0.400000\n",
              "\n",
              "[1599 rows x 11 columns]"
            ]
          },
          "metadata": {
            "tags": []
          },
          "execution_count": 499
        }
      ]
    },
    {
      "cell_type": "markdown",
      "metadata": {
        "id": "viLqaVQ41Xkd",
        "colab_type": "text"
      },
      "source": [
        "* **Segunda parte dos dados:**"
      ]
    },
    {
      "cell_type": "code",
      "metadata": {
        "id": "i6c-htxUhP3Z",
        "colab_type": "code",
        "colab": {
          "base_uri": "https://localhost:8080/",
          "height": 136
        },
        "outputId": "81398af0-34d9-4762-9a5e-f97dd2c1a457"
      },
      "source": [
        "#dividindo os dados\n",
        "y = dados.quality\n",
        "y.head()"
      ],
      "execution_count": 500,
      "outputs": [
        {
          "output_type": "execute_result",
          "data": {
            "text/plain": [
              "0    0\n",
              "1    0\n",
              "2    0\n",
              "3    0\n",
              "4    0\n",
              "Name: quality, dtype: category\n",
              "Categories (2, int64): [0 < 1]"
            ]
          },
          "metadata": {
            "tags": []
          },
          "execution_count": 500
        }
      ]
    },
    {
      "cell_type": "markdown",
      "metadata": {
        "id": "1ZSAng_ypX_H",
        "colab_type": "text"
      },
      "source": [
        "* **Divdindo os dados em teste e treino:**\n"
      ]
    },
    {
      "cell_type": "code",
      "metadata": {
        "id": "RL6U8qJVpWzj",
        "colab_type": "code",
        "colab": {}
      },
      "source": [
        "X_train, X_test, y_train, y_test = train_test_split(X,y, test_size=0.2) "
      ],
      "execution_count": 501,
      "outputs": []
    },
    {
      "cell_type": "markdown",
      "metadata": {
        "id": "0nWB-75NUkv6",
        "colab_type": "text"
      },
      "source": [
        "#6 Definindo o algoritmo de aprendizado: Rede Neural Artificial\n",
        "\n"
      ]
    },
    {
      "cell_type": "markdown",
      "metadata": {
        "id": "YM0AsWWHVbmR",
        "colab_type": "text"
      },
      "source": [
        "* **Os importes das bibliotecas estão sendo feitas todas em um unico lugar no top desse notebook (gosto das coisas organizadas)**"
      ]
    },
    {
      "cell_type": "markdown",
      "metadata": {
        "id": "1_rY_r7RYCa1",
        "colab_type": "text"
      },
      "source": [
        "* Utilizando a Rede Neural Multi-Layer Perceptron (MLP):"
      ]
    },
    {
      "cell_type": "code",
      "metadata": {
        "id": "M5WI9-lnUtM0",
        "colab_type": "code",
        "colab": {
          "base_uri": "https://localhost:8080/",
          "height": 34
        },
        "outputId": "37eef3a6-10da-44bb-c69e-668e7780cc61"
      },
      "source": [
        "#Definindo o modelo\n",
        "classificador = MLPClassifier(hidden_layer_sizes=(100),activation='logistic', max_iter=1000)\n",
        "type(classificador)"
      ],
      "execution_count": 502,
      "outputs": [
        {
          "output_type": "execute_result",
          "data": {
            "text/plain": [
              "sklearn.neural_network._multilayer_perceptron.MLPClassifier"
            ]
          },
          "metadata": {
            "tags": []
          },
          "execution_count": 502
        }
      ]
    },
    {
      "cell_type": "code",
      "metadata": {
        "id": "fFGm2xGgVxTC",
        "colab_type": "code",
        "colab": {
          "base_uri": "https://localhost:8080/",
          "height": 153
        },
        "outputId": "9cce7574-85f2-4378-ad49-22b2b7048055"
      },
      "source": [
        "#Treiando o modelo\n",
        "classificador.fit(X_train, y_train)\n"
      ],
      "execution_count": 503,
      "outputs": [
        {
          "output_type": "execute_result",
          "data": {
            "text/plain": [
              "MLPClassifier(activation='logistic', alpha=0.0001, batch_size='auto',\n",
              "              beta_1=0.9, beta_2=0.999, early_stopping=False, epsilon=1e-08,\n",
              "              hidden_layer_sizes=100, learning_rate='constant',\n",
              "              learning_rate_init=0.001, max_fun=15000, max_iter=1000,\n",
              "              momentum=0.9, n_iter_no_change=10, nesterovs_momentum=True,\n",
              "              power_t=0.5, random_state=None, shuffle=True, solver='adam',\n",
              "              tol=0.0001, validation_fraction=0.1, verbose=False,\n",
              "              warm_start=False)"
            ]
          },
          "metadata": {
            "tags": []
          },
          "execution_count": 503
        }
      ]
    },
    {
      "cell_type": "markdown",
      "metadata": {
        "id": "0Tnb3ZfL2HvT",
        "colab_type": "text"
      },
      "source": [
        "* Usamos a função predict para obter as estimativas do nosso modelo:"
      ]
    },
    {
      "cell_type": "code",
      "metadata": {
        "id": "OKnrFTQ-EFN_",
        "colab_type": "code",
        "colab": {
          "base_uri": "https://localhost:8080/",
          "height": 272
        },
        "outputId": "0756d5e5-9157-4132-acdf-7510cf06c695"
      },
      "source": [
        "#Realizando a classificação \n",
        "classificacao = classificador.predict(X_test)\n",
        "classificacao"
      ],
      "execution_count": 504,
      "outputs": [
        {
          "output_type": "execute_result",
          "data": {
            "text/plain": [
              "array([0, 0, 0, 0, 0, 0, 0, 0, 0, 0, 0, 0, 0, 0, 1, 0, 0, 0, 0, 0, 0, 0,\n",
              "       0, 0, 0, 0, 0, 0, 0, 0, 0, 0, 0, 0, 0, 0, 0, 0, 0, 0, 0, 0, 0, 0,\n",
              "       1, 0, 0, 0, 0, 0, 0, 0, 0, 0, 0, 0, 0, 0, 0, 0, 0, 0, 0, 0, 0, 0,\n",
              "       0, 0, 0, 0, 0, 0, 0, 0, 0, 0, 0, 0, 0, 0, 0, 0, 0, 0, 0, 1, 0, 0,\n",
              "       0, 0, 0, 0, 0, 0, 0, 0, 0, 0, 0, 0, 0, 0, 0, 0, 0, 0, 0, 0, 0, 0,\n",
              "       0, 1, 0, 0, 0, 0, 1, 0, 0, 0, 0, 0, 0, 0, 0, 0, 0, 0, 0, 0, 0, 0,\n",
              "       0, 0, 0, 0, 0, 0, 0, 0, 0, 0, 0, 0, 0, 0, 0, 0, 0, 0, 0, 0, 1, 0,\n",
              "       0, 1, 0, 0, 0, 0, 0, 0, 0, 0, 0, 0, 0, 0, 1, 0, 0, 0, 0, 0, 0, 0,\n",
              "       0, 0, 0, 0, 0, 0, 0, 0, 1, 0, 0, 0, 0, 0, 0, 0, 0, 0, 0, 0, 0, 0,\n",
              "       0, 0, 0, 0, 0, 0, 0, 0, 1, 0, 0, 0, 0, 0, 0, 0, 1, 0, 0, 0, 0, 0,\n",
              "       0, 0, 0, 0, 0, 0, 0, 0, 0, 0, 0, 0, 0, 0, 0, 1, 0, 0, 0, 0, 0, 0,\n",
              "       0, 0, 0, 0, 0, 1, 0, 0, 0, 1, 0, 0, 0, 0, 0, 0, 0, 0, 0, 0, 0, 0,\n",
              "       0, 0, 0, 0, 0, 0, 0, 0, 0, 1, 0, 0, 0, 0, 0, 0, 0, 0, 0, 0, 0, 0,\n",
              "       0, 0, 0, 0, 0, 0, 0, 0, 0, 0, 0, 0, 0, 0, 0, 0, 0, 0, 0, 0, 1, 0,\n",
              "       0, 0, 0, 0, 0, 0, 0, 0, 0, 0, 0, 0])"
            ]
          },
          "metadata": {
            "tags": []
          },
          "execution_count": 504
        }
      ]
    },
    {
      "cell_type": "markdown",
      "metadata": {
        "id": "_TEQtpt0Igy-",
        "colab_type": "text"
      },
      "source": [
        "# 7 Avaliação do classificador\n",
        "* Agora vamos avaliar a taxa de acerto do nosso classificador\n",
        "\n",
        "* Para avaliar o classificador iremos verificar: \n",
        "\n",
        " * Accuracy: taxa de acerto do nosso classificador;\n",
        " * Recall: taxa de instâncias classificadas corretamente;\n",
        " * Precision: taxa de instâncias classificadas como positivas que realmente são positivas;\n",
        " * F1_score: balanço entre a precisão e o recall.\n",
        " "
      ]
    },
    {
      "cell_type": "code",
      "metadata": {
        "id": "LDlPEffOImi0",
        "colab_type": "code",
        "colab": {
          "base_uri": "https://localhost:8080/",
          "height": 34
        },
        "outputId": "e3be6cf3-c165-4dd0-db12-7494af671ff3"
      },
      "source": [
        "#Verificando a acurária\n",
        "acuracia = accuracy_score(y_test,classificacao)\n",
        "acuracia"
      ],
      "execution_count": 505,
      "outputs": [
        {
          "output_type": "execute_result",
          "data": {
            "text/plain": [
              "0.8875"
            ]
          },
          "metadata": {
            "tags": []
          },
          "execution_count": 505
        }
      ]
    },
    {
      "cell_type": "code",
      "metadata": {
        "id": "YFVA1mZ_pmiY",
        "colab_type": "code",
        "colab": {
          "base_uri": "https://localhost:8080/",
          "height": 34
        },
        "outputId": "8bf20d4c-36d2-4a50-f096-4d1d612ba407"
      },
      "source": [
        "#Verificando o Recall \n",
        "recall = recall_score(y_test,classificacao, average='weighted')\n",
        "recall"
      ],
      "execution_count": 506,
      "outputs": [
        {
          "output_type": "execute_result",
          "data": {
            "text/plain": [
              "0.8875"
            ]
          },
          "metadata": {
            "tags": []
          },
          "execution_count": 506
        }
      ]
    },
    {
      "cell_type": "code",
      "metadata": {
        "id": "c9ciz3RDjVWY",
        "colab_type": "code",
        "colab": {
          "base_uri": "https://localhost:8080/",
          "height": 34
        },
        "outputId": "f1620e7d-3c15-4f17-904f-dcc59d616131"
      },
      "source": [
        "#Verificando a precisão \n",
        "precisao = precision_score(y_test,classificacao,average='weighted')\n",
        "precisao"
      ],
      "execution_count": 507,
      "outputs": [
        {
          "output_type": "execute_result",
          "data": {
            "text/plain": [
              "0.8667763157894737"
            ]
          },
          "metadata": {
            "tags": []
          },
          "execution_count": 507
        }
      ]
    },
    {
      "cell_type": "code",
      "metadata": {
        "id": "MINPl9S0jV-J",
        "colab_type": "code",
        "colab": {
          "base_uri": "https://localhost:8080/",
          "height": 34
        },
        "outputId": "8eabeb57-b3fa-4103-bd72-8ad24fed90a7"
      },
      "source": [
        "#Verificando o F1\n",
        "f1 = f1_score(y_test,classificacao, average='weighted')\n",
        "round(f1,3)"
      ],
      "execution_count": 508,
      "outputs": [
        {
          "output_type": "execute_result",
          "data": {
            "text/plain": [
              "0.866"
            ]
          },
          "metadata": {
            "tags": []
          },
          "execution_count": 508
        }
      ]
    },
    {
      "cell_type": "markdown",
      "metadata": {
        "id": "ruEweHAUuqbn",
        "colab_type": "text"
      },
      "source": [
        "# **Curva ROC**\n",
        "* A curva ROC é uma representação gráfica do desempenho de um classificador binário.\n",
        "* A curva representa a razão entre a taxa de positivos verdadeiros (TPR) e positivos falsos (FPR), que são os valores que foram preditos. \n",
        "  * Quanto maior tpr, melhor \n",
        "  * Quanto menor fpr, melhor\n",
        "\n",
        "**É necessário importar o roc_curve da biblioteca Sklearn.metrics. Também utilizaremos, novamente, a metaplotlib para mostrar o gráfico da curva. Os imports foram feitos no inicio desse notebook.**"
      ]
    },
    {
      "cell_type": "code",
      "metadata": {
        "id": "dIBBHJLA6QhG",
        "colab_type": "code",
        "colab": {}
      },
      "source": [
        "#Calculando a curva ROC\n",
        "fpr, tpr, _ = roc_curve(y_test,classificacao)"
      ],
      "execution_count": 509,
      "outputs": []
    },
    {
      "cell_type": "code",
      "metadata": {
        "id": "QxvSp68A6wUu",
        "colab_type": "code",
        "colab": {
          "base_uri": "https://localhost:8080/",
          "height": 34
        },
        "outputId": "64ca88bb-accf-42ef-8f7d-db462afe523b"
      },
      "source": [
        "#Verificando o valor dos falsos positivos (FPR)\n",
        "fpr"
      ],
      "execution_count": 510,
      "outputs": [
        {
          "output_type": "execute_result",
          "data": {
            "text/plain": [
              "array([0.        , 0.02142857, 1.        ])"
            ]
          },
          "metadata": {
            "tags": []
          },
          "execution_count": 510
        }
      ]
    },
    {
      "cell_type": "code",
      "metadata": {
        "id": "SGW1Qbl96xKf",
        "colab_type": "code",
        "colab": {
          "base_uri": "https://localhost:8080/",
          "height": 34
        },
        "outputId": "24d6367e-a7f1-4bd9-989b-90edb0b567b3"
      },
      "source": [
        "#Verificando o valor dos positivos verdadeiros(TPR)\n",
        "tpr"
      ],
      "execution_count": 511,
      "outputs": [
        {
          "output_type": "execute_result",
          "data": {
            "text/plain": [
              "array([0.  , 0.25, 1.  ])"
            ]
          },
          "metadata": {
            "tags": []
          },
          "execution_count": 511
        }
      ]
    },
    {
      "cell_type": "code",
      "metadata": {
        "id": "f7-mSK486-63",
        "colab_type": "code",
        "colab": {
          "base_uri": "https://localhost:8080/",
          "height": 295
        },
        "outputId": "9a521f38-cbe5-4475-ef82-a516f0fcdfd3"
      },
      "source": [
        "#Plotando a curva ROC\n",
        "plt.plot(fpr,tpr,marker='.')\n",
        "plt.title('Curva ROC')\n",
        "plt.xlabel('Taxa de Falsos Positivos')\n",
        "plt.ylabel('Taxa de Verdadeiro Positivos')\n",
        "plt.show()"
      ],
      "execution_count": 512,
      "outputs": [
        {
          "output_type": "display_data",
          "data": {
            "image/png": "[encoded data removed]",
            "text/plain": [
              "<Figure size 432x288 with 1 Axes>"
            ]
          },
          "metadata": {
            "tags": [],
            "needs_background": "light"
          }
        }
      ]
    },
    {
      "cell_type": "markdown",
      "metadata": {
        "id": "ANckrnRH7wKh",
        "colab_type": "text"
      },
      "source": [
        "# **Área sobe a Curva AUC**"
      ]
    },
    {
      "cell_type": "markdown",
      "metadata": {
        "id": "BvcjUJu39s-o",
        "colab_type": "text"
      },
      "source": [
        "* Área sob a curva ROC\n",
        "* Interpretação numérica da curva ROC"
      ]
    },
    {
      "cell_type": "code",
      "metadata": {
        "id": "FJRKlq_qu_PU",
        "colab_type": "code",
        "colab": {}
      },
      "source": [
        "#pegando as estimativas de probabilidade do meu modelo de arvore para passar no AUC área sob a curva\n",
        "#y_predic_prob = classificador.predict_proba(X_test)\n",
        "#y_predic_prob"
      ],
      "execution_count": 513,
      "outputs": []
    },
    {
      "cell_type": "code",
      "metadata": {
        "id": "LDscjsnmFezC",
        "colab_type": "code",
        "colab": {
          "base_uri": "https://localhost:8080/",
          "height": 34
        },
        "outputId": "53c0bb20-67f4-4cc7-cfb6-fb29a99be21d"
      },
      "source": [
        "#valor da área sob a curva \n",
        "roc_auc_score(y_test, classificacao)"
      ],
      "execution_count": 514,
      "outputs": [
        {
          "output_type": "execute_result",
          "data": {
            "text/plain": [
              "0.6142857142857142"
            ]
          },
          "metadata": {
            "tags": []
          },
          "execution_count": 514
        }
      ]
    },
    {
      "cell_type": "markdown",
      "metadata": {
        "id": "ObgIk1FPKqq4",
        "colab_type": "text"
      },
      "source": [
        "# **Validação Cruzada**\n",
        "* Validação cruzada k-fold:\n",
        " * A ideia, aqui, é dividir o conjunto de dados em $k$ subconjuntos (folds) disjuntos;\n",
        " * Um subconjunto é usado para teste e os outros k-1, subconjuntos, são usados para criar o modelo;\n",
        " * Esse procedimento é repetido k vezes, alternando o subconjunto de teste;\n",
        " * Calcula-se a acurácia média das k repetições e tem-se a avaliação do método.\n",
        "\n",
        "**É necessário importar o cross_val_score da biblioteca Sklearn.model_selection. Também utilizaremos, novamente, o MLPClassifier da sklearn.neural_network. Os imports foram feitos no inicio desse notebook.**"
      ]
    },
    {
      "cell_type": "markdown",
      "metadata": {
        "id": "Rq8NCDvBemTl",
        "colab_type": "text"
      },
      "source": [
        "* Montando os folds para a validação cruzada:\n",
        " * Vamos novamente criar um classificador chamando a MPLClassifier();\n",
        " * Em seguida, utilizamos a cross_val_scores. Essa função divide os dados em treino e teste, faz o treinamento, divide em vários folds e retorna a acurácia obtida em cada folds."
      ]
    },
    {
      "cell_type": "code",
      "metadata": {
        "id": "5DLzx6QVL27W",
        "colab_type": "code",
        "colab": {}
      },
      "source": [
        "#Definindo nosso classificador\n",
        "crossclassificador = MLPClassifier(hidden_layer_sizes=(100),activation='logistic', max_iter=1000)"
      ],
      "execution_count": 515,
      "outputs": []
    },
    {
      "cell_type": "markdown",
      "metadata": {
        "id": "YsJEt2vPjPCZ",
        "colab_type": "text"
      },
      "source": [
        "* Abaixo vemos os valores numéricos da acurácia obtida em cada um dos folds:"
      ]
    },
    {
      "cell_type": "code",
      "metadata": {
        "id": "F9mJ_GnCMlwt",
        "colab_type": "code",
        "colab": {
          "base_uri": "https://localhost:8080/",
          "height": 51
        },
        "outputId": "4e218108-46a1-4f90-c40f-cc2a519bb95f"
      },
      "source": [
        "#Utilizando a cross validation e visualiazando os valores obtidos em cada folds\n",
        "scores = cross_val_score(crossclassificador, X,y,cv = 10)\n",
        "scores"
      ],
      "execution_count": 516,
      "outputs": [
        {
          "output_type": "execute_result",
          "data": {
            "text/plain": [
              "array([0.86875   , 0.88125   , 0.85625   , 0.89375   , 0.88125   ,\n",
              "       0.91875   , 0.80625   , 0.875     , 0.8875    , 0.88050314])"
            ]
          },
          "metadata": {
            "tags": []
          },
          "execution_count": 516
        }
      ]
    },
    {
      "cell_type": "markdown",
      "metadata": {
        "id": "Xfi5GFqdiZW3",
        "colab_type": "text"
      },
      "source": [
        "* No geral, na prática, os valores que são mais considerados, são a média e o desvio padrão das taxas de acertos, então, abaixo vemos os valores de média e desvio padrão."
      ]
    },
    {
      "cell_type": "code",
      "metadata": {
        "id": "AJVbWbq_NJfi",
        "colab_type": "code",
        "colab": {
          "base_uri": "https://localhost:8080/",
          "height": 34
        },
        "outputId": "354c249c-786f-4b7e-ca7d-55f56bb538b9"
      },
      "source": [
        "round(scores.mean(),3),round(scores.std(),3)"
      ],
      "execution_count": 517,
      "outputs": [
        {
          "output_type": "execute_result",
          "data": {
            "text/plain": [
              "(0.875, 0.028)"
            ]
          },
          "metadata": {
            "tags": []
          },
          "execution_count": 517
        }
      ]
    },
    {
      "cell_type": "markdown",
      "metadata": {
        "id": "GqRojrSVNxvg",
        "colab_type": "text"
      },
      "source": [
        "# 8 Comparação entre a MLP, a Árvore de Decisão e a Random Forest\n",
        "* **É necessário importar o Árvore de Decisão e a Random Florest da biblioteca Sklearn.tree, Sklearn.ensemble, respectivamente. Também utilizaremos, novamente, o MLPClassifier da sklearn.neural_network e a cross_val_score de sklearn.metrics. Os imports foram feitos no inicio desse notebook.**\n"
      ]
    },
    {
      "cell_type": "code",
      "metadata": {
        "id": "WVUsKuWiOM23",
        "colab_type": "code",
        "colab": {}
      },
      "source": [
        "#criando meu novo modelo de arvore \n",
        "arvore = DecisionTreeClassifier()\n",
        "\n",
        "#Calculando os scores\n",
        "scores_arvore = cross_val_score(arvore,X,y,cv=10)"
      ],
      "execution_count": 518,
      "outputs": []
    },
    {
      "cell_type": "code",
      "metadata": {
        "id": "ffZYSl1hRIUv",
        "colab_type": "code",
        "colab": {}
      },
      "source": [
        "#Criando minha random florest \n",
        "floresta = RandomForestClassifier()\n",
        "\n",
        "#Calculando os scores\n",
        "scores_floresta = cross_val_score(arvore,X,y,cv=10)"
      ],
      "execution_count": 519,
      "outputs": []
    },
    {
      "cell_type": "code",
      "metadata": {
        "id": "vWnPz70pRkXt",
        "colab_type": "code",
        "colab": {}
      },
      "source": [
        "\n",
        "#Criando rede neural\n",
        "mlp = MLPClassifier(hidden_layer_sizes=(100),activation='logistic',max_iter=1000)\n",
        "\n",
        "#Calculando os scores\n",
        "scores_mlp = cross_val_score(mlp,X,y,cv=10)"
      ],
      "execution_count": 520,
      "outputs": []
    },
    {
      "cell_type": "code",
      "metadata": {
        "id": "tA6I1DPh89Rt",
        "colab_type": "code",
        "colab": {
          "base_uri": "https://localhost:8080/",
          "height": 170
        },
        "outputId": "4f574e67-6ed2-4148-e142-772443f1e4ca"
      },
      "source": [
        "print('Árvore de Decisão: ',\"\\n\"' Média:', round(scores_arvore.mean(),3),\"\\n\",'Desvio padrão:',round(scores_arvore.std(),3))\n",
        "print('Random Forest: ',\"\\n\"' Média:', round(scores.mean(),3),\"\\n\",'Desvio padrão:', round(scores.std(),3))\n",
        "print('MLP:',\"\\n\"' Média:', round(scores_mlp.mean(),3),\"\\n\",'Desvio padrão:',round(scores_mlp.std(),3))"
      ],
      "execution_count": 521,
      "outputs": [
        {
          "output_type": "stream",
          "text": [
            "Árvore de Decisão:  \n",
            " Média: 0.827 \n",
            " Desvio padrão: 0.033\n",
            "Random Forest:  \n",
            " Média: 0.875 \n",
            " Desvio padrão: 0.028\n",
            "MLP: \n",
            " Média: 0.872 \n",
            " Desvio padrão: 0.028\n"
          ],
          "name": "stdout"
        }
      ]
    },
    {
      "cell_type": "markdown",
      "metadata": {
        "id": "tx1HdKY1-Wnx",
        "colab_type": "text"
      },
      "source": [
        "# 9 Otimização de Parâmetros\n",
        "* A otimização de parâmetros, consiste, basicamente, em procurar ou encontrar a melhor configuração para os parâmentros do nosso modelo.\n",
        "* Para isso, podemos utilizar algumas \"estratégias\" que nós auxiliam a encontrar essas melhores configurações sem precisar testar todas as formas possiveis até encontra-la.\n",
        "* Aqui utilizaremos dois métodos de busca exaustiva, que são:\n",
        "  * Random Search: Faz uma seleção aleatória de alguns parâmetros dentro de uma grade de parâmetros(param_grid) predefinidos e então, faz o treinamento com essa seleção aleatória até encontrar melhor combinação de parâmetros.  \n",
        "  \n",
        "  * Grid Search: Faz uma busca pelos parâmetros que obtiverem o melhor score, fazendo o teste em cada combinação de valores dos parametros dentro da grade predefinida.  "
      ]
    },
    {
      "cell_type": "markdown",
      "metadata": {
        "id": "bGrVyuhuP97W",
        "colab_type": "text"
      },
      "source": [
        "* **É necessário importar o RandomizedSearchCV da biblioteca Sklearn.model_selection. O import foi feitos no inicio desse notebook.**"
      ]
    },
    {
      "cell_type": "markdown",
      "metadata": {
        "id": "e5QKZTsfK3dA",
        "colab_type": "text"
      },
      "source": [
        "* Abaixo, definimos a nossa grade de parâmetros que passaremos para os dois métodos de busca exaustiva:\n",
        "\n",
        "* É importa ter cuidado com a definição de época para nosso treina, pois pouca quantidade de épocas pode causa underfitting, enquanto que muita quantidade de épocas pode causar overfitting."
      ]
    },
    {
      "cell_type": "code",
      "metadata": {
        "id": "gs9N0CQI-fxX",
        "colab_type": "code",
        "colab": {}
      },
      "source": [
        "param_grid = [\n",
        "              {\n",
        "                  'hidden_layer_sizes': [(10),(50),(100),(50,10),(100,50)],\n",
        "                  'activation': ['identity', 'logistic', 'tanh', 'relu'],\n",
        "                  'solver': ['lbfgs', 'sgd', 'adam'],\n",
        "                  'max_iter': [2000,3000, 4000,5000]\n",
        "              }\n",
        "              \n",
        "]"
      ],
      "execution_count": 522,
      "outputs": []
    },
    {
      "cell_type": "markdown",
      "metadata": {
        "id": "bt6ErxWuLYW3",
        "colab_type": "text"
      },
      "source": [
        "* Fazemos a chamada a nossa Random Search passando os parâmetros necessários: "
      ]
    },
    {
      "cell_type": "code",
      "metadata": {
        "id": "-jKyCf3WPQu2",
        "colab_type": "code",
        "colab": {}
      },
      "source": [
        "mlp = RandomizedSearchCV(MLPClassifier(),param_grid,cv=5,scoring='accuracy')"
      ],
      "execution_count": 523,
      "outputs": []
    },
    {
      "cell_type": "markdown",
      "metadata": {
        "id": "tdNAQyGELl51",
        "colab_type": "text"
      },
      "source": [
        "* Fazemos o treinamento: "
      ]
    },
    {
      "cell_type": "code",
      "metadata": {
        "id": "NJIZ7joJPSl6",
        "colab_type": "code",
        "colab": {
          "base_uri": "https://localhost:8080/",
          "height": 408
        },
        "outputId": "4ab6d663-7b32-4b1e-ebcf-57d4c55e0dfc"
      },
      "source": [
        "mlp.fit(X,y)"
      ],
      "execution_count": 524,
      "outputs": [
        {
          "output_type": "execute_result",
          "data": {
            "text/plain": [
              "RandomizedSearchCV(cv=5, error_score=nan,\n",
              "                   estimator=MLPClassifier(activation='relu', alpha=0.0001,\n",
              "                                           batch_size='auto', beta_1=0.9,\n",
              "                                           beta_2=0.999, early_stopping=False,\n",
              "                                           epsilon=1e-08,\n",
              "                                           hidden_layer_sizes=(100,),\n",
              "                                           learning_rate='constant',\n",
              "                                           learning_rate_init=0.001,\n",
              "                                           max_fun=15000, max_iter=200,\n",
              "                                           momentum=0.9, n_iter_no_change=10,\n",
              "                                           nesterovs_momentum=True, power_t=0.5,\n",
              "                                           random...\n",
              "                                           verbose=False, warm_start=False),\n",
              "                   iid='deprecated', n_iter=10, n_jobs=None,\n",
              "                   param_distributions=[{'activation': ['identity', 'logistic',\n",
              "                                                        'tanh', 'relu'],\n",
              "                                         'hidden_layer_sizes': [10, 50, 100,\n",
              "                                                                (50, 10),\n",
              "                                                                (100, 50)],\n",
              "                                         'max_iter': [2000, 3000, 4000, 5000],\n",
              "                                         'solver': ['lbfgs', 'sgd', 'adam']}],\n",
              "                   pre_dispatch='2*n_jobs', random_state=None, refit=True,\n",
              "                   return_train_score=False, scoring='accuracy', verbose=0)"
            ]
          },
          "metadata": {
            "tags": []
          },
          "execution_count": 524
        }
      ]
    },
    {
      "cell_type": "markdown",
      "metadata": {
        "id": "SMYeqxScL3as",
        "colab_type": "text"
      },
      "source": [
        "* Podemos verificar qual foi a melhor combinação de parâmetros:"
      ]
    },
    {
      "cell_type": "code",
      "metadata": {
        "id": "n5RZTAJhPTyU",
        "colab_type": "code",
        "colab": {
          "base_uri": "https://localhost:8080/",
          "height": 34
        },
        "outputId": "3811b33d-3191-4410-a498-4e6f00034ec7"
      },
      "source": [
        "print(mlp.best_params_)"
      ],
      "execution_count": 525,
      "outputs": [
        {
          "output_type": "stream",
          "text": [
            "{'solver': 'adam', 'max_iter': 3000, 'hidden_layer_sizes': 50, 'activation': 'logistic'}\n"
          ],
          "name": "stdout"
        }
      ]
    },
    {
      "cell_type": "markdown",
      "metadata": {
        "id": "TfUdt1iGMGN1",
        "colab_type": "text"
      },
      "source": [
        "* Por fim, verificamos o melhor score obtido pela nossa Random Search:"
      ]
    },
    {
      "cell_type": "code",
      "metadata": {
        "id": "oUwEr-j-PT9v",
        "colab_type": "code",
        "colab": {
          "base_uri": "https://localhost:8080/",
          "height": 34
        },
        "outputId": "f323edbe-ef6a-4e9e-f0a4-082b7f1bd70d"
      },
      "source": [
        "print(round(mlp.best_score_,3))"
      ],
      "execution_count": 526,
      "outputs": [
        {
          "output_type": "stream",
          "text": [
            "0.872\n"
          ],
          "name": "stdout"
        }
      ]
    },
    {
      "cell_type": "markdown",
      "metadata": {
        "id": "KkJ4dbmWRI-H",
        "colab_type": "text"
      },
      "source": [
        "* **É necessário importar o GridSearchCV da biblioteca Sklearn.model_selection. O import foi feitos no inicio desse notebook.**"
      ]
    },
    {
      "cell_type": "markdown",
      "metadata": {
        "id": "yCp-uXL4MX_p",
        "colab_type": "text"
      },
      "source": [
        "* É importante utilizar o Grid Search porque a Random Search pode passar por alguma configuração de parâmetros que talvez fosse melhor do que a configuração escolhida, já que ela funciona de forma aleatória. \n",
        "\n",
        "* Agora faremos o mesmo procedimento com a Grid Search:"
      ]
    },
    {
      "cell_type": "code",
      "metadata": {
        "id": "D6xsd2MYPTiT",
        "colab_type": "code",
        "colab": {}
      },
      "source": [
        "#Chamando a Grid Search\n",
        "mlp = GridSearchCV(MLPClassifier(),param_grid,cv=5,scoring='accuracy')"
      ],
      "execution_count": 527,
      "outputs": []
    },
    {
      "cell_type": "code",
      "metadata": {
        "id": "IagcllDKPiG-",
        "colab_type": "code",
        "colab": {
          "base_uri": "https://localhost:8080/",
          "height": 1000
        },
        "outputId": "cf4fb71d-e470-4c67-c38d-c0d239718a5e"
      },
      "source": [
        "#Treinando o nosso modelo da Grid Search\n",
        "mlp.fit(X,y)"
      ],
      "execution_count": null,
      "outputs": [
        {
          "output_type": "stream",
          "text": [
            "/usr/local/lib/python3.6/dist-packages/sklearn/neural_network/_multilayer_perceptron.py:470: ConvergenceWarning: lbfgs failed to converge (status=1):\n",
            "STOP: TOTAL NO. of ITERATIONS REACHED LIMIT.\n",
            "\n",
            "Increase the number of iterations (max_iter) or scale the data as shown in:\n",
            "    https://scikit-learn.org/stable/modules/preprocessing.html\n",
            "  self.n_iter_ = _check_optimize_result(\"lbfgs\", opt_res, self.max_iter)\n",
            "/usr/local/lib/python3.6/dist-packages/sklearn/neural_network/_multilayer_perceptron.py:470: ConvergenceWarning: lbfgs failed to converge (status=1):\n",
            "STOP: TOTAL NO. of ITERATIONS REACHED LIMIT.\n",
            "\n",
            "Increase the number of iterations (max_iter) or scale the data as shown in:\n",
            "    https://scikit-learn.org/stable/modules/preprocessing.html\n",
            "  self.n_iter_ = _check_optimize_result(\"lbfgs\", opt_res, self.max_iter)\n",
            "/usr/local/lib/python3.6/dist-packages/sklearn/neural_network/_multilayer_perceptron.py:470: ConvergenceWarning: lbfgs failed to converge (status=1):\n",
            "STOP: TOTAL NO. of ITERATIONS REACHED LIMIT.\n",
            "\n",
            "Increase the number of iterations (max_iter) or scale the data as shown in:\n",
            "    https://scikit-learn.org/stable/modules/preprocessing.html\n",
            "  self.n_iter_ = _check_optimize_result(\"lbfgs\", opt_res, self.max_iter)\n",
            "/usr/local/lib/python3.6/dist-packages/sklearn/neural_network/_multilayer_perceptron.py:470: ConvergenceWarning: lbfgs failed to converge (status=1):\n",
            "STOP: TOTAL NO. of ITERATIONS REACHED LIMIT.\n",
            "\n",
            "Increase the number of iterations (max_iter) or scale the data as shown in:\n",
            "    https://scikit-learn.org/stable/modules/preprocessing.html\n",
            "  self.n_iter_ = _check_optimize_result(\"lbfgs\", opt_res, self.max_iter)\n",
            "/usr/local/lib/python3.6/dist-packages/sklearn/neural_network/_multilayer_perceptron.py:470: ConvergenceWarning: lbfgs failed to converge (status=1):\n",
            "STOP: TOTAL NO. of ITERATIONS REACHED LIMIT.\n",
            "\n",
            "Increase the number of iterations (max_iter) or scale the data as shown in:\n",
            "    https://scikit-learn.org/stable/modules/preprocessing.html\n",
            "  self.n_iter_ = _check_optimize_result(\"lbfgs\", opt_res, self.max_iter)\n",
            "/usr/local/lib/python3.6/dist-packages/sklearn/neural_network/_multilayer_perceptron.py:470: ConvergenceWarning: lbfgs failed to converge (status=1):\n",
            "STOP: TOTAL NO. of ITERATIONS REACHED LIMIT.\n",
            "\n",
            "Increase the number of iterations (max_iter) or scale the data as shown in:\n",
            "    https://scikit-learn.org/stable/modules/preprocessing.html\n",
            "  self.n_iter_ = _check_optimize_result(\"lbfgs\", opt_res, self.max_iter)\n",
            "/usr/local/lib/python3.6/dist-packages/sklearn/neural_network/_multilayer_perceptron.py:470: ConvergenceWarning: lbfgs failed to converge (status=1):\n",
            "STOP: TOTAL NO. of ITERATIONS REACHED LIMIT.\n",
            "\n",
            "Increase the number of iterations (max_iter) or scale the data as shown in:\n",
            "    https://scikit-learn.org/stable/modules/preprocessing.html\n",
            "  self.n_iter_ = _check_optimize_result(\"lbfgs\", opt_res, self.max_iter)\n",
            "/usr/local/lib/python3.6/dist-packages/sklearn/neural_network/_multilayer_perceptron.py:470: ConvergenceWarning: lbfgs failed to converge (status=1):\n",
            "STOP: TOTAL NO. of ITERATIONS REACHED LIMIT.\n",
            "\n",
            "Increase the number of iterations (max_iter) or scale the data as shown in:\n",
            "    https://scikit-learn.org/stable/modules/preprocessing.html\n",
            "  self.n_iter_ = _check_optimize_result(\"lbfgs\", opt_res, self.max_iter)\n",
            "/usr/local/lib/python3.6/dist-packages/sklearn/neural_network/_multilayer_perceptron.py:470: ConvergenceWarning: lbfgs failed to converge (status=1):\n",
            "STOP: TOTAL NO. of ITERATIONS REACHED LIMIT.\n",
            "\n",
            "Increase the number of iterations (max_iter) or scale the data as shown in:\n",
            "    https://scikit-learn.org/stable/modules/preprocessing.html\n",
            "  self.n_iter_ = _check_optimize_result(\"lbfgs\", opt_res, self.max_iter)\n",
            "/usr/local/lib/python3.6/dist-packages/sklearn/neural_network/_multilayer_perceptron.py:470: ConvergenceWarning: lbfgs failed to converge (status=1):\n",
            "STOP: TOTAL NO. of ITERATIONS REACHED LIMIT.\n",
            "\n",
            "Increase the number of iterations (max_iter) or scale the data as shown in:\n",
            "    https://scikit-learn.org/stable/modules/preprocessing.html\n",
            "  self.n_iter_ = _check_optimize_result(\"lbfgs\", opt_res, self.max_iter)\n",
            "/usr/local/lib/python3.6/dist-packages/sklearn/neural_network/_multilayer_perceptron.py:470: ConvergenceWarning: lbfgs failed to converge (status=1):\n",
            "STOP: TOTAL NO. of ITERATIONS REACHED LIMIT.\n",
            "\n",
            "Increase the number of iterations (max_iter) or scale the data as shown in:\n",
            "    https://scikit-learn.org/stable/modules/preprocessing.html\n",
            "  self.n_iter_ = _check_optimize_result(\"lbfgs\", opt_res, self.max_iter)\n",
            "/usr/local/lib/python3.6/dist-packages/sklearn/neural_network/_multilayer_perceptron.py:470: ConvergenceWarning: lbfgs failed to converge (status=1):\n",
            "STOP: TOTAL NO. of ITERATIONS REACHED LIMIT.\n",
            "\n",
            "Increase the number of iterations (max_iter) or scale the data as shown in:\n",
            "    https://scikit-learn.org/stable/modules/preprocessing.html\n",
            "  self.n_iter_ = _check_optimize_result(\"lbfgs\", opt_res, self.max_iter)\n",
            "/usr/local/lib/python3.6/dist-packages/sklearn/neural_network/_multilayer_perceptron.py:470: ConvergenceWarning: lbfgs failed to converge (status=1):\n",
            "STOP: TOTAL NO. of ITERATIONS REACHED LIMIT.\n",
            "\n",
            "Increase the number of iterations (max_iter) or scale the data as shown in:\n",
            "    https://scikit-learn.org/stable/modules/preprocessing.html\n",
            "  self.n_iter_ = _check_optimize_result(\"lbfgs\", opt_res, self.max_iter)\n"
          ],
          "name": "stderr"
        }
      ]
    },
    {
      "cell_type": "code",
      "metadata": {
        "id": "sgbic7ldPhr8",
        "colab_type": "code",
        "colab": {}
      },
      "source": [
        "#Verificando a melhor combinação de parâmetro\n",
        "print(mlp.best_params_)"
      ],
      "execution_count": null,
      "outputs": []
    },
    {
      "cell_type": "code",
      "metadata": {
        "id": "SQSqAQumPtZD",
        "colab_type": "code",
        "colab": {}
      },
      "source": [
        "#Verificando o melhor score\n",
        "print(mlp.best_score_)"
      ],
      "execution_count": null,
      "outputs": []
    },
    {
      "cell_type": "markdown",
      "metadata": {
        "id": "KLmokcUeQflG",
        "colab_type": "text"
      },
      "source": [
        "* O cv_results_ retorna o resultado obtidos em cada uma das configurações e em cada um dos folds"
      ]
    },
    {
      "cell_type": "code",
      "metadata": {
        "id": "bJa0fzHhPvvm",
        "colab_type": "code",
        "colab": {}
      },
      "source": [
        "mlp.cv_results_"
      ],
      "execution_count": null,
      "outputs": []
    }
  ]
}