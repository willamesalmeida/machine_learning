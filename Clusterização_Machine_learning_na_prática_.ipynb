{
  "nbformat": 4,
  "nbformat_minor": 0,
  "metadata": {
    "colab": {
      "name": "Clusterização - Machine learning na prática .ipynb",
      "provenance": [],
      "collapsed_sections": [],
      "toc_visible": true,
      "authorship_tag": "ABX9TyMkrmshfVB3oMhxnuY5zNPe",
      "include_colab_link": true
    },
    "kernelspec": {
      "name": "python3",
      "display_name": "Python 3"
    }
  },
  "cells": [
    {
      "cell_type": "markdown",
      "metadata": {
        "id": "view-in-github",
        "colab_type": "text"
      },
      "source": [
        "<a href=\"https://colab.research.google.com/github/willamesalmeida/machine_learning/blob/master/Clusteriza%C3%A7%C3%A3o_Machine_learning_na_pr%C3%A1tica_.ipynb\" target=\"_parent\"><img src=\"https://colab.research.google.com/assets/colab-badge.svg\" alt=\"Open In Colab\"/></a>"
      ]
    },
    {
      "cell_type": "markdown",
      "metadata": {
        "id": "ssxvOVtia25M",
        "colab_type": "text"
      },
      "source": [
        "**O DATASET analisado trata da qualidade de vinhos e pode ser encontrado no seguinte sitio:**\n",
        "\n",
        "https://www.kaggle.com/uciml/red-wine-quality-cortez-et-al-2009 "
      ]
    },
    {
      "cell_type": "code",
      "metadata": {
        "id": "36PY1BcMiw0R",
        "colab_type": "code",
        "colab": {}
      },
      "source": [
        "from google.colab import drive\n",
        "drive.mount('/content/drive/')"
      ],
      "execution_count": null,
      "outputs": []
    },
    {
      "cell_type": "markdown",
      "metadata": {
        "id": "lPHk39mkke3o",
        "colab_type": "text"
      },
      "source": [
        "#1 Fazendo os importes da biblioteca\n",
        "* Para começar nosso trabalho vamos importar algumas bibliotecas. \n",
        "\n",
        "* A princípio, vamos importar a lib Numpy, que nós ajudaram a trabalhar com vetores e matrizes, além disso, também facilitará alguns cálculos matemáticos, e a lib Pandas, que nós ajudará na manipulação do nosso dataset. \n",
        "\n",
        "* Assim que necessárias outras blibliotecas, elas seram importadas aqui, mas suas explicações seram feita no momento que forem necessárias."
      ]
    },
    {
      "cell_type": "code",
      "metadata": {
        "id": "b8ynFsVywdM3",
        "colab_type": "code",
        "colab": {}
      },
      "source": [
        "  import numpy as np\n",
        "  import pandas as pd\n",
        "  import matplotlib.pyplot as plt\n",
        "  import seaborn as sns\n",
        "  from sklearn.model_selection import train_test_split\n",
        "  from sklearn.tree import plot_tree\n",
        "  from sklearn.metrics import accuracy_score\n",
        "  from sklearn.metrics import precision_score\n",
        "  from sklearn.metrics import recall_score\n",
        "  from sklearn.metrics import f1_score\n",
        "  from sklearn.metrics  import roc_auc_score\n",
        "  from sklearn.model_selection import KFold\n",
        "  from sklearn.model_selection import cross_val_score\n",
        "  from sklearn.metrics  import roc_curve\n",
        "  from sklearn.neural_network import MLPClassifier\n",
        "  from sklearn.preprocessing import MinMaxScaler\n",
        "  from sklearn.tree import DecisionTreeClassifier\n",
        "  from sklearn.ensemble import RandomForestClassifier\n",
        "  from sklearn.model_selection import GridSearchCV\n",
        "  from sklearn.model_selection import RandomizedSearchCV\n",
        "\n",
        "  from mpl_toolkits.mplot3d import Axes3D\n",
        "  from sklearn.model_selection import train_test_split\n",
        "  from sklearn.cluster import KMeans\n",
        "  from sklearn.metrics import accuracy_score\n",
        "  from sklearn.metrics import adjusted_rand_score\n",
        "  from sklearn.metrics import adjusted_mutual_info_score\n",
        "  from sklearn.metrics import fowlkes_mallows_score\n",
        "  from sklearn.metrics import davies_bouldin_score\n",
        "  from sklearn.metrics import silhouette_score\n",
        "  from sklearn.metrics import calinski_harabasz_score\n",
        "  from sklearn.cluster import AgglomerativeClustering"
      ],
      "execution_count": null,
      "outputs": []
    },
    {
      "cell_type": "markdown",
      "metadata": {
        "id": "Hs0M8SkkkFM1",
        "colab_type": "text"
      },
      "source": [
        "# 2 Fazendo a leitura e o carregamento dos dados na memória\n",
        "* Agora utilizando a lib pandas, vamos fazer o carregamento de nosso dataset na memória para que possamos começar nosso trabalho.\n",
        "\n",
        "* Faremos algumas verificações em nosso dataset, primeiro vamos ver se está tudo ok em nossas colunas. Depois utilizaremos o head() para visualizar algumas linhas do nosso dataset. Por default, esse método retorna 5 linhas. \n",
        "\n"
      ]
    },
    {
      "cell_type": "code",
      "metadata": {
        "id": "065m-8i4Hn0m",
        "colab_type": "code",
        "colab": {}
      },
      "source": [
        "#lendo o dataset Sobre qualidade de vinhos\n",
        "dados = pd.read_csv('/content/drive//My Drive/Colab Notebooks/Dataset/winequality-red.csv')"
      ],
      "execution_count": null,
      "outputs": []
    },
    {
      "cell_type": "markdown",
      "metadata": {
        "id": "nGUUEmEtV6Ad",
        "colab_type": "text"
      },
      "source": [
        "* Fazendo a visualização das colunas do nosso arquivo"
      ]
    },
    {
      "cell_type": "code",
      "metadata": {
        "id": "6d7VbvfbNfrR",
        "colab_type": "code",
        "colab": {}
      },
      "source": [
        "#verificando as colunas do arquivo\n",
        "dados.columns"
      ],
      "execution_count": null,
      "outputs": []
    },
    {
      "cell_type": "markdown",
      "metadata": {
        "id": "pnuqBB60WDhm",
        "colab_type": "text"
      },
      "source": [
        "* Fazendo a visualização das linhas utilizando o head()\n",
        "\n",
        "\n",
        "\n"
      ]
    },
    {
      "cell_type": "code",
      "metadata": {
        "id": "PMjYm8NqKCCP",
        "colab_type": "code",
        "colab": {}
      },
      "source": [
        "#visualizando algumas linhas \n",
        "dados.head()"
      ],
      "execution_count": null,
      "outputs": []
    },
    {
      "cell_type": "markdown",
      "metadata": {
        "id": "vQp7s2-Pk2g9",
        "colab_type": "text"
      },
      "source": [
        "# 3 Tratando os dados e fazendo limpeza\n",
        "* Nesta etapa faremos o tratamentos de nossos dados e para isso utilizaremos alguns métodos.\n",
        "\n",
        "* Então, podemos remover dados NAN, remover valores null, remover dados duplicados, entre outros. \n",
        "\n",
        "* Também podemos utilizar algumas métricas para resolver esses tipos de problemas, quando existem valores null em uma coluna, por exemplo, podemos fazer a média de todos os valores que a coluna (atributo com valores faltantes) possui e colocar o resultado no lugar do valor null. "
      ]
    },
    {
      "cell_type": "markdown",
      "metadata": {
        "id": "s3ZruQRjYKBd",
        "colab_type": "text"
      },
      "source": [
        "* Logo abaixo verificamos a quantidade de colunas e linhas que nosso dataset possue."
      ]
    },
    {
      "cell_type": "code",
      "metadata": {
        "id": "dU8mPFqzWiuF",
        "colab_type": "code",
        "colab": {}
      },
      "source": [
        "#verificando a quantidade de linhas e colunas\n",
        "dados.shape"
      ],
      "execution_count": null,
      "outputs": []
    },
    {
      "cell_type": "markdown",
      "metadata": {
        "id": "o8ZuXgiHYaiA",
        "colab_type": "text"
      },
      "source": [
        "* Agora faremos a remoção dos valores duplicados que existem em nossos dados. "
      ]
    },
    {
      "cell_type": "code",
      "metadata": {
        "id": "wNELfsX-NAxi",
        "colab_type": "code",
        "colab": {}
      },
      "source": [
        "#removendo valores duplicados e visualizando se teve muita diferença utilizando shape (possuia alguns valores duplicados) \n",
        "#dados = dados.drop_duplicates()\n",
        "dados.shape"
      ],
      "execution_count": null,
      "outputs": []
    },
    {
      "cell_type": "markdown",
      "metadata": {
        "id": "zzHG7vAvYkz0",
        "colab_type": "text"
      },
      "source": [
        "* Podemos fazer também a remoção dos valores NAN, porém, nosso dataset não possuia valores NAN."
      ]
    },
    {
      "cell_type": "code",
      "metadata": {
        "id": "stMSaTDwRjbH",
        "colab_type": "code",
        "colab": {}
      },
      "source": [
        "#Removendo os valores NAN (não possuia NAN)\n",
        "dados = dados.dropna()\n",
        "dados.shape"
      ],
      "execution_count": null,
      "outputs": []
    },
    {
      "cell_type": "markdown",
      "metadata": {
        "id": "8PYdnsELZ8Vn",
        "colab_type": "text"
      },
      "source": [
        "* Aqui utilizamos o método .isnull().sum() para que possamos visualizar a quantidade somada de valores null por atributos presente em nosso dataset."
      ]
    },
    {
      "cell_type": "code",
      "metadata": {
        "id": "FbG4YNIQSA31",
        "colab_type": "code",
        "colab": {}
      },
      "source": [
        "#verificando a quantidade de valores nulos dentro do dataframe\n",
        "dados.isnull().sum()"
      ],
      "execution_count": null,
      "outputs": []
    },
    {
      "cell_type": "markdown",
      "metadata": {
        "id": "4bCmxZ6uaaol",
        "colab_type": "text"
      },
      "source": [
        "* A renomeação dos atributos é algo importante a se fazer porque, mais a frente, em nosso trabalho, precisaremos fazer referência (chamadas) a alguns desses atibutos. \n",
        "\n",
        "* Então, remover os espaços em branco dos atibutos de nomes compostos é importante para não nós depararmos com alguns erros inesperados.\n",
        "\n",
        "* Sendo assim, abaixo subistituimos os espaços em branco dos nomes dos atributos por underline(_), depois utilizamos o head() para visualizar nossos dados com a nova nomeclatura."
      ]
    },
    {
      "cell_type": "code",
      "metadata": {
        "id": "3KwEU1taSR1A",
        "colab_type": "code",
        "colab": {}
      },
      "source": [
        "#renomeando as colunas para failcitar a analise posteriormente\n",
        "dados = dados.rename(columns={'fixed acidity':'fixed_acidity', 'volatile acidity': 'volatile_acidity', 'residual sugar': 'residual_sugar', 'free sulfur dioxide':'free_sulfur_dioxide', 'total sulfur dioxide':'total_sulfur_dioxide','citric acid':'citric_acid' })\n",
        "#Visualizando a tabela com a nova nomeclatura\n",
        "dados.head()"
      ],
      "execution_count": null,
      "outputs": []
    },
    {
      "cell_type": "markdown",
      "metadata": {
        "id": "LilUo0eklKBC",
        "colab_type": "text"
      },
      "source": [
        "#4 Análise preliminar dos dados\n",
        "* Nesta etapa podemos fazer alguns plots de gráficos para ter algumas ideias e ter uma melhor visualização de como estão nossos dados. \n",
        "\n",
        "* Sabemos que a qualidados do nosso vinho esta sendo avaliadas por uma pontuação que vai de 0, para o vinhos de menor qualidade, a 10, para o vinhos de meaior qualidade. \n",
        "\n",
        "* Então, vamos verificar como está a distribuição dessa pontuação."
      ]
    },
    {
      "cell_type": "markdown",
      "metadata": {
        "id": "jg1tdRKGfp81",
        "colab_type": "text"
      },
      "source": [
        "**Aqui, utilizaremos a biblioteca metaplotlib. Essa é\n",
        "uma lib que auxilia na visualição e geração de gráficos. Seu import foi feito no começo desse notebook e foi apelidade de plt.**"
      ]
    },
    {
      "cell_type": "code",
      "metadata": {
        "id": "DMuvGfxiKzgm",
        "colab_type": "code",
        "colab": {}
      },
      "source": [
        "#verificando as pontuações da qualidade g\n",
        "plt.hist(dados['quality'])\n",
        "plt.xlabel('Classes')\n",
        "plt.ylabel('Quantidade')\n",
        "plt.title('Ocorrências das Classes')\n",
        "plt.grid(True)\n",
        "plt.show()"
      ],
      "execution_count": null,
      "outputs": []
    },
    {
      "cell_type": "markdown",
      "metadata": {
        "id": "cXyLlfZUec0w",
        "colab_type": "text"
      },
      "source": [
        "* Pelo gráfico é possivel ver que não possuimos vinhos com as pontuações de melhor nem de pior qualidade.\n",
        "\n",
        "* Vamos fazer alguns prints para visualizar melhor a quantidade de vinhos por cada pontuação."
      ]
    },
    {
      "cell_type": "code",
      "metadata": {
        "id": "bAoyhEPKWhUQ",
        "colab_type": "code",
        "colab": {}
      },
      "source": [
        "#Visualizando a quantidade de vinhos pelas pontuações de qualidade\n",
        "print('Qualidade 1: ', dados[dados['quality']==1].shape[0])\n",
        "print('Qualidade 2: ', dados[dados['quality']==2].shape[0])\n",
        "print('Qualidade 3: ', dados[dados['quality']==3].shape[0])\n",
        "print('Qualidade 4: ', dados[dados['quality']==4].shape[0])\n",
        "print('Qualidade 5: ', dados[dados['quality']==5].shape[0])\n",
        "print('Qualidade 6: ', dados[dados['quality']==6].shape[0])\n",
        "print('Qualidade 7: ', dados[dados['quality']==7].shape[0])\n",
        "print('Qualidade 8: ', dados[dados['quality']==8].shape[0])\n",
        "print('Qualidade 9: ', dados[dados['quality']==9].shape[0])\n",
        "print('Qualidade 10: ', dados[dados['quality']==10].shape[0])"
      ],
      "execution_count": null,
      "outputs": []
    },
    {
      "cell_type": "markdown",
      "metadata": {
        "id": "IrCArsLCmEVx",
        "colab_type": "text"
      },
      "source": [
        "* Podemos verificar a distribuição de alguns atributos que podem ser importantes para a classificação dos vinho."
      ]
    },
    {
      "cell_type": "code",
      "metadata": {
        "id": "dbPvGeGceyM6",
        "colab_type": "code",
        "colab": {}
      },
      "source": [
        "#verificando a distribuição do atibuto pH \n",
        "plt.hist(dados['pH'],10)\n",
        "plt.ylabel('Quantidade')\n",
        "plt.title('distribuição do  pH')\n",
        "plt.grid(True)\n",
        "plt.show()"
      ],
      "execution_count": null,
      "outputs": []
    },
    {
      "cell_type": "markdown",
      "metadata": {
        "id": "6xxp3F8vipFP",
        "colab_type": "text"
      },
      "source": [
        "* O PH dos vinhos não passam de 4.0 e a maior ocorrência é de vinhos com PH entre 3.2 e 3.4. "
      ]
    },
    {
      "cell_type": "code",
      "metadata": {
        "id": "0cJoIoNLi4g8",
        "colab_type": "code",
        "colab": {}
      },
      "source": [
        "#verificando a distribuição do atibuto álcool\n",
        "plt.hist(dados['alcohol'], 10)\n",
        "plt.ylabel('Quantidade')\n",
        "plt.title('Ocorrências do Atributo álcool')\n",
        "plt.grid(True)\n",
        "plt.show()"
      ],
      "execution_count": null,
      "outputs": []
    },
    {
      "cell_type": "markdown",
      "metadata": {
        "id": "aA_misNZrhtu",
        "colab_type": "text"
      },
      "source": [
        "* O Teor alcoólico dos vinhos não passam de 15 sendo que a maior ocorrencia de teor alcoólico está entre 9 e 10"
      ]
    },
    {
      "cell_type": "markdown",
      "metadata": {
        "id": "aamiYsQfn6rU",
        "colab_type": "text"
      },
      "source": [
        "* Para ter uma melhor visualização podemos utilizar um gráfico de barras para ver a influência de alguns atributos na qualidade dos vinhos.\n",
        "\n",
        "* Podemos utilizar o gráfico de barras para comparaçoes entre dois atributos, sendo isso o que faremos a seguir. "
      ]
    },
    {
      "cell_type": "markdown",
      "metadata": {
        "id": "xa-dI-U8o88Z",
        "colab_type": "text"
      },
      "source": [
        "**Utilizaremos uma biblioteca chamada seaborn para plotar nossos gráficos de barras. Essa lib é baseada na metaplotlib, utilizaremos ela por questão de facilidade  na plotagem (pelo menos para esse caso facilitou), necessitando basicamente de uma linha de código.**\n",
        "\n",
        "**Mas também é possivel utilizar a metaplotlib para gerar o gráfico de barras**\n",
        "\n",
        "**O importe da seaborn foi feito no começo do notebook e foi apelidada de sns.**\n"
      ]
    },
    {
      "cell_type": "markdown",
      "metadata": {
        "id": "KMqWGADe21Yj",
        "colab_type": "text"
      },
      "source": [
        "* Vamos plotar os atibutos para verificar quais influenciam mais na qualidado do vinho. Usaremos o gráfico de barras para fazer comparações entre o atibutos de qualidade e os demais atributos."
      ]
    },
    {
      "cell_type": "code",
      "metadata": {
        "colab_type": "code",
        "id": "fg5G6DuKg6b4",
        "colab": {}
      },
      "source": [
        "\n",
        "#Verificando a influência de alguns atributos para a qualidade do vinho \n",
        "fig = plt.figure(figsize = (10,6))\n",
        "sns.barplot( x = 'quality', y = 'fixed_acidity', data = dados)"
      ],
      "execution_count": null,
      "outputs": []
    },
    {
      "cell_type": "markdown",
      "metadata": {
        "id": "rEgQqNG63uJ0",
        "colab_type": "text"
      },
      "source": [
        "* O ácido fixo possui uma variação por cada pontuação, então, esse atributo não possui muita relação com a qualidade dos vinhos."
      ]
    },
    {
      "cell_type": "code",
      "metadata": {
        "id": "0o4wp2kWsPAB",
        "colab_type": "code",
        "colab": {}
      },
      "source": [
        "#Verificando a influência de alguns atributos para a qualidade do vinho \n",
        "fig = plt.figure(figsize = (10,6))\n",
        "sns.barplot( x = 'quality', y = 'fixed_acidity', data = dados)"
      ],
      "execution_count": null,
      "outputs": []
    },
    {
      "cell_type": "markdown",
      "metadata": {
        "id": "9Sz0ORyuKaE6",
        "colab_type": "text"
      },
      "source": [
        "* Nesse caso vemos que a ácidez fixa não influência muito na qualidade do vinho "
      ]
    },
    {
      "cell_type": "code",
      "metadata": {
        "id": "J6vijY-oKLkG",
        "colab_type": "code",
        "colab": {}
      },
      "source": [
        "#Verificando a influência da acidez volatil na qualidade do vinh, \n",
        "#vemos que há uma queda na acidez volátil conforme aumentamos a qualidade\n",
        "fig = plt.figure(figsize = (10,6))\n",
        "sns.barplot( x = 'quality', y = 'volatile_acidity', data = dados)"
      ],
      "execution_count": null,
      "outputs": []
    },
    {
      "cell_type": "markdown",
      "metadata": {
        "id": "wOIDrpe8M9rV",
        "colab_type": "text"
      },
      "source": [
        "* Vemos que com o aumento da qualidade acontece uma diminuição da acidez volátil"
      ]
    },
    {
      "cell_type": "code",
      "metadata": {
        "id": "w6jJL5WjvSR4",
        "colab_type": "code",
        "colab": {}
      },
      "source": [
        "#Verificando a influência do acido citrico na qualidade do vinho\n",
        "fig = plt.figure(figsize = (10,6))\n",
        "sns.barplot( x = 'quality', y = 'citric_acid', data = dados)"
      ],
      "execution_count": null,
      "outputs": []
    },
    {
      "cell_type": "markdown",
      "metadata": {
        "id": "vgvBxzMK4cnK",
        "colab_type": "text"
      },
      "source": [
        "* O ácido cítrico possui um crescimento conforme a qualidade do vinho também aumenta, possivelmente possui uma grande relação com a qualidade."
      ]
    },
    {
      "cell_type": "code",
      "metadata": {
        "id": "bO0lMksbxPZP",
        "colab_type": "code",
        "colab": {}
      },
      "source": [
        "#Verificando a influencia do açucar residual na qualidade do vinho\n",
        "fig = plt.figure(figsize = (10,6))\n",
        "sns.barplot( x = 'quality', y = 'residual_sugar', data = dados)"
      ],
      "execution_count": null,
      "outputs": []
    },
    {
      "cell_type": "code",
      "metadata": {
        "id": "W0fuJkokyQ-w",
        "colab_type": "code",
        "colab": {}
      },
      "source": [
        "#Verificando a influência do cloreto na qualidade do vinho\n",
        "fig = plt.figure(figsize = (10,6))\n",
        "sns.barplot( x = 'quality', y = 'chlorides', data = dados)"
      ],
      "execution_count": null,
      "outputs": []
    },
    {
      "cell_type": "code",
      "metadata": {
        "id": "XsKxJeh_R5hN",
        "colab_type": "code",
        "colab": {}
      },
      "source": [
        "#Verificando a influencia do dioxido de enxofre na qualidade do vinho\n",
        "fig = plt.figure(figsize = (10,6))\n",
        "sns.barplot( x = 'quality', y = 'free_sulfur_dioxide', data = dados)"
      ],
      "execution_count": null,
      "outputs": []
    },
    {
      "cell_type": "code",
      "metadata": {
        "id": "ACPvkFIXUxFr",
        "colab_type": "code",
        "colab": {}
      },
      "source": [
        "#Verificando a influencia do total de dioxido de enxofre na qualidade do vinho\n",
        "fig = plt.figure(figsize = (10,6))\n",
        "sns.barplot( x = 'quality', y = 'total_sulfur_dioxide', data = dados)"
      ],
      "execution_count": null,
      "outputs": []
    },
    {
      "cell_type": "code",
      "metadata": {
        "id": "zDtVwyIsUyn8",
        "colab_type": "code",
        "colab": {}
      },
      "source": [
        "#Verificando a influência do density na qualidade do vinho\n",
        "fig = plt.figure(figsize = (10,6))\n",
        "sns.barplot( x = 'quality', y = 'density', data = dados)"
      ],
      "execution_count": null,
      "outputs": []
    },
    {
      "cell_type": "code",
      "metadata": {
        "id": "d_3I_i9SV_lI",
        "colab_type": "code",
        "colab": {}
      },
      "source": [
        "#Verificando a influência do pH na qualidade do vinho\n",
        "fig = plt.figure(figsize = (10,6))\n",
        "sns.barplot( x = 'quality', y = 'pH', data = dados)"
      ],
      "execution_count": null,
      "outputs": []
    },
    {
      "cell_type": "code",
      "metadata": {
        "id": "EOGMQChYNA12",
        "colab_type": "code",
        "colab": {}
      },
      "source": [
        "#Verificando a influência do sulfato na qualidade do vinho\n",
        "#vemos que há um aumento na qualidade do vinho confrome aumenta a quantidade de sulfato\n",
        "fig = plt.figure(figsize = (10,6))\n",
        "sns.barplot( x = 'quality', y = 'sulphates', data = dados)"
      ],
      "execution_count": null,
      "outputs": []
    },
    {
      "cell_type": "code",
      "metadata": {
        "id": "2tWMJn5Ta87m",
        "colab_type": "code",
        "colab": {}
      },
      "source": [
        "#Verificando a influência do álcool na qualidade do vinho\n",
        "#Com o álcool acontece algo parecido com o que aconteceu com o sulfato. Porém, se diferência pela quantidade que tem pouca variação entre as pontuações de qualidade. \n",
        "fig = plt.figure(figsize = (10,6))\n",
        "sns.barplot( x = 'quality', y = 'alcohol', data = dados)"
      ],
      "execution_count": null,
      "outputs": []
    },
    {
      "cell_type": "markdown",
      "metadata": {
        "id": "QdPlWnVC__hj",
        "colab_type": "text"
      },
      "source": [
        "* Vemos no plot acima que o alchool influência um pouco na qualidade do vinho. Os vinhos com maior teor alcoólico estão com pontuação maior de qualidade.\n",
        "* Existem três atibutos que mais influênciam na qualidade do vinho, são eles: Ácidez citrica, Sulfato e o álcool."
      ]
    },
    {
      "cell_type": "markdown",
      "metadata": {
        "id": "o0b8UtVxDbCr",
        "colab_type": "text"
      },
      "source": [
        "* Então, Vamos visualizar a probabilidade desses atributos\n"
      ]
    },
    {
      "cell_type": "code",
      "metadata": {
        "id": "F9ZgaWi4Wc_E",
        "colab_type": "code",
        "colab": {}
      },
      "source": [
        "# Verificando a probabilidade da ácidez citrica\n",
        "sns.distplot(dados.citric_acid, hist=False, rug=False,label='qualidade')\n",
        "plt.ylabel('Probabilidades')\n",
        "plt.title('Ocorrências do Atributo Acidez Citrica')\n",
        "plt.show()"
      ],
      "execution_count": null,
      "outputs": []
    },
    {
      "cell_type": "code",
      "metadata": {
        "id": "Jt0CKVOQDQBv",
        "colab_type": "code",
        "colab": {}
      },
      "source": [
        "#Verificando o atibuto sulfato\n",
        "sns.distplot(dados.sulphates, hist=False, rug=False,label='qualidade')\n",
        "plt.ylabel('Probabilidades')\n",
        "plt.title('Ocorrências do Atributo Sulfato')\n",
        "plt.show()"
      ],
      "execution_count": null,
      "outputs": []
    },
    {
      "cell_type": "code",
      "metadata": {
        "id": "mgq0wzCDDzWL",
        "colab_type": "code",
        "colab": {}
      },
      "source": [
        "#Verificado o atributo Álcool\n",
        "sns.distplot(dados.alcohol, hist=False, rug=False,label='qualidade')\n",
        "plt.ylabel('Probabilidades')\n",
        "plt.title('Ocorrências do Atributo Alcool')\n",
        "plt.show()"
      ],
      "execution_count": null,
      "outputs": []
    },
    {
      "cell_type": "markdown",
      "metadata": {
        "id": "kIMQWtvIU5Q3",
        "colab_type": "text"
      },
      "source": [
        "**Boxpot**\n",
        "\n",
        "verificando os pontos fora da curva, a mediana, e os quartis do atributo ácidez citrica"
      ]
    },
    {
      "cell_type": "code",
      "metadata": {
        "id": "Q3uxCHEwU4DB",
        "colab_type": "code",
        "colab": {}
      },
      "source": [
        "#plotando um dos atributos que tiveram maior influencia com a qualidade do vinho\n",
        "plt.boxplot(dados.citric_acid)\n",
        "plt.title('Boxplot da Acidez citrica')\n",
        "plt.xlabel('Acidez')\n",
        "plt.grid()\n",
        "plt.show()"
      ],
      "execution_count": null,
      "outputs": []
    },
    {
      "cell_type": "markdown",
      "metadata": {
        "id": "wWyBRvs955n6",
        "colab_type": "text"
      },
      "source": [
        "Vamos separar as classes para poder fazer uma com comparação entre elas."
      ]
    },
    {
      "cell_type": "code",
      "metadata": {
        "id": "JKEWXaC46wMH",
        "colab_type": "code",
        "colab": {}
      },
      "source": [
        "#Visualizando a quantidade de vinhos pelas pontuações de qualidade\n",
        "qualidade_0 = dados[dados['quality']==0].drop(columns=['quality']).reset_index(drop=True)\n",
        "qualidade_1 = dados[dados['quality']==1].drop(columns=['quality']).reset_index(drop=True)\n",
        "qualidade_2 = dados[dados['quality']==2].drop(columns=['quality']).reset_index(drop=True)\n",
        "qualidade_3 = dados[dados['quality']==3].drop(columns=['quality']).reset_index(drop=True)\n",
        "qualidade_4 = dados[dados['quality']==4].drop(columns=['quality']).reset_index(drop=True)\n",
        "qualidade_5 = dados[dados['quality']==5].drop(columns=['quality']).reset_index(drop=True)\n",
        "qualidade_6 = dados[dados['quality']==6].drop(columns=['quality']).reset_index(drop=True)\n",
        "qualidade_7 = dados[dados['quality']==7].drop(columns=['quality']).reset_index(drop=True)\n",
        "qualidade_8 = dados[dados['quality']==8].drop(columns=['quality']).reset_index(drop=True)\n",
        "qualidade_9 = dados[dados['quality']==9].drop(columns=['quality']).reset_index(drop=True)\n",
        "qualidade_10 = dados[dados['quality']==10].drop(columns=['quality']).reset_index(drop=True)"
      ],
      "execution_count": null,
      "outputs": []
    },
    {
      "cell_type": "markdown",
      "metadata": {
        "id": "3bSHmXPrA0mk",
        "colab_type": "text"
      },
      "source": [
        "* Vamos fazer um boxplot das pontuações, da ácidez citrica e também do alcool para ter uma comparação visual desses dados"
      ]
    },
    {
      "cell_type": "code",
      "metadata": {
        "id": "304vhAnBBQtD",
        "colab_type": "code",
        "colab": {}
      },
      "source": [
        "#plotando um dos atributos que tiveram maior influencia com a qualidade do vinho\n",
        "plt.boxplot([qualidade_0.citric_acid,qualidade_1.citric_acid,qualidade_2.citric_acid,qualidade_3.citric_acid,\n",
        "             qualidade_4.citric_acid,qualidade_5.citric_acid,qualidade_6.citric_acid,qualidade_7.citric_acid,\n",
        "             qualidade_8.citric_acid,qualidade_9.citric_acid,qualidade_10.citric_acid],labels=['qualid_0',\n",
        "             'qualid_1','qualid_2','qualid_3','qualid_4','qualid_5','qualid_6','qualid_7','qualid_8',\n",
        "             'qualid_9','qualid_10'])\n",
        "plt.title('Boxplot da Acidez citrica')\n",
        "plt.xlabel('Classes')\n",
        "plt.grid()\n",
        "plt.show()"
      ],
      "execution_count": null,
      "outputs": []
    },
    {
      "cell_type": "code",
      "metadata": {
        "id": "8n6J4rIY_v2j",
        "colab_type": "code",
        "colab": {}
      },
      "source": [
        "#plotando um dos atributos que tiveram maior influencia com a qualidade do vinho\n",
        "plt.boxplot([qualidade_0.alcohol,qualidade_1.alcohol,qualidade_2.alcohol,qualidade_3.alcohol,\n",
        "             qualidade_4.alcohol,qualidade_5.alcohol,qualidade_6.alcohol,qualidade_7.alcohol,\n",
        "             qualidade_8.alcohol,qualidade_9.alcohol,qualidade_10.alcohol],labels=['qualid_0',\n",
        "             'qualid_1','qualid_2','qualid_3','qualid_4','qualid_5','qualid_6','qualid_7','qualid_8',\n",
        "             'qualid_9','qualid_10'])\n",
        "plt.title('Boxplot do Teor Alcoólico')\n",
        "plt.xlabel('Classes')\n",
        "plt.grid()\n",
        "plt.show()"
      ],
      "execution_count": null,
      "outputs": []
    },
    {
      "cell_type": "code",
      "metadata": {
        "id": "UNy9Jwb3_5iB",
        "colab_type": "code",
        "colab": {}
      },
      "source": [
        "# distribuição de probabilidade comparando a area média para as classes\n",
        "sns.distplot(qualidade_0.citric_acid, hist=False, rug=False,label='qualid_0')\n",
        "sns.distplot(qualidade_1.citric_acid, hist=False, rug=False,label='qualid_1')\n",
        "sns.distplot(qualidade_2.citric_acid, hist=False, rug=False,label='qualid_2')\n",
        "sns.distplot(qualidade_3.citric_acid, hist=False, rug=False,label='qualid_3')\n",
        "sns.distplot(qualidade_4.citric_acid, hist=False, rug=False,label='qualid_4')\n",
        "sns.distplot(qualidade_5.citric_acid, hist=False, rug=False,label='qualid_5')\n",
        "sns.distplot(qualidade_6.citric_acid, hist=False, rug=False,label='qualid_6')\n",
        "sns.distplot(qualidade_7.citric_acid, hist=False, rug=False,label='qualid_7')\n",
        "sns.distplot(qualidade_8.citric_acid, hist=False, rug=False,label='qualid_8')\n",
        "sns.distplot(qualidade_9.citric_acid, hist=False, rug=False,label='qualid_9')\n",
        "sns.distplot(qualidade_10.citric_acid, hist=False, rug=False,label='qualid_10')\n",
        "plt.xlabel('Área média')\n",
        "plt.ylabel('Probabilidades')\n",
        "plt.title('Ácidez citrica')\n",
        "plt.show()"
      ],
      "execution_count": null,
      "outputs": []
    },
    {
      "cell_type": "markdown",
      "metadata": {
        "id": "5ZnZtmmOKmgj",
        "colab_type": "text"
      },
      "source": [
        "# Análise estatística dos dados"
      ]
    },
    {
      "cell_type": "markdown",
      "metadata": {
        "id": "wPxVXMi0cY9G",
        "colab_type": "text"
      },
      "source": [
        "* Visualizando as médias de cada pontuação das qualidades dos vinhos"
      ]
    },
    {
      "cell_type": "code",
      "metadata": {
        "id": "pqtp-DmhKmAn",
        "colab_type": "code",
        "colab": {}
      },
      "source": [
        "qualidade_3.mean()"
      ],
      "execution_count": null,
      "outputs": []
    },
    {
      "cell_type": "code",
      "metadata": {
        "id": "JtSaZ7ef4jNP",
        "colab_type": "code",
        "colab": {}
      },
      "source": [
        "qualidade_4.mean()"
      ],
      "execution_count": null,
      "outputs": []
    },
    {
      "cell_type": "code",
      "metadata": {
        "id": "Sw_25Nfq4kLu",
        "colab_type": "code",
        "colab": {}
      },
      "source": [
        "qualidade_5.mean()"
      ],
      "execution_count": null,
      "outputs": []
    },
    {
      "cell_type": "code",
      "metadata": {
        "id": "Mdvh_0784j5Q",
        "colab_type": "code",
        "colab": {}
      },
      "source": [
        "qualidade_6.mean()"
      ],
      "execution_count": null,
      "outputs": []
    },
    {
      "cell_type": "code",
      "metadata": {
        "id": "STRnHUg64iyT",
        "colab_type": "code",
        "colab": {}
      },
      "source": [
        "qualidade_7.mean()"
      ],
      "execution_count": null,
      "outputs": []
    },
    {
      "cell_type": "code",
      "metadata": {
        "id": "SvTjq6o24ib5",
        "colab_type": "code",
        "colab": {}
      },
      "source": [
        "qualidade_8.mean()"
      ],
      "execution_count": null,
      "outputs": []
    },
    {
      "cell_type": "markdown",
      "metadata": {
        "id": "sXb7Rrg3dkVN",
        "colab_type": "text"
      },
      "source": [
        "* **Vamos verificar a correlação existente entre nossos atributos.**\n",
        "\n",
        "* **A correlação serve para medir a relação entre variaveis, em nosso caso, nós ajudará a verificar quais atributos possuem maior relação entre si.**"
      ]
    },
    {
      "cell_type": "code",
      "metadata": {
        "id": "See2dg3WT_CL",
        "colab_type": "code",
        "colab": {}
      },
      "source": [
        "#verificando a correlação dos dados\n",
        "corr = dados.corr()\n",
        "corr"
      ],
      "execution_count": null,
      "outputs": []
    },
    {
      "cell_type": "markdown",
      "metadata": {
        "id": "w5pH3ojWyyUs",
        "colab_type": "text"
      },
      "source": [
        "* O heat map auxilia visualmente na identificação das relações existentes entre os atributos."
      ]
    },
    {
      "cell_type": "code",
      "metadata": {
        "id": "bFVQWOlzW-eY",
        "colab_type": "code",
        "colab": {}
      },
      "source": [
        "#Não possui muita correlação \n",
        "plt.figure(figsize=(8,6))\n",
        "sns.heatmap(corr,vmin=-1, vmax=1, center=0, annot=True, fmt='.2f', cmap=plt.cm.plasma)\n",
        "#sns.diverging_palette(20, 220, n=200)\n"
      ],
      "execution_count": null,
      "outputs": []
    },
    {
      "cell_type": "code",
      "metadata": {
        "id": "MpPYF1BcGGvJ",
        "colab_type": "code",
        "colab": {}
      },
      "source": [
        "plt.figure(figsize=(15,5))\n",
        "plt.subplot(1,3,1)\n",
        "plt.scatter(x=dados.pH[dados.quality>=7],y=dados.alcohol[dados.quality>=7],c='red')\n",
        "plt.scatter(x=dados.pH[dados.quality<7],y=dados.alcohol[dados.quality<7],c='green')\n",
        "plt.xlabel('PH')\n",
        "plt.ylabel('alcohol')\n",
        "plt.legend(['qualidade>=7','qualidade<7'])"
      ],
      "execution_count": null,
      "outputs": []
    },
    {
      "cell_type": "markdown",
      "metadata": {
        "id": "VQJanfIhzlmI",
        "colab_type": "text"
      },
      "source": [
        "# **Faremos uma binarização do nosso target alterando os valores da qualidade do vinho para bom(1) e ruim(0)**"
      ]
    },
    {
      "cell_type": "markdown",
      "metadata": {
        "id": "n2y6DXXvA1Ge",
        "colab_type": "text"
      },
      "source": [
        "* Fazendo classificação binária para a variável de resposta.\n",
        "* Nesse caso vamos dividir em dois intervalos, de 2 - 6.5 e de 6.5 - 8 (bins)"
      ]
    },
    {
      "cell_type": "code",
      "metadata": {
        "id": "PLkKdzS0fqHc",
        "colab_type": "code",
        "colab": {}
      },
      "source": [
        "#Dividindo o vinho em ruim(0) e bom(1) , dando o limite para a qualidade.\n",
        "bins = (2, 6.5, 8)\n",
        "bom_e_ruim = [0, 1]\n",
        "dados['quality'] = pd.cut(dados['quality'], bins = bins, labels = bom_e_ruim)"
      ],
      "execution_count": null,
      "outputs": []
    },
    {
      "cell_type": "code",
      "metadata": {
        "id": "t04jzv4AdkBe",
        "colab_type": "code",
        "colab": {}
      },
      "source": [
        "dados.head()"
      ],
      "execution_count": null,
      "outputs": []
    },
    {
      "cell_type": "code",
      "metadata": {
        "id": "iTuvtwBaf55s",
        "colab_type": "code",
        "colab": {}
      },
      "source": [
        "#Agora vamos atribuir rótulos à nossa variável de qualidade\n",
        "#label_quality = LabelEncoder()\n",
        "#dados['quality'] = label_quality.fit_transform(dados['quality'])\n",
        "#dados['quality'].value_counts()\n",
        "#sns.countplot(dados['quality'])"
      ],
      "execution_count": null,
      "outputs": []
    },
    {
      "cell_type": "markdown",
      "metadata": {
        "id": "3C8Eo2VqA5p0",
        "colab_type": "text"
      },
      "source": [
        "#5 Clusterização\n",
        "* **Agora podemos dividir nossos dados em partes, uma para treino e outra para teste.**\n",
        "* A ideia aqui é dividir os dados uma parte como os atributos descritores e outra com os atributos de classe. \n",
        "\n",
        "* **Atribui todas as colunas a X, exceto a quality:**\n"
      ]
    },
    {
      "cell_type": "code",
      "metadata": {
        "id": "wTPtqlGPBAn7",
        "colab_type": "code",
        "colab": {}
      },
      "source": [
        "#Dividindo meus dados em atibutos descritores e atributos de classe \n",
        "X = dados.iloc[:,:-1]\n",
        "X.head()"
      ],
      "execution_count": null,
      "outputs": []
    },
    {
      "cell_type": "markdown",
      "metadata": {
        "id": "e38ZowKCeCs2",
        "colab_type": "text"
      },
      "source": [
        " * **Fazendo a re-escala dos dados**"
      ]
    },
    {
      "cell_type": "markdown",
      "metadata": {
        "id": "zT3KuMwTTuwu",
        "colab_type": "text"
      },
      "source": [
        "* Poderiamos utilizar outras formas de reescalar em nossos dados, até mesmo uma função pronta para o minimo e o maximo. Algumas reescalas:\n",
        "* **MinMaxScaler:** É feito sobre a coluna, e seu resultado fica com valores de 0s e 1s. \n",
        " * Formula: valor = ( valor — Coluna.min) / (Coluna.max — Coluna.min)\n",
        "\n",
        " * importe: from sklearn.preprocessing import MinMaxScaler\n",
        "* **Normalze:** Age fazendo a reescala dos dados por linhas, diferente do MinMax que faz as reescalas por colunas. \n",
        "\n",
        " * importe: from sklearn.preprocessing import Normalizer\n",
        "* **StandardScaler:**Assim como o MinMax, também age sobre a coluna, a diferença está nos valores que utiliza para fazer a reescala.\n",
        "\n",
        "  * formula: valor = (valor — média) / desvioPadão\n",
        "\n",
        "  * importe: from sklearn.preprocessing import StandardScaler\n"
      ]
    },
    {
      "cell_type": "code",
      "metadata": {
        "id": "MhEBK0mNeSMk",
        "colab_type": "code",
        "colab": {}
      },
      "source": [
        "X = (X - X.min())/(X.max() - X.min())\n",
        "X"
      ],
      "execution_count": null,
      "outputs": []
    },
    {
      "cell_type": "markdown",
      "metadata": {
        "id": "viLqaVQ41Xkd",
        "colab_type": "text"
      },
      "source": [
        "* **Segunda parte dos dados:**"
      ]
    },
    {
      "cell_type": "code",
      "metadata": {
        "id": "i6c-htxUhP3Z",
        "colab_type": "code",
        "colab": {}
      },
      "source": [
        "#dividindo os dados\n",
        "y = dados.quality\n",
        "y.head()"
      ],
      "execution_count": null,
      "outputs": []
    },
    {
      "cell_type": "markdown",
      "metadata": {
        "id": "0nWB-75NUkv6",
        "colab_type": "text"
      },
      "source": [
        "#6 Definindo o algoritmo de aprendizado: Agrupamento com K-means \n",
        "\n"
      ]
    },
    {
      "cell_type": "markdown",
      "metadata": {
        "id": "YM0AsWWHVbmR",
        "colab_type": "text"
      },
      "source": [
        "* **O importe do K-means foi feito no inicio desse notebook**"
      ]
    },
    {
      "cell_type": "markdown",
      "metadata": {
        "id": "1_rY_r7RYCa1",
        "colab_type": "text"
      },
      "source": [
        "* Utilizando o Algoritmo de agrupamento K-means:"
      ]
    },
    {
      "cell_type": "code",
      "metadata": {
        "id": "M5WI9-lnUtM0",
        "colab_type": "code",
        "colab": {}
      },
      "source": [
        "#Definindo o modelo\n",
        "#agrupamento\n",
        "kmeans = KMeans(n_clusters=2)\n",
        "kmeans.fit(X)"
      ],
      "execution_count": null,
      "outputs": []
    },
    {
      "cell_type": "markdown",
      "metadata": {
        "id": "SbsnEhgZFpoa",
        "colab_type": "text"
      },
      "source": [
        "* Aplicando o modelo aos nosso dados de teste."
      ]
    },
    {
      "cell_type": "markdown",
      "metadata": {
        "id": "0Tnb3ZfL2HvT",
        "colab_type": "text"
      },
      "source": [
        "* Usamos a função predict para obter as estimativas do nosso modelo:"
      ]
    },
    {
      "cell_type": "code",
      "metadata": {
        "id": "BDeDx8JCF3S-",
        "colab_type": "code",
        "colab": {}
      },
      "source": [
        "kmeans_labels = kmeans.predict(X)\n",
        "kmeans_labels"
      ],
      "execution_count": null,
      "outputs": []
    },
    {
      "cell_type": "markdown",
      "metadata": {
        "id": "7kzkRUlOsWGm",
        "colab_type": "text"
      },
      "source": [
        "**Visualizando os resultados do nosso agrupamento"
      ]
    },
    {
      "cell_type": "code",
      "metadata": {
        "id": "tlB-jtoRsU5k",
        "colab_type": "code",
        "colab": {}
      },
      "source": [
        "# adicionando as labels ao teste para fins de visualização\n",
        "grupos = pd.DataFrame(kmeans_labels)\n",
        "X.insert((X.shape[1]),'quality',grupos)"
      ],
      "execution_count": null,
      "outputs": []
    },
    {
      "cell_type": "code",
      "metadata": {
        "id": "8zn-NSHfssbh",
        "colab_type": "code",
        "colab": {}
      },
      "source": [
        "bom = X[X['quality']==0]\n",
        "ruim = X[X['quality']==1]"
      ],
      "execution_count": null,
      "outputs": []
    },
    {
      "cell_type": "code",
      "metadata": {
        "id": "eI810Yrgsv2R",
        "colab_type": "code",
        "colab": {}
      },
      "source": [
        "plt.rcParams[\"figure.figsize\"] = (8,5)"
      ],
      "execution_count": null,
      "outputs": []
    },
    {
      "cell_type": "code",
      "metadata": {
        "id": "_FhumubVsweO",
        "colab_type": "code",
        "colab": {}
      },
      "source": [
        "#plotando alguns atributos das classes\n",
        "ax = plt.axes(projection='3d')\n",
        "ax.scatter3D(bom.citric_acid ,bom.sulphates,bom.alcohol ,s=50,label='bom')\n",
        "ax.scatter3D(ruim.citric_acid,ruim.sulphates,ruim.alcohol,s=50,label='ruim')\n",
        "plt.legend()\n",
        "ax.set_xlabel('acidrez citrica')\n",
        "ax.set_ylabel('sulfato')\n",
        "ax.set_zlabel('alcohol')\n",
        "plt.title('Acidez citrica, Sulfato e Alcool dos vinhos')\n",
        "plt.show()"
      ],
      "execution_count": null,
      "outputs": []
    },
    {
      "cell_type": "code",
      "metadata": {
        "id": "qPj8b9mXu-kH",
        "colab_type": "code",
        "colab": {}
      },
      "source": [
        "#plotando alguns atributos das classes\n",
        "ax = plt.axes(projection='3d')\n",
        "ax.scatter3D(bom.citric_acid,bom.sulphates,bom.pH ,s=50,label='bom')\n",
        "ax.scatter3D(ruim.citric_acid,ruim.sulphates,ruim.pH,s=50,label='ruim')\n",
        "plt.legend()\n",
        "ax.set_xlabel('acidrez citrica')\n",
        "ax.set_ylabel('sulfato')\n",
        "ax.set_zlabel('PH')\n",
        "plt.title('Acidez citrica, Sulfato e PH dos vinhos')\n",
        "plt.show()"
      ],
      "execution_count": null,
      "outputs": []
    },
    {
      "cell_type": "code",
      "metadata": {
        "id": "2n-Y712ywS9Y",
        "colab_type": "code",
        "colab": {}
      },
      "source": [
        "plt.rcParams[\"figure.figsize\"] = (25,20)"
      ],
      "execution_count": null,
      "outputs": []
    },
    {
      "cell_type": "code",
      "metadata": {
        "id": "PhdDgawRwOuh",
        "colab_type": "code",
        "colab": {}
      },
      "source": [
        "#plotando comparação de alguns atributos\n",
        "fig, axs = plt.subplots(6,6)\n",
        "for i in range(6):\n",
        "  for j in range(6):\n",
        "    axs[i,j].scatter(bom.iloc[i],bom.iloc[j],label='bom')\n",
        "    axs[i,j].scatter(ruim.iloc[i],ruim.iloc[j],label='ruim')\n",
        "    axs[i,j].set(xlabel=X.columns[i],ylabel=X.columns[j])\n",
        "plt.legend()\n",
        "plt.show()"
      ],
      "execution_count": null,
      "outputs": []
    },
    {
      "cell_type": "markdown",
      "metadata": {
        "id": "_TEQtpt0Igy-",
        "colab_type": "text"
      },
      "source": [
        "# 7 Avaliação do Modelo de Agrupamento\n",
        "* Agora vamos avaliar a taxa de acerto do nosso classificador\n",
        "\n",
        "* Para avaliar iremos verificar: \n",
        "\n",
        " * Accuracy\n",
        " * Índice Rand Ajustado\n",
        " * Scores baseados em informação mútua\n",
        " * Fowlkes-Mallows scores\n",
        " "
      ]
    },
    {
      "cell_type": "markdown",
      "metadata": {
        "id": "9uWUdkQux6Zj",
        "colab_type": "text"
      },
      "source": [
        "**Acurácia**\n",
        "* similar a métrica de classificação"
      ]
    },
    {
      "cell_type": "code",
      "metadata": {
        "id": "LDlPEffOImi0",
        "colab_type": "code",
        "colab": {}
      },
      "source": [
        "#Verificando a acurária\n",
        "acuracia = accuracy_score(y,kmeans_labels)\n",
        "round(acuracia,3)"
      ],
      "execution_count": null,
      "outputs": []
    },
    {
      "cell_type": "markdown",
      "metadata": {
        "id": "FwRT8TIByFeN",
        "colab_type": "text"
      },
      "source": [
        "**Índice Rand Ajustado**\n",
        "* Mede a similaridade de duas atribuições, ignorando permutações\n",
        "  * ignora se as classes são 0,1,2 e 2,1,0, por exemplo\n",
        "* Melhor agrupamento quando valor do índice é próximo de 1\n",
        "* Pior agrupamento quando negativo ou próximo de 0"
      ]
    },
    {
      "cell_type": "code",
      "metadata": {
        "id": "YFVA1mZ_pmiY",
        "colab_type": "code",
        "colab": {}
      },
      "source": [
        "rand_score = adjusted_rand_score(y,kmeans_labels)\n",
        "rand_score"
      ],
      "execution_count": null,
      "outputs": []
    },
    {
      "cell_type": "markdown",
      "metadata": {
        "id": "qWG_DVxBydER",
        "colab_type": "text"
      },
      "source": [
        "**Scores baseados em informação mútua**\n",
        "* Mede a concordância entre duas atribuções, ignorando permutações\n",
        "* Melhor agrupamento quando valor do índice é próximo de 1\n",
        "* Pior agrupamento quando negativo ou próximo de 0"
      ]
    },
    {
      "cell_type": "code",
      "metadata": {
        "id": "c9ciz3RDjVWY",
        "colab_type": "code",
        "colab": {}
      },
      "source": [
        "mutual_info = adjusted_mutual_info_score(y,kmeans_labels)\n",
        "mutual_info"
      ],
      "execution_count": null,
      "outputs": []
    },
    {
      "cell_type": "markdown",
      "metadata": {
        "id": "kO2bltvzy0L3",
        "colab_type": "text"
      },
      "source": [
        "**Fowlkes-Mallows scores**\n",
        "* Calculado como a média geométrica de precisão e recall\n",
        "* Melhor agrupamento quando valor do índice é próximo de 1\n",
        "* Pior agrupamento quando próximo de 0"
      ]
    },
    {
      "cell_type": "code",
      "metadata": {
        "id": "MINPl9S0jV-J",
        "colab_type": "code",
        "colab": {}
      },
      "source": [
        "fm = fowlkes_mallows_score(y,kmeans_labels)\n",
        "fm"
      ],
      "execution_count": null,
      "outputs": []
    },
    {
      "cell_type": "markdown",
      "metadata": {
        "id": "ZCg7YQZ0z2k_",
        "colab_type": "text"
      },
      "source": [
        "**Métricas quando as classes não são conhecidas**\n",
        "* Índice Davies-Boldin\n",
        "* Índice indica uma smiliaridade média entre os grupos\n",
        "* Essa similaridade é a comparação da distância entre os grupos levando em consideração o tamanho dos grupos\n",
        "* Quanto maior o valor, melhor\n",
        "* 0 é o pior resultado"
      ]
    },
    {
      "cell_type": "code",
      "metadata": {
        "id": "560aXD3E0KI2",
        "colab_type": "code",
        "colab": {}
      },
      "source": [
        "#excluindo a coluna diagnóstico\n",
        "X = X.drop(columns=['quality'])"
      ],
      "execution_count": null,
      "outputs": []
    },
    {
      "cell_type": "code",
      "metadata": {
        "id": "OF31g20f0KVx",
        "colab_type": "code",
        "colab": {}
      },
      "source": [
        "db = davies_bouldin_score(X,kmeans_labels)\n",
        "db"
      ],
      "execution_count": null,
      "outputs": []
    },
    {
      "cell_type": "markdown",
      "metadata": {
        "id": "cQ4f66Gh0iZY",
        "colab_type": "text"
      },
      "source": [
        "**Coeficiente de Silhueta**\n",
        "* Considera:\n",
        " * a distância média entre uma instância e todas as instâncias no mesmo grupo\n",
        " * a distância média entre uma instância e todas as instâncias no grupo mais próximo\n",
        "* Quanto maior o valor, melhor\n",
        "* 0 é o pior resultado"
      ]
    },
    {
      "cell_type": "code",
      "metadata": {
        "id": "VKba5GNa0IsD",
        "colab_type": "code",
        "colab": {}
      },
      "source": [
        "ss = silhouette_score(X,kmeans_labels,metric='euclidean')\n",
        "ss"
      ],
      "execution_count": null,
      "outputs": []
    },
    {
      "cell_type": "markdown",
      "metadata": {
        "id": "n48UHJ0r1MaO",
        "colab_type": "text"
      },
      "source": [
        "**Índice Calinski-Harabasz**\n",
        "* Também conhecido como critério da taxa de variância\n",
        "* Mede a dispersão entre grupos e intra-grupos para todos os grupos\n",
        " * a dispersão é a soma das distâncias quadradas\n",
        "* Quanto maior o valor, melhor"
      ]
    },
    {
      "cell_type": "code",
      "metadata": {
        "id": "FbpyZL1P1WTe",
        "colab_type": "code",
        "colab": {}
      },
      "source": [
        "ch = calinski_harabasz_score(X,kmeans_labels)\n",
        "ch"
      ],
      "execution_count": null,
      "outputs": []
    },
    {
      "cell_type": "markdown",
      "metadata": {
        "id": "Wc9nBhIw2he1",
        "colab_type": "text"
      },
      "source": [
        "# 8 Agrupamento Hierárquico"
      ]
    },
    {
      "cell_type": "markdown",
      "metadata": {
        "id": "rTjEv_8z22Uv",
        "colab_type": "text"
      },
      "source": [
        "* Cria-se os grupos a partir das folhas\n",
        "* Cada grupo inicialmente contem uma instância"
      ]
    },
    {
      "cell_type": "code",
      "metadata": {
        "id": "-92QuWvc2oif",
        "colab_type": "code",
        "colab": {}
      },
      "source": [
        "hierarquico = AgglomerativeClustering(n_clusters=2)\n",
        "labels_hierarquico = hierarquico.fit(X).labels_"
      ],
      "execution_count": null,
      "outputs": []
    },
    {
      "cell_type": "code",
      "metadata": {
        "id": "5Y1liSZO4gT4",
        "colab_type": "code",
        "colab": {}
      },
      "source": [
        "labels_hierarquico"
      ],
      "execution_count": null,
      "outputs": []
    },
    {
      "cell_type": "markdown",
      "metadata": {
        "id": "YCHiCAbY4j5C",
        "colab_type": "text"
      },
      "source": [
        "**Avaliando nosso modelo**"
      ]
    },
    {
      "cell_type": "code",
      "metadata": {
        "id": "W56DH0Rc4hII",
        "colab_type": "code",
        "colab": {}
      },
      "source": [
        "#acurácia\n",
        "acuracia = accuracy_score(y,labels_hierarquico)\n",
        "round(acuracia,3)"
      ],
      "execution_count": null,
      "outputs": []
    },
    {
      "cell_type": "code",
      "metadata": {
        "id": "jCWeExeG65FI",
        "colab_type": "code",
        "colab": {}
      },
      "source": [
        "#índice rand ajustado\n",
        "rand_score = adjusted_rand_score(y,labels_hierarquico)\n",
        "rand_score"
      ],
      "execution_count": null,
      "outputs": []
    },
    {
      "cell_type": "code",
      "metadata": {
        "id": "XCWcwvVT62OJ",
        "colab_type": "code",
        "colab": {}
      },
      "source": [
        "#índice baseado em informação mútua\n",
        "mutual_info = adjusted_mutual_info_score(y,labels_hierarquico)\n",
        "mutual_info"
      ],
      "execution_count": null,
      "outputs": []
    },
    {
      "cell_type": "code",
      "metadata": {
        "id": "I5bUI8zV6zwL",
        "colab_type": "code",
        "colab": {}
      },
      "source": [
        "#índice Fowlkes Mallows\n",
        "fm = fowlkes_mallows_score(y,labels_hierarquico)\n",
        "fm"
      ],
      "execution_count": null,
      "outputs": []
    },
    {
      "cell_type": "code",
      "metadata": {
        "id": "528EcDbI6xMQ",
        "colab_type": "code",
        "colab": {}
      },
      "source": [
        "#indice Davies-Boldin\n",
        "db = davies_bouldin_score(X,labels_hierarquico)\n",
        "db"
      ],
      "execution_count": null,
      "outputs": []
    },
    {
      "cell_type": "code",
      "metadata": {
        "id": "oTapwUzO6Sr8",
        "colab_type": "code",
        "colab": {}
      },
      "source": [
        "#coeficiente de silhueta\n",
        "ss = silhouette_score(X,labels_hierarquico,metric='euclidean')\n",
        "ss\n"
      ],
      "execution_count": null,
      "outputs": []
    },
    {
      "cell_type": "code",
      "metadata": {
        "id": "W2tsIx0g6vfT",
        "colab_type": "code",
        "colab": {}
      },
      "source": [
        "#indice de Calinski-Harabasz\n",
        "ch = calinski_harabasz_score(X,labels_hierarquico)\n",
        "ch"
      ],
      "execution_count": null,
      "outputs": []
    },
    {
      "cell_type": "code",
      "metadata": {
        "id": "60VoyW_B67Ix",
        "colab_type": "code",
        "colab": {}
      },
      "source": [
        ""
      ],
      "execution_count": null,
      "outputs": []
    }
  ]
}